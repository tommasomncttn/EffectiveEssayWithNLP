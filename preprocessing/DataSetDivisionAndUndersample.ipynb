{
  "nbformat": 4,
  "nbformat_minor": 0,
  "metadata": {
    "colab": {
      "provenance": []
    },
    "kernelspec": {
      "name": "python3",
      "display_name": "Python 3"
    },
    "language_info": {
      "name": "python"
    }
  },
  "cells": [
    {
      "cell_type": "markdown",
      "source": [
        "### Loading the Data"
      ],
      "metadata": {
        "id": "0NfrLGpIhj-P"
      }
    },
    {
      "cell_type": "code",
      "execution_count": 19,
      "metadata": {
        "id": "VrlwAIpFhTzW"
      },
      "outputs": [],
      "source": [
        "import pandas as pd \n",
        "from sklearn.model_selection import train_test_split\n",
        "\n",
        "df = pd.read_csv(\"/content/train.csv\")\n",
        "\n",
        "train, test = train_test_split(df, test_size = 0.2, random_state = 42)\n",
        "train, validation = train_test_split(train, test_size = 0.2, random_state = 42)"
      ]
    },
    {
      "cell_type": "code",
      "source": [
        "len(train), len(validation), len(test)"
      ],
      "metadata": {
        "colab": {
          "base_uri": "https://localhost:8080/"
        },
        "id": "We4pjxBThvVk",
        "outputId": "2b086a2a-4d33-480b-b894-4d544f3d9ae7"
      },
      "execution_count": 20,
      "outputs": [
        {
          "output_type": "execute_result",
          "data": {
            "text/plain": [
              "(4872, 1218, 1523)"
            ]
          },
          "metadata": {},
          "execution_count": 20
        }
      ]
    },
    {
      "cell_type": "code",
      "source": [
        "test.columns"
      ],
      "metadata": {
        "colab": {
          "base_uri": "https://localhost:8080/"
        },
        "id": "e7XZoO7RimD4",
        "outputId": "6ccaadc0-5b85-43a0-c23c-c471be051ce2"
      },
      "execution_count": 21,
      "outputs": [
        {
          "output_type": "execute_result",
          "data": {
            "text/plain": [
              "Index(['id', 'keyword', 'location', 'text', 'target'], dtype='object')"
            ]
          },
          "metadata": {},
          "execution_count": 21
        }
      ]
    },
    {
      "cell_type": "code",
      "source": [
        "disaster_proportion = test[\"target\"].sum()/len(test)\n",
        "print(f\"proportion => disaster is {disaster_proportion}\")"
      ],
      "metadata": {
        "colab": {
          "base_uri": "https://localhost:8080/"
        },
        "id": "Dxbhzh2uiy6A",
        "outputId": "c2b9f6ea-e1c9-467a-86fd-8cd5f15f7782"
      },
      "execution_count": 22,
      "outputs": [
        {
          "output_type": "stream",
          "name": "stdout",
          "text": [
            "proportion => disaster is 0.4261326329612607\n"
          ]
        }
      ]
    },
    {
      "cell_type": "code",
      "source": [
        "from imblearn.under_sampling import RandomUnderSampler\n",
        "\n",
        "# create an instance of the RandomUnderSampler class\n",
        "undersample = RandomUnderSampler(random_state=42)\n",
        "\n",
        "# separate the input features and target variable\n",
        "X = test.drop('target', axis=1)\n",
        "y = test['target']\n",
        "\n",
        "# fit and apply the transform using the RandomUnderSampler\n",
        "X_over, y_over = undersample.fit_resample(X, y)"
      ],
      "metadata": {
        "id": "5byw2WX2i4nx"
      },
      "execution_count": 23,
      "outputs": []
    },
    {
      "cell_type": "code",
      "source": [
        "# concatenate the undersampled X and y arrays\n",
        "test_undersampled = pd.concat([X_over, y_over], axis=1)\n",
        "\n",
        "# print the shape of the new DataFrame to verify the number of samples\n",
        "print(test_undersampled.shape)"
      ],
      "metadata": {
        "colab": {
          "base_uri": "https://localhost:8080/"
        },
        "id": "xltX7o3kmf6K",
        "outputId": "2509a0cb-7f4d-49a2-ed26-d7b8e3ad29ce"
      },
      "execution_count": 24,
      "outputs": [
        {
          "output_type": "stream",
          "name": "stdout",
          "text": [
            "(1298, 5)\n"
          ]
        }
      ]
    },
    {
      "cell_type": "code",
      "source": [
        "len(test_undersampled)"
      ],
      "metadata": {
        "colab": {
          "base_uri": "https://localhost:8080/"
        },
        "id": "TXgbxFH8mgts",
        "outputId": "8fa7fc78-438c-42d8-e3dd-01a716f60ca1"
      },
      "execution_count": 25,
      "outputs": [
        {
          "output_type": "execute_result",
          "data": {
            "text/plain": [
              "1298"
            ]
          },
          "metadata": {},
          "execution_count": 25
        }
      ]
    },
    {
      "cell_type": "code",
      "source": [
        "disaster_proportion = test_undersampled[\"target\"].sum()/len(test_undersampled)\n",
        "print(f\"proportion => disaster is {disaster_proportion}\")"
      ],
      "metadata": {
        "colab": {
          "base_uri": "https://localhost:8080/"
        },
        "id": "FUt_mP8Wmkgy",
        "outputId": "3a804782-63a3-4d7d-9158-eed66114651e"
      },
      "execution_count": 27,
      "outputs": [
        {
          "output_type": "stream",
          "name": "stdout",
          "text": [
            "proportion => disaster is 0.5\n"
          ]
        }
      ]
    },
    {
      "cell_type": "code",
      "source": [
        "train.to_csv('train_df.csv')\n",
        "validation.to_csv(\"validation_df.csv\")\n",
        "test.to_csv(\"test_df.csv\")\n",
        "test_undersampled.to_csv(\"test_undersampled.csv\")"
      ],
      "metadata": {
        "id": "_fu2iIpvm4aJ"
      },
      "execution_count": 30,
      "outputs": []
    },
    {
      "cell_type": "code",
      "source": [],
      "metadata": {
        "id": "dFDM9GlOnTLg"
      },
      "execution_count": null,
      "outputs": []
    }
  ]
}