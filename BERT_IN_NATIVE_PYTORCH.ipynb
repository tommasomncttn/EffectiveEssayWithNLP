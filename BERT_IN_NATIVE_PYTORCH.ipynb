{
  "nbformat": 4,
  "nbformat_minor": 0,
  "metadata": {
    "colab": {
      "provenance": [],
      "collapsed_sections": [
        "1XugGWDVI6kA",
        "9PLBnS6MJcYF",
        "n-1wBq_yH3N4",
        "81kIG1obOm4u",
        "TYZqxhf6OqWQ",
        "8Pmu_nV0N4lN",
        "cHi5MEO0jWdE",
        "ckxxiG-DhQy4",
        "rmxWMhyrZWXw",
        "aWks1bN-8-3M",
        "w_YDh4OLu32U",
        "g5b4nsnjUp3g",
        "_1NIuwz-x4ie",
        "O1tXNIUm35M4",
        "SAy77l6Ty2a9",
        "aIaLu8sWv1Q-",
        "yJoroGJf5rYD"
      ]
    },
    "kernelspec": {
      "name": "python3",
      "display_name": "Python 3"
    },
    "language_info": {
      "name": "python"
    },
    "accelerator": "GPU",
    "gpuClass": "standard",
    "widgets": {
      "application/vnd.jupyter.widget-state+json": {
        "991301758b8f44b1afbc012be6758150": {
          "model_module": "@jupyter-widgets/controls",
          "model_name": "HBoxModel",
          "model_module_version": "1.5.0",
          "state": {
            "_dom_classes": [],
            "_model_module": "@jupyter-widgets/controls",
            "_model_module_version": "1.5.0",
            "_model_name": "HBoxModel",
            "_view_count": null,
            "_view_module": "@jupyter-widgets/controls",
            "_view_module_version": "1.5.0",
            "_view_name": "HBoxView",
            "box_style": "",
            "children": [
              "IPY_MODEL_c35c9a29d6f94021b88022b1e806b688",
              "IPY_MODEL_31a6026a4f8a43669f010b41f70568ad",
              "IPY_MODEL_7db5a311efaf4c3885d74f536710790d"
            ],
            "layout": "IPY_MODEL_0fffae53e248468eb52ad6636ba59f12"
          }
        },
        "c35c9a29d6f94021b88022b1e806b688": {
          "model_module": "@jupyter-widgets/controls",
          "model_name": "HTMLModel",
          "model_module_version": "1.5.0",
          "state": {
            "_dom_classes": [],
            "_model_module": "@jupyter-widgets/controls",
            "_model_module_version": "1.5.0",
            "_model_name": "HTMLModel",
            "_view_count": null,
            "_view_module": "@jupyter-widgets/controls",
            "_view_module_version": "1.5.0",
            "_view_name": "HTMLView",
            "description": "",
            "description_tooltip": null,
            "layout": "IPY_MODEL_5648ad9daa3943edb81136827c3271d0",
            "placeholder": "​",
            "style": "IPY_MODEL_9eb3ed8794d34c57a3e76bab196f18a4",
            "value": "Map:  99%"
          }
        },
        "31a6026a4f8a43669f010b41f70568ad": {
          "model_module": "@jupyter-widgets/controls",
          "model_name": "FloatProgressModel",
          "model_module_version": "1.5.0",
          "state": {
            "_dom_classes": [],
            "_model_module": "@jupyter-widgets/controls",
            "_model_module_version": "1.5.0",
            "_model_name": "FloatProgressModel",
            "_view_count": null,
            "_view_module": "@jupyter-widgets/controls",
            "_view_module_version": "1.5.0",
            "_view_name": "ProgressView",
            "bar_style": "",
            "description": "",
            "description_tooltip": null,
            "layout": "IPY_MODEL_ba41616618e14f459ea2ac3084d2f646",
            "max": 6090,
            "min": 0,
            "orientation": "horizontal",
            "style": "IPY_MODEL_5c3f236226c24b09a0f737d639fcb637",
            "value": 6090
          }
        },
        "7db5a311efaf4c3885d74f536710790d": {
          "model_module": "@jupyter-widgets/controls",
          "model_name": "HTMLModel",
          "model_module_version": "1.5.0",
          "state": {
            "_dom_classes": [],
            "_model_module": "@jupyter-widgets/controls",
            "_model_module_version": "1.5.0",
            "_model_name": "HTMLModel",
            "_view_count": null,
            "_view_module": "@jupyter-widgets/controls",
            "_view_module_version": "1.5.0",
            "_view_name": "HTMLView",
            "description": "",
            "description_tooltip": null,
            "layout": "IPY_MODEL_ceb3598defe341c3b4664e5b009091be",
            "placeholder": "​",
            "style": "IPY_MODEL_ff709c9144544bf48c53d3772399672a",
            "value": " 6000/6090 [00:01&lt;00:00, 2665.90 examples/s]"
          }
        },
        "0fffae53e248468eb52ad6636ba59f12": {
          "model_module": "@jupyter-widgets/base",
          "model_name": "LayoutModel",
          "model_module_version": "1.2.0",
          "state": {
            "_model_module": "@jupyter-widgets/base",
            "_model_module_version": "1.2.0",
            "_model_name": "LayoutModel",
            "_view_count": null,
            "_view_module": "@jupyter-widgets/base",
            "_view_module_version": "1.2.0",
            "_view_name": "LayoutView",
            "align_content": null,
            "align_items": null,
            "align_self": null,
            "border": null,
            "bottom": null,
            "display": null,
            "flex": null,
            "flex_flow": null,
            "grid_area": null,
            "grid_auto_columns": null,
            "grid_auto_flow": null,
            "grid_auto_rows": null,
            "grid_column": null,
            "grid_gap": null,
            "grid_row": null,
            "grid_template_areas": null,
            "grid_template_columns": null,
            "grid_template_rows": null,
            "height": null,
            "justify_content": null,
            "justify_items": null,
            "left": null,
            "margin": null,
            "max_height": null,
            "max_width": null,
            "min_height": null,
            "min_width": null,
            "object_fit": null,
            "object_position": null,
            "order": null,
            "overflow": null,
            "overflow_x": null,
            "overflow_y": null,
            "padding": null,
            "right": null,
            "top": null,
            "visibility": "hidden",
            "width": null
          }
        },
        "5648ad9daa3943edb81136827c3271d0": {
          "model_module": "@jupyter-widgets/base",
          "model_name": "LayoutModel",
          "model_module_version": "1.2.0",
          "state": {
            "_model_module": "@jupyter-widgets/base",
            "_model_module_version": "1.2.0",
            "_model_name": "LayoutModel",
            "_view_count": null,
            "_view_module": "@jupyter-widgets/base",
            "_view_module_version": "1.2.0",
            "_view_name": "LayoutView",
            "align_content": null,
            "align_items": null,
            "align_self": null,
            "border": null,
            "bottom": null,
            "display": null,
            "flex": null,
            "flex_flow": null,
            "grid_area": null,
            "grid_auto_columns": null,
            "grid_auto_flow": null,
            "grid_auto_rows": null,
            "grid_column": null,
            "grid_gap": null,
            "grid_row": null,
            "grid_template_areas": null,
            "grid_template_columns": null,
            "grid_template_rows": null,
            "height": null,
            "justify_content": null,
            "justify_items": null,
            "left": null,
            "margin": null,
            "max_height": null,
            "max_width": null,
            "min_height": null,
            "min_width": null,
            "object_fit": null,
            "object_position": null,
            "order": null,
            "overflow": null,
            "overflow_x": null,
            "overflow_y": null,
            "padding": null,
            "right": null,
            "top": null,
            "visibility": null,
            "width": null
          }
        },
        "9eb3ed8794d34c57a3e76bab196f18a4": {
          "model_module": "@jupyter-widgets/controls",
          "model_name": "DescriptionStyleModel",
          "model_module_version": "1.5.0",
          "state": {
            "_model_module": "@jupyter-widgets/controls",
            "_model_module_version": "1.5.0",
            "_model_name": "DescriptionStyleModel",
            "_view_count": null,
            "_view_module": "@jupyter-widgets/base",
            "_view_module_version": "1.2.0",
            "_view_name": "StyleView",
            "description_width": ""
          }
        },
        "ba41616618e14f459ea2ac3084d2f646": {
          "model_module": "@jupyter-widgets/base",
          "model_name": "LayoutModel",
          "model_module_version": "1.2.0",
          "state": {
            "_model_module": "@jupyter-widgets/base",
            "_model_module_version": "1.2.0",
            "_model_name": "LayoutModel",
            "_view_count": null,
            "_view_module": "@jupyter-widgets/base",
            "_view_module_version": "1.2.0",
            "_view_name": "LayoutView",
            "align_content": null,
            "align_items": null,
            "align_self": null,
            "border": null,
            "bottom": null,
            "display": null,
            "flex": null,
            "flex_flow": null,
            "grid_area": null,
            "grid_auto_columns": null,
            "grid_auto_flow": null,
            "grid_auto_rows": null,
            "grid_column": null,
            "grid_gap": null,
            "grid_row": null,
            "grid_template_areas": null,
            "grid_template_columns": null,
            "grid_template_rows": null,
            "height": null,
            "justify_content": null,
            "justify_items": null,
            "left": null,
            "margin": null,
            "max_height": null,
            "max_width": null,
            "min_height": null,
            "min_width": null,
            "object_fit": null,
            "object_position": null,
            "order": null,
            "overflow": null,
            "overflow_x": null,
            "overflow_y": null,
            "padding": null,
            "right": null,
            "top": null,
            "visibility": null,
            "width": null
          }
        },
        "5c3f236226c24b09a0f737d639fcb637": {
          "model_module": "@jupyter-widgets/controls",
          "model_name": "ProgressStyleModel",
          "model_module_version": "1.5.0",
          "state": {
            "_model_module": "@jupyter-widgets/controls",
            "_model_module_version": "1.5.0",
            "_model_name": "ProgressStyleModel",
            "_view_count": null,
            "_view_module": "@jupyter-widgets/base",
            "_view_module_version": "1.2.0",
            "_view_name": "StyleView",
            "bar_color": null,
            "description_width": ""
          }
        },
        "ceb3598defe341c3b4664e5b009091be": {
          "model_module": "@jupyter-widgets/base",
          "model_name": "LayoutModel",
          "model_module_version": "1.2.0",
          "state": {
            "_model_module": "@jupyter-widgets/base",
            "_model_module_version": "1.2.0",
            "_model_name": "LayoutModel",
            "_view_count": null,
            "_view_module": "@jupyter-widgets/base",
            "_view_module_version": "1.2.0",
            "_view_name": "LayoutView",
            "align_content": null,
            "align_items": null,
            "align_self": null,
            "border": null,
            "bottom": null,
            "display": null,
            "flex": null,
            "flex_flow": null,
            "grid_area": null,
            "grid_auto_columns": null,
            "grid_auto_flow": null,
            "grid_auto_rows": null,
            "grid_column": null,
            "grid_gap": null,
            "grid_row": null,
            "grid_template_areas": null,
            "grid_template_columns": null,
            "grid_template_rows": null,
            "height": null,
            "justify_content": null,
            "justify_items": null,
            "left": null,
            "margin": null,
            "max_height": null,
            "max_width": null,
            "min_height": null,
            "min_width": null,
            "object_fit": null,
            "object_position": null,
            "order": null,
            "overflow": null,
            "overflow_x": null,
            "overflow_y": null,
            "padding": null,
            "right": null,
            "top": null,
            "visibility": null,
            "width": null
          }
        },
        "ff709c9144544bf48c53d3772399672a": {
          "model_module": "@jupyter-widgets/controls",
          "model_name": "DescriptionStyleModel",
          "model_module_version": "1.5.0",
          "state": {
            "_model_module": "@jupyter-widgets/controls",
            "_model_module_version": "1.5.0",
            "_model_name": "DescriptionStyleModel",
            "_view_count": null,
            "_view_module": "@jupyter-widgets/base",
            "_view_module_version": "1.2.0",
            "_view_name": "StyleView",
            "description_width": ""
          }
        },
        "03045633eb0f4fba85bc15971af7a97c": {
          "model_module": "@jupyter-widgets/controls",
          "model_name": "HBoxModel",
          "model_module_version": "1.5.0",
          "state": {
            "_dom_classes": [],
            "_model_module": "@jupyter-widgets/controls",
            "_model_module_version": "1.5.0",
            "_model_name": "HBoxModel",
            "_view_count": null,
            "_view_module": "@jupyter-widgets/controls",
            "_view_module_version": "1.5.0",
            "_view_name": "HBoxView",
            "box_style": "",
            "children": [
              "IPY_MODEL_b95f4ddcc10b496aaca8a376f795e5a9",
              "IPY_MODEL_6763427c6d7a451cbc218b9bd807d815",
              "IPY_MODEL_be5a67c893ab4b03bf40e7e66f4a73b0"
            ],
            "layout": "IPY_MODEL_5c3df604e5244c24bcda0d2c813ac566"
          }
        },
        "b95f4ddcc10b496aaca8a376f795e5a9": {
          "model_module": "@jupyter-widgets/controls",
          "model_name": "HTMLModel",
          "model_module_version": "1.5.0",
          "state": {
            "_dom_classes": [],
            "_model_module": "@jupyter-widgets/controls",
            "_model_module_version": "1.5.0",
            "_model_name": "HTMLModel",
            "_view_count": null,
            "_view_module": "@jupyter-widgets/controls",
            "_view_module_version": "1.5.0",
            "_view_name": "HTMLView",
            "description": "",
            "description_tooltip": null,
            "layout": "IPY_MODEL_961cc908f163469d8d853b3a8f246c30",
            "placeholder": "​",
            "style": "IPY_MODEL_d279095fcd6b40388c3d7b4e810b5de9",
            "value": "Map: 100%"
          }
        },
        "6763427c6d7a451cbc218b9bd807d815": {
          "model_module": "@jupyter-widgets/controls",
          "model_name": "FloatProgressModel",
          "model_module_version": "1.5.0",
          "state": {
            "_dom_classes": [],
            "_model_module": "@jupyter-widgets/controls",
            "_model_module_version": "1.5.0",
            "_model_name": "FloatProgressModel",
            "_view_count": null,
            "_view_module": "@jupyter-widgets/controls",
            "_view_module_version": "1.5.0",
            "_view_name": "ProgressView",
            "bar_style": "",
            "description": "",
            "description_tooltip": null,
            "layout": "IPY_MODEL_2947b1c43c784f698ebf0346c2183762",
            "max": 1523,
            "min": 0,
            "orientation": "horizontal",
            "style": "IPY_MODEL_b461cc1649fc441a8625be2bd3d6102a",
            "value": 1523
          }
        },
        "be5a67c893ab4b03bf40e7e66f4a73b0": {
          "model_module": "@jupyter-widgets/controls",
          "model_name": "HTMLModel",
          "model_module_version": "1.5.0",
          "state": {
            "_dom_classes": [],
            "_model_module": "@jupyter-widgets/controls",
            "_model_module_version": "1.5.0",
            "_model_name": "HTMLModel",
            "_view_count": null,
            "_view_module": "@jupyter-widgets/controls",
            "_view_module_version": "1.5.0",
            "_view_name": "HTMLView",
            "description": "",
            "description_tooltip": null,
            "layout": "IPY_MODEL_c9f1bc21d4994410b9df1b7fbc36cbf7",
            "placeholder": "​",
            "style": "IPY_MODEL_ac5b83c72c0b498bac810706b9035208",
            "value": " 1523/1523 [00:00&lt;00:00, 1981.31 examples/s]"
          }
        },
        "5c3df604e5244c24bcda0d2c813ac566": {
          "model_module": "@jupyter-widgets/base",
          "model_name": "LayoutModel",
          "model_module_version": "1.2.0",
          "state": {
            "_model_module": "@jupyter-widgets/base",
            "_model_module_version": "1.2.0",
            "_model_name": "LayoutModel",
            "_view_count": null,
            "_view_module": "@jupyter-widgets/base",
            "_view_module_version": "1.2.0",
            "_view_name": "LayoutView",
            "align_content": null,
            "align_items": null,
            "align_self": null,
            "border": null,
            "bottom": null,
            "display": null,
            "flex": null,
            "flex_flow": null,
            "grid_area": null,
            "grid_auto_columns": null,
            "grid_auto_flow": null,
            "grid_auto_rows": null,
            "grid_column": null,
            "grid_gap": null,
            "grid_row": null,
            "grid_template_areas": null,
            "grid_template_columns": null,
            "grid_template_rows": null,
            "height": null,
            "justify_content": null,
            "justify_items": null,
            "left": null,
            "margin": null,
            "max_height": null,
            "max_width": null,
            "min_height": null,
            "min_width": null,
            "object_fit": null,
            "object_position": null,
            "order": null,
            "overflow": null,
            "overflow_x": null,
            "overflow_y": null,
            "padding": null,
            "right": null,
            "top": null,
            "visibility": "hidden",
            "width": null
          }
        },
        "961cc908f163469d8d853b3a8f246c30": {
          "model_module": "@jupyter-widgets/base",
          "model_name": "LayoutModel",
          "model_module_version": "1.2.0",
          "state": {
            "_model_module": "@jupyter-widgets/base",
            "_model_module_version": "1.2.0",
            "_model_name": "LayoutModel",
            "_view_count": null,
            "_view_module": "@jupyter-widgets/base",
            "_view_module_version": "1.2.0",
            "_view_name": "LayoutView",
            "align_content": null,
            "align_items": null,
            "align_self": null,
            "border": null,
            "bottom": null,
            "display": null,
            "flex": null,
            "flex_flow": null,
            "grid_area": null,
            "grid_auto_columns": null,
            "grid_auto_flow": null,
            "grid_auto_rows": null,
            "grid_column": null,
            "grid_gap": null,
            "grid_row": null,
            "grid_template_areas": null,
            "grid_template_columns": null,
            "grid_template_rows": null,
            "height": null,
            "justify_content": null,
            "justify_items": null,
            "left": null,
            "margin": null,
            "max_height": null,
            "max_width": null,
            "min_height": null,
            "min_width": null,
            "object_fit": null,
            "object_position": null,
            "order": null,
            "overflow": null,
            "overflow_x": null,
            "overflow_y": null,
            "padding": null,
            "right": null,
            "top": null,
            "visibility": null,
            "width": null
          }
        },
        "d279095fcd6b40388c3d7b4e810b5de9": {
          "model_module": "@jupyter-widgets/controls",
          "model_name": "DescriptionStyleModel",
          "model_module_version": "1.5.0",
          "state": {
            "_model_module": "@jupyter-widgets/controls",
            "_model_module_version": "1.5.0",
            "_model_name": "DescriptionStyleModel",
            "_view_count": null,
            "_view_module": "@jupyter-widgets/base",
            "_view_module_version": "1.2.0",
            "_view_name": "StyleView",
            "description_width": ""
          }
        },
        "2947b1c43c784f698ebf0346c2183762": {
          "model_module": "@jupyter-widgets/base",
          "model_name": "LayoutModel",
          "model_module_version": "1.2.0",
          "state": {
            "_model_module": "@jupyter-widgets/base",
            "_model_module_version": "1.2.0",
            "_model_name": "LayoutModel",
            "_view_count": null,
            "_view_module": "@jupyter-widgets/base",
            "_view_module_version": "1.2.0",
            "_view_name": "LayoutView",
            "align_content": null,
            "align_items": null,
            "align_self": null,
            "border": null,
            "bottom": null,
            "display": null,
            "flex": null,
            "flex_flow": null,
            "grid_area": null,
            "grid_auto_columns": null,
            "grid_auto_flow": null,
            "grid_auto_rows": null,
            "grid_column": null,
            "grid_gap": null,
            "grid_row": null,
            "grid_template_areas": null,
            "grid_template_columns": null,
            "grid_template_rows": null,
            "height": null,
            "justify_content": null,
            "justify_items": null,
            "left": null,
            "margin": null,
            "max_height": null,
            "max_width": null,
            "min_height": null,
            "min_width": null,
            "object_fit": null,
            "object_position": null,
            "order": null,
            "overflow": null,
            "overflow_x": null,
            "overflow_y": null,
            "padding": null,
            "right": null,
            "top": null,
            "visibility": null,
            "width": null
          }
        },
        "b461cc1649fc441a8625be2bd3d6102a": {
          "model_module": "@jupyter-widgets/controls",
          "model_name": "ProgressStyleModel",
          "model_module_version": "1.5.0",
          "state": {
            "_model_module": "@jupyter-widgets/controls",
            "_model_module_version": "1.5.0",
            "_model_name": "ProgressStyleModel",
            "_view_count": null,
            "_view_module": "@jupyter-widgets/base",
            "_view_module_version": "1.2.0",
            "_view_name": "StyleView",
            "bar_color": null,
            "description_width": ""
          }
        },
        "c9f1bc21d4994410b9df1b7fbc36cbf7": {
          "model_module": "@jupyter-widgets/base",
          "model_name": "LayoutModel",
          "model_module_version": "1.2.0",
          "state": {
            "_model_module": "@jupyter-widgets/base",
            "_model_module_version": "1.2.0",
            "_model_name": "LayoutModel",
            "_view_count": null,
            "_view_module": "@jupyter-widgets/base",
            "_view_module_version": "1.2.0",
            "_view_name": "LayoutView",
            "align_content": null,
            "align_items": null,
            "align_self": null,
            "border": null,
            "bottom": null,
            "display": null,
            "flex": null,
            "flex_flow": null,
            "grid_area": null,
            "grid_auto_columns": null,
            "grid_auto_flow": null,
            "grid_auto_rows": null,
            "grid_column": null,
            "grid_gap": null,
            "grid_row": null,
            "grid_template_areas": null,
            "grid_template_columns": null,
            "grid_template_rows": null,
            "height": null,
            "justify_content": null,
            "justify_items": null,
            "left": null,
            "margin": null,
            "max_height": null,
            "max_width": null,
            "min_height": null,
            "min_width": null,
            "object_fit": null,
            "object_position": null,
            "order": null,
            "overflow": null,
            "overflow_x": null,
            "overflow_y": null,
            "padding": null,
            "right": null,
            "top": null,
            "visibility": null,
            "width": null
          }
        },
        "ac5b83c72c0b498bac810706b9035208": {
          "model_module": "@jupyter-widgets/controls",
          "model_name": "DescriptionStyleModel",
          "model_module_version": "1.5.0",
          "state": {
            "_model_module": "@jupyter-widgets/controls",
            "_model_module_version": "1.5.0",
            "_model_name": "DescriptionStyleModel",
            "_view_count": null,
            "_view_module": "@jupyter-widgets/base",
            "_view_module_version": "1.2.0",
            "_view_name": "StyleView",
            "description_width": ""
          }
        },
        "c444bb60ca6b424b950be965312f0be4": {
          "model_module": "@jupyter-widgets/controls",
          "model_name": "HBoxModel",
          "model_module_version": "1.5.0",
          "state": {
            "_dom_classes": [],
            "_model_module": "@jupyter-widgets/controls",
            "_model_module_version": "1.5.0",
            "_model_name": "HBoxModel",
            "_view_count": null,
            "_view_module": "@jupyter-widgets/controls",
            "_view_module_version": "1.5.0",
            "_view_name": "HBoxView",
            "box_style": "",
            "children": [
              "IPY_MODEL_a5bf5c763e2242a6810a1f80c98d9026",
              "IPY_MODEL_eb93f9c58bdd45bd87d4f62ef9ead53a",
              "IPY_MODEL_78af5c0bc680464284587200e4e3a510"
            ],
            "layout": "IPY_MODEL_b1bb8d72d91243779bd4bcdb9b3b0337"
          }
        },
        "a5bf5c763e2242a6810a1f80c98d9026": {
          "model_module": "@jupyter-widgets/controls",
          "model_name": "HTMLModel",
          "model_module_version": "1.5.0",
          "state": {
            "_dom_classes": [],
            "_model_module": "@jupyter-widgets/controls",
            "_model_module_version": "1.5.0",
            "_model_name": "HTMLModel",
            "_view_count": null,
            "_view_module": "@jupyter-widgets/controls",
            "_view_module_version": "1.5.0",
            "_view_name": "HTMLView",
            "description": "",
            "description_tooltip": null,
            "layout": "IPY_MODEL_b883f03024a64395b525bffca1d69a0f",
            "placeholder": "​",
            "style": "IPY_MODEL_7515d59a2f9947438f5083946728f29e",
            "value": "Map:  99%"
          }
        },
        "eb93f9c58bdd45bd87d4f62ef9ead53a": {
          "model_module": "@jupyter-widgets/controls",
          "model_name": "FloatProgressModel",
          "model_module_version": "1.5.0",
          "state": {
            "_dom_classes": [],
            "_model_module": "@jupyter-widgets/controls",
            "_model_module_version": "1.5.0",
            "_model_name": "FloatProgressModel",
            "_view_count": null,
            "_view_module": "@jupyter-widgets/controls",
            "_view_module_version": "1.5.0",
            "_view_name": "ProgressView",
            "bar_style": "",
            "description": "",
            "description_tooltip": null,
            "layout": "IPY_MODEL_508db77d3dc74fd5bfbeadae9e618171",
            "max": 6090,
            "min": 0,
            "orientation": "horizontal",
            "style": "IPY_MODEL_77ed8ca436b14fd788278d8a4fabb11f",
            "value": 6090
          }
        },
        "78af5c0bc680464284587200e4e3a510": {
          "model_module": "@jupyter-widgets/controls",
          "model_name": "HTMLModel",
          "model_module_version": "1.5.0",
          "state": {
            "_dom_classes": [],
            "_model_module": "@jupyter-widgets/controls",
            "_model_module_version": "1.5.0",
            "_model_name": "HTMLModel",
            "_view_count": null,
            "_view_module": "@jupyter-widgets/controls",
            "_view_module_version": "1.5.0",
            "_view_name": "HTMLView",
            "description": "",
            "description_tooltip": null,
            "layout": "IPY_MODEL_b6bd707991464a0da78fb4b24d68a421",
            "placeholder": "​",
            "style": "IPY_MODEL_a5c1fb3f17ad46188ad07e762d477bb2",
            "value": " 6000/6090 [00:03&lt;00:00, 1838.08 examples/s]"
          }
        },
        "b1bb8d72d91243779bd4bcdb9b3b0337": {
          "model_module": "@jupyter-widgets/base",
          "model_name": "LayoutModel",
          "model_module_version": "1.2.0",
          "state": {
            "_model_module": "@jupyter-widgets/base",
            "_model_module_version": "1.2.0",
            "_model_name": "LayoutModel",
            "_view_count": null,
            "_view_module": "@jupyter-widgets/base",
            "_view_module_version": "1.2.0",
            "_view_name": "LayoutView",
            "align_content": null,
            "align_items": null,
            "align_self": null,
            "border": null,
            "bottom": null,
            "display": null,
            "flex": null,
            "flex_flow": null,
            "grid_area": null,
            "grid_auto_columns": null,
            "grid_auto_flow": null,
            "grid_auto_rows": null,
            "grid_column": null,
            "grid_gap": null,
            "grid_row": null,
            "grid_template_areas": null,
            "grid_template_columns": null,
            "grid_template_rows": null,
            "height": null,
            "justify_content": null,
            "justify_items": null,
            "left": null,
            "margin": null,
            "max_height": null,
            "max_width": null,
            "min_height": null,
            "min_width": null,
            "object_fit": null,
            "object_position": null,
            "order": null,
            "overflow": null,
            "overflow_x": null,
            "overflow_y": null,
            "padding": null,
            "right": null,
            "top": null,
            "visibility": "hidden",
            "width": null
          }
        },
        "b883f03024a64395b525bffca1d69a0f": {
          "model_module": "@jupyter-widgets/base",
          "model_name": "LayoutModel",
          "model_module_version": "1.2.0",
          "state": {
            "_model_module": "@jupyter-widgets/base",
            "_model_module_version": "1.2.0",
            "_model_name": "LayoutModel",
            "_view_count": null,
            "_view_module": "@jupyter-widgets/base",
            "_view_module_version": "1.2.0",
            "_view_name": "LayoutView",
            "align_content": null,
            "align_items": null,
            "align_self": null,
            "border": null,
            "bottom": null,
            "display": null,
            "flex": null,
            "flex_flow": null,
            "grid_area": null,
            "grid_auto_columns": null,
            "grid_auto_flow": null,
            "grid_auto_rows": null,
            "grid_column": null,
            "grid_gap": null,
            "grid_row": null,
            "grid_template_areas": null,
            "grid_template_columns": null,
            "grid_template_rows": null,
            "height": null,
            "justify_content": null,
            "justify_items": null,
            "left": null,
            "margin": null,
            "max_height": null,
            "max_width": null,
            "min_height": null,
            "min_width": null,
            "object_fit": null,
            "object_position": null,
            "order": null,
            "overflow": null,
            "overflow_x": null,
            "overflow_y": null,
            "padding": null,
            "right": null,
            "top": null,
            "visibility": null,
            "width": null
          }
        },
        "7515d59a2f9947438f5083946728f29e": {
          "model_module": "@jupyter-widgets/controls",
          "model_name": "DescriptionStyleModel",
          "model_module_version": "1.5.0",
          "state": {
            "_model_module": "@jupyter-widgets/controls",
            "_model_module_version": "1.5.0",
            "_model_name": "DescriptionStyleModel",
            "_view_count": null,
            "_view_module": "@jupyter-widgets/base",
            "_view_module_version": "1.2.0",
            "_view_name": "StyleView",
            "description_width": ""
          }
        },
        "508db77d3dc74fd5bfbeadae9e618171": {
          "model_module": "@jupyter-widgets/base",
          "model_name": "LayoutModel",
          "model_module_version": "1.2.0",
          "state": {
            "_model_module": "@jupyter-widgets/base",
            "_model_module_version": "1.2.0",
            "_model_name": "LayoutModel",
            "_view_count": null,
            "_view_module": "@jupyter-widgets/base",
            "_view_module_version": "1.2.0",
            "_view_name": "LayoutView",
            "align_content": null,
            "align_items": null,
            "align_self": null,
            "border": null,
            "bottom": null,
            "display": null,
            "flex": null,
            "flex_flow": null,
            "grid_area": null,
            "grid_auto_columns": null,
            "grid_auto_flow": null,
            "grid_auto_rows": null,
            "grid_column": null,
            "grid_gap": null,
            "grid_row": null,
            "grid_template_areas": null,
            "grid_template_columns": null,
            "grid_template_rows": null,
            "height": null,
            "justify_content": null,
            "justify_items": null,
            "left": null,
            "margin": null,
            "max_height": null,
            "max_width": null,
            "min_height": null,
            "min_width": null,
            "object_fit": null,
            "object_position": null,
            "order": null,
            "overflow": null,
            "overflow_x": null,
            "overflow_y": null,
            "padding": null,
            "right": null,
            "top": null,
            "visibility": null,
            "width": null
          }
        },
        "77ed8ca436b14fd788278d8a4fabb11f": {
          "model_module": "@jupyter-widgets/controls",
          "model_name": "ProgressStyleModel",
          "model_module_version": "1.5.0",
          "state": {
            "_model_module": "@jupyter-widgets/controls",
            "_model_module_version": "1.5.0",
            "_model_name": "ProgressStyleModel",
            "_view_count": null,
            "_view_module": "@jupyter-widgets/base",
            "_view_module_version": "1.2.0",
            "_view_name": "StyleView",
            "bar_color": null,
            "description_width": ""
          }
        },
        "b6bd707991464a0da78fb4b24d68a421": {
          "model_module": "@jupyter-widgets/base",
          "model_name": "LayoutModel",
          "model_module_version": "1.2.0",
          "state": {
            "_model_module": "@jupyter-widgets/base",
            "_model_module_version": "1.2.0",
            "_model_name": "LayoutModel",
            "_view_count": null,
            "_view_module": "@jupyter-widgets/base",
            "_view_module_version": "1.2.0",
            "_view_name": "LayoutView",
            "align_content": null,
            "align_items": null,
            "align_self": null,
            "border": null,
            "bottom": null,
            "display": null,
            "flex": null,
            "flex_flow": null,
            "grid_area": null,
            "grid_auto_columns": null,
            "grid_auto_flow": null,
            "grid_auto_rows": null,
            "grid_column": null,
            "grid_gap": null,
            "grid_row": null,
            "grid_template_areas": null,
            "grid_template_columns": null,
            "grid_template_rows": null,
            "height": null,
            "justify_content": null,
            "justify_items": null,
            "left": null,
            "margin": null,
            "max_height": null,
            "max_width": null,
            "min_height": null,
            "min_width": null,
            "object_fit": null,
            "object_position": null,
            "order": null,
            "overflow": null,
            "overflow_x": null,
            "overflow_y": null,
            "padding": null,
            "right": null,
            "top": null,
            "visibility": null,
            "width": null
          }
        },
        "a5c1fb3f17ad46188ad07e762d477bb2": {
          "model_module": "@jupyter-widgets/controls",
          "model_name": "DescriptionStyleModel",
          "model_module_version": "1.5.0",
          "state": {
            "_model_module": "@jupyter-widgets/controls",
            "_model_module_version": "1.5.0",
            "_model_name": "DescriptionStyleModel",
            "_view_count": null,
            "_view_module": "@jupyter-widgets/base",
            "_view_module_version": "1.2.0",
            "_view_name": "StyleView",
            "description_width": ""
          }
        },
        "1097acf678fb4b7599442c684cab33f7": {
          "model_module": "@jupyter-widgets/controls",
          "model_name": "HBoxModel",
          "model_module_version": "1.5.0",
          "state": {
            "_dom_classes": [],
            "_model_module": "@jupyter-widgets/controls",
            "_model_module_version": "1.5.0",
            "_model_name": "HBoxModel",
            "_view_count": null,
            "_view_module": "@jupyter-widgets/controls",
            "_view_module_version": "1.5.0",
            "_view_name": "HBoxView",
            "box_style": "",
            "children": [
              "IPY_MODEL_e9c705c8e70c4a0b9a2449542304da38",
              "IPY_MODEL_24ec4aca3b4541b493729191a35085cc",
              "IPY_MODEL_cfa9742778864415a6729b2e520e8f9c"
            ],
            "layout": "IPY_MODEL_dc18d835875b4394aad599aaa4242afc"
          }
        },
        "e9c705c8e70c4a0b9a2449542304da38": {
          "model_module": "@jupyter-widgets/controls",
          "model_name": "HTMLModel",
          "model_module_version": "1.5.0",
          "state": {
            "_dom_classes": [],
            "_model_module": "@jupyter-widgets/controls",
            "_model_module_version": "1.5.0",
            "_model_name": "HTMLModel",
            "_view_count": null,
            "_view_module": "@jupyter-widgets/controls",
            "_view_module_version": "1.5.0",
            "_view_name": "HTMLView",
            "description": "",
            "description_tooltip": null,
            "layout": "IPY_MODEL_54f9e035ddde45e48d8ebdb4ec778a87",
            "placeholder": "​",
            "style": "IPY_MODEL_c490d8eb66c342f2a4824d0bc965e1bd",
            "value": "Map: 100%"
          }
        },
        "24ec4aca3b4541b493729191a35085cc": {
          "model_module": "@jupyter-widgets/controls",
          "model_name": "FloatProgressModel",
          "model_module_version": "1.5.0",
          "state": {
            "_dom_classes": [],
            "_model_module": "@jupyter-widgets/controls",
            "_model_module_version": "1.5.0",
            "_model_name": "FloatProgressModel",
            "_view_count": null,
            "_view_module": "@jupyter-widgets/controls",
            "_view_module_version": "1.5.0",
            "_view_name": "ProgressView",
            "bar_style": "",
            "description": "",
            "description_tooltip": null,
            "layout": "IPY_MODEL_058287dc78d54583a08906b8e6c3a8ad",
            "max": 1523,
            "min": 0,
            "orientation": "horizontal",
            "style": "IPY_MODEL_b72ba64b4a994baf812e7b3de5644e93",
            "value": 1523
          }
        },
        "cfa9742778864415a6729b2e520e8f9c": {
          "model_module": "@jupyter-widgets/controls",
          "model_name": "HTMLModel",
          "model_module_version": "1.5.0",
          "state": {
            "_dom_classes": [],
            "_model_module": "@jupyter-widgets/controls",
            "_model_module_version": "1.5.0",
            "_model_name": "HTMLModel",
            "_view_count": null,
            "_view_module": "@jupyter-widgets/controls",
            "_view_module_version": "1.5.0",
            "_view_name": "HTMLView",
            "description": "",
            "description_tooltip": null,
            "layout": "IPY_MODEL_7b0d78a73d8f4038b926445823661842",
            "placeholder": "​",
            "style": "IPY_MODEL_689a724c186048b29e3ff5388aaaae19",
            "value": " 1523/1523 [00:00&lt;00:00, 3123.51 examples/s]"
          }
        },
        "dc18d835875b4394aad599aaa4242afc": {
          "model_module": "@jupyter-widgets/base",
          "model_name": "LayoutModel",
          "model_module_version": "1.2.0",
          "state": {
            "_model_module": "@jupyter-widgets/base",
            "_model_module_version": "1.2.0",
            "_model_name": "LayoutModel",
            "_view_count": null,
            "_view_module": "@jupyter-widgets/base",
            "_view_module_version": "1.2.0",
            "_view_name": "LayoutView",
            "align_content": null,
            "align_items": null,
            "align_self": null,
            "border": null,
            "bottom": null,
            "display": null,
            "flex": null,
            "flex_flow": null,
            "grid_area": null,
            "grid_auto_columns": null,
            "grid_auto_flow": null,
            "grid_auto_rows": null,
            "grid_column": null,
            "grid_gap": null,
            "grid_row": null,
            "grid_template_areas": null,
            "grid_template_columns": null,
            "grid_template_rows": null,
            "height": null,
            "justify_content": null,
            "justify_items": null,
            "left": null,
            "margin": null,
            "max_height": null,
            "max_width": null,
            "min_height": null,
            "min_width": null,
            "object_fit": null,
            "object_position": null,
            "order": null,
            "overflow": null,
            "overflow_x": null,
            "overflow_y": null,
            "padding": null,
            "right": null,
            "top": null,
            "visibility": "hidden",
            "width": null
          }
        },
        "54f9e035ddde45e48d8ebdb4ec778a87": {
          "model_module": "@jupyter-widgets/base",
          "model_name": "LayoutModel",
          "model_module_version": "1.2.0",
          "state": {
            "_model_module": "@jupyter-widgets/base",
            "_model_module_version": "1.2.0",
            "_model_name": "LayoutModel",
            "_view_count": null,
            "_view_module": "@jupyter-widgets/base",
            "_view_module_version": "1.2.0",
            "_view_name": "LayoutView",
            "align_content": null,
            "align_items": null,
            "align_self": null,
            "border": null,
            "bottom": null,
            "display": null,
            "flex": null,
            "flex_flow": null,
            "grid_area": null,
            "grid_auto_columns": null,
            "grid_auto_flow": null,
            "grid_auto_rows": null,
            "grid_column": null,
            "grid_gap": null,
            "grid_row": null,
            "grid_template_areas": null,
            "grid_template_columns": null,
            "grid_template_rows": null,
            "height": null,
            "justify_content": null,
            "justify_items": null,
            "left": null,
            "margin": null,
            "max_height": null,
            "max_width": null,
            "min_height": null,
            "min_width": null,
            "object_fit": null,
            "object_position": null,
            "order": null,
            "overflow": null,
            "overflow_x": null,
            "overflow_y": null,
            "padding": null,
            "right": null,
            "top": null,
            "visibility": null,
            "width": null
          }
        },
        "c490d8eb66c342f2a4824d0bc965e1bd": {
          "model_module": "@jupyter-widgets/controls",
          "model_name": "DescriptionStyleModel",
          "model_module_version": "1.5.0",
          "state": {
            "_model_module": "@jupyter-widgets/controls",
            "_model_module_version": "1.5.0",
            "_model_name": "DescriptionStyleModel",
            "_view_count": null,
            "_view_module": "@jupyter-widgets/base",
            "_view_module_version": "1.2.0",
            "_view_name": "StyleView",
            "description_width": ""
          }
        },
        "058287dc78d54583a08906b8e6c3a8ad": {
          "model_module": "@jupyter-widgets/base",
          "model_name": "LayoutModel",
          "model_module_version": "1.2.0",
          "state": {
            "_model_module": "@jupyter-widgets/base",
            "_model_module_version": "1.2.0",
            "_model_name": "LayoutModel",
            "_view_count": null,
            "_view_module": "@jupyter-widgets/base",
            "_view_module_version": "1.2.0",
            "_view_name": "LayoutView",
            "align_content": null,
            "align_items": null,
            "align_self": null,
            "border": null,
            "bottom": null,
            "display": null,
            "flex": null,
            "flex_flow": null,
            "grid_area": null,
            "grid_auto_columns": null,
            "grid_auto_flow": null,
            "grid_auto_rows": null,
            "grid_column": null,
            "grid_gap": null,
            "grid_row": null,
            "grid_template_areas": null,
            "grid_template_columns": null,
            "grid_template_rows": null,
            "height": null,
            "justify_content": null,
            "justify_items": null,
            "left": null,
            "margin": null,
            "max_height": null,
            "max_width": null,
            "min_height": null,
            "min_width": null,
            "object_fit": null,
            "object_position": null,
            "order": null,
            "overflow": null,
            "overflow_x": null,
            "overflow_y": null,
            "padding": null,
            "right": null,
            "top": null,
            "visibility": null,
            "width": null
          }
        },
        "b72ba64b4a994baf812e7b3de5644e93": {
          "model_module": "@jupyter-widgets/controls",
          "model_name": "ProgressStyleModel",
          "model_module_version": "1.5.0",
          "state": {
            "_model_module": "@jupyter-widgets/controls",
            "_model_module_version": "1.5.0",
            "_model_name": "ProgressStyleModel",
            "_view_count": null,
            "_view_module": "@jupyter-widgets/base",
            "_view_module_version": "1.2.0",
            "_view_name": "StyleView",
            "bar_color": null,
            "description_width": ""
          }
        },
        "7b0d78a73d8f4038b926445823661842": {
          "model_module": "@jupyter-widgets/base",
          "model_name": "LayoutModel",
          "model_module_version": "1.2.0",
          "state": {
            "_model_module": "@jupyter-widgets/base",
            "_model_module_version": "1.2.0",
            "_model_name": "LayoutModel",
            "_view_count": null,
            "_view_module": "@jupyter-widgets/base",
            "_view_module_version": "1.2.0",
            "_view_name": "LayoutView",
            "align_content": null,
            "align_items": null,
            "align_self": null,
            "border": null,
            "bottom": null,
            "display": null,
            "flex": null,
            "flex_flow": null,
            "grid_area": null,
            "grid_auto_columns": null,
            "grid_auto_flow": null,
            "grid_auto_rows": null,
            "grid_column": null,
            "grid_gap": null,
            "grid_row": null,
            "grid_template_areas": null,
            "grid_template_columns": null,
            "grid_template_rows": null,
            "height": null,
            "justify_content": null,
            "justify_items": null,
            "left": null,
            "margin": null,
            "max_height": null,
            "max_width": null,
            "min_height": null,
            "min_width": null,
            "object_fit": null,
            "object_position": null,
            "order": null,
            "overflow": null,
            "overflow_x": null,
            "overflow_y": null,
            "padding": null,
            "right": null,
            "top": null,
            "visibility": null,
            "width": null
          }
        },
        "689a724c186048b29e3ff5388aaaae19": {
          "model_module": "@jupyter-widgets/controls",
          "model_name": "DescriptionStyleModel",
          "model_module_version": "1.5.0",
          "state": {
            "_model_module": "@jupyter-widgets/controls",
            "_model_module_version": "1.5.0",
            "_model_name": "DescriptionStyleModel",
            "_view_count": null,
            "_view_module": "@jupyter-widgets/base",
            "_view_module_version": "1.2.0",
            "_view_name": "StyleView",
            "description_width": ""
          }
        },
        "816af5f3ea0a4f54a37ccc37f11ea53c": {
          "model_module": "@jupyter-widgets/controls",
          "model_name": "HBoxModel",
          "model_module_version": "1.5.0",
          "state": {
            "_dom_classes": [],
            "_model_module": "@jupyter-widgets/controls",
            "_model_module_version": "1.5.0",
            "_model_name": "HBoxModel",
            "_view_count": null,
            "_view_module": "@jupyter-widgets/controls",
            "_view_module_version": "1.5.0",
            "_view_name": "HBoxView",
            "box_style": "",
            "children": [
              "IPY_MODEL_33a3aa76e9ab46949c23014f52188f94",
              "IPY_MODEL_906b02e276eb4022adc7675534325ea9",
              "IPY_MODEL_f78d64110b6843b2a6d7e2080d6d5e71"
            ],
            "layout": "IPY_MODEL_2ffac6e6ae3d4ffe96b6ac74d240acf2"
          }
        },
        "33a3aa76e9ab46949c23014f52188f94": {
          "model_module": "@jupyter-widgets/controls",
          "model_name": "HTMLModel",
          "model_module_version": "1.5.0",
          "state": {
            "_dom_classes": [],
            "_model_module": "@jupyter-widgets/controls",
            "_model_module_version": "1.5.0",
            "_model_name": "HTMLModel",
            "_view_count": null,
            "_view_module": "@jupyter-widgets/controls",
            "_view_module_version": "1.5.0",
            "_view_name": "HTMLView",
            "description": "",
            "description_tooltip": null,
            "layout": "IPY_MODEL_c0020e0ba50848aa8ce4b5f295d29fc8",
            "placeholder": "​",
            "style": "IPY_MODEL_e88050b378694df3858e6ca09b45d26a",
            "value": "100%"
          }
        },
        "906b02e276eb4022adc7675534325ea9": {
          "model_module": "@jupyter-widgets/controls",
          "model_name": "FloatProgressModel",
          "model_module_version": "1.5.0",
          "state": {
            "_dom_classes": [],
            "_model_module": "@jupyter-widgets/controls",
            "_model_module_version": "1.5.0",
            "_model_name": "FloatProgressModel",
            "_view_count": null,
            "_view_module": "@jupyter-widgets/controls",
            "_view_module_version": "1.5.0",
            "_view_name": "ProgressView",
            "bar_style": "success",
            "description": "",
            "description_tooltip": null,
            "layout": "IPY_MODEL_3ab776d0faff44adb843902bf12249c7",
            "max": 191,
            "min": 0,
            "orientation": "horizontal",
            "style": "IPY_MODEL_acd62c09c1934709850338d85af0f355",
            "value": 191
          }
        },
        "f78d64110b6843b2a6d7e2080d6d5e71": {
          "model_module": "@jupyter-widgets/controls",
          "model_name": "HTMLModel",
          "model_module_version": "1.5.0",
          "state": {
            "_dom_classes": [],
            "_model_module": "@jupyter-widgets/controls",
            "_model_module_version": "1.5.0",
            "_model_name": "HTMLModel",
            "_view_count": null,
            "_view_module": "@jupyter-widgets/controls",
            "_view_module_version": "1.5.0",
            "_view_name": "HTMLView",
            "description": "",
            "description_tooltip": null,
            "layout": "IPY_MODEL_f3c4bf17b08c4ae9b8ad0d305c725d8b",
            "placeholder": "​",
            "style": "IPY_MODEL_d66259b74b924057ae13a728b1ecb497",
            "value": " 191/191 [04:31&lt;00:00,  1.17s/it, train_loss=0.505]"
          }
        },
        "2ffac6e6ae3d4ffe96b6ac74d240acf2": {
          "model_module": "@jupyter-widgets/base",
          "model_name": "LayoutModel",
          "model_module_version": "1.2.0",
          "state": {
            "_model_module": "@jupyter-widgets/base",
            "_model_module_version": "1.2.0",
            "_model_name": "LayoutModel",
            "_view_count": null,
            "_view_module": "@jupyter-widgets/base",
            "_view_module_version": "1.2.0",
            "_view_name": "LayoutView",
            "align_content": null,
            "align_items": null,
            "align_self": null,
            "border": null,
            "bottom": null,
            "display": null,
            "flex": null,
            "flex_flow": null,
            "grid_area": null,
            "grid_auto_columns": null,
            "grid_auto_flow": null,
            "grid_auto_rows": null,
            "grid_column": null,
            "grid_gap": null,
            "grid_row": null,
            "grid_template_areas": null,
            "grid_template_columns": null,
            "grid_template_rows": null,
            "height": null,
            "justify_content": null,
            "justify_items": null,
            "left": null,
            "margin": null,
            "max_height": null,
            "max_width": null,
            "min_height": null,
            "min_width": null,
            "object_fit": null,
            "object_position": null,
            "order": null,
            "overflow": null,
            "overflow_x": null,
            "overflow_y": null,
            "padding": null,
            "right": null,
            "top": null,
            "visibility": null,
            "width": null
          }
        },
        "c0020e0ba50848aa8ce4b5f295d29fc8": {
          "model_module": "@jupyter-widgets/base",
          "model_name": "LayoutModel",
          "model_module_version": "1.2.0",
          "state": {
            "_model_module": "@jupyter-widgets/base",
            "_model_module_version": "1.2.0",
            "_model_name": "LayoutModel",
            "_view_count": null,
            "_view_module": "@jupyter-widgets/base",
            "_view_module_version": "1.2.0",
            "_view_name": "LayoutView",
            "align_content": null,
            "align_items": null,
            "align_self": null,
            "border": null,
            "bottom": null,
            "display": null,
            "flex": null,
            "flex_flow": null,
            "grid_area": null,
            "grid_auto_columns": null,
            "grid_auto_flow": null,
            "grid_auto_rows": null,
            "grid_column": null,
            "grid_gap": null,
            "grid_row": null,
            "grid_template_areas": null,
            "grid_template_columns": null,
            "grid_template_rows": null,
            "height": null,
            "justify_content": null,
            "justify_items": null,
            "left": null,
            "margin": null,
            "max_height": null,
            "max_width": null,
            "min_height": null,
            "min_width": null,
            "object_fit": null,
            "object_position": null,
            "order": null,
            "overflow": null,
            "overflow_x": null,
            "overflow_y": null,
            "padding": null,
            "right": null,
            "top": null,
            "visibility": null,
            "width": null
          }
        },
        "e88050b378694df3858e6ca09b45d26a": {
          "model_module": "@jupyter-widgets/controls",
          "model_name": "DescriptionStyleModel",
          "model_module_version": "1.5.0",
          "state": {
            "_model_module": "@jupyter-widgets/controls",
            "_model_module_version": "1.5.0",
            "_model_name": "DescriptionStyleModel",
            "_view_count": null,
            "_view_module": "@jupyter-widgets/base",
            "_view_module_version": "1.2.0",
            "_view_name": "StyleView",
            "description_width": ""
          }
        },
        "3ab776d0faff44adb843902bf12249c7": {
          "model_module": "@jupyter-widgets/base",
          "model_name": "LayoutModel",
          "model_module_version": "1.2.0",
          "state": {
            "_model_module": "@jupyter-widgets/base",
            "_model_module_version": "1.2.0",
            "_model_name": "LayoutModel",
            "_view_count": null,
            "_view_module": "@jupyter-widgets/base",
            "_view_module_version": "1.2.0",
            "_view_name": "LayoutView",
            "align_content": null,
            "align_items": null,
            "align_self": null,
            "border": null,
            "bottom": null,
            "display": null,
            "flex": null,
            "flex_flow": null,
            "grid_area": null,
            "grid_auto_columns": null,
            "grid_auto_flow": null,
            "grid_auto_rows": null,
            "grid_column": null,
            "grid_gap": null,
            "grid_row": null,
            "grid_template_areas": null,
            "grid_template_columns": null,
            "grid_template_rows": null,
            "height": null,
            "justify_content": null,
            "justify_items": null,
            "left": null,
            "margin": null,
            "max_height": null,
            "max_width": null,
            "min_height": null,
            "min_width": null,
            "object_fit": null,
            "object_position": null,
            "order": null,
            "overflow": null,
            "overflow_x": null,
            "overflow_y": null,
            "padding": null,
            "right": null,
            "top": null,
            "visibility": null,
            "width": null
          }
        },
        "acd62c09c1934709850338d85af0f355": {
          "model_module": "@jupyter-widgets/controls",
          "model_name": "ProgressStyleModel",
          "model_module_version": "1.5.0",
          "state": {
            "_model_module": "@jupyter-widgets/controls",
            "_model_module_version": "1.5.0",
            "_model_name": "ProgressStyleModel",
            "_view_count": null,
            "_view_module": "@jupyter-widgets/base",
            "_view_module_version": "1.2.0",
            "_view_name": "StyleView",
            "bar_color": null,
            "description_width": ""
          }
        },
        "f3c4bf17b08c4ae9b8ad0d305c725d8b": {
          "model_module": "@jupyter-widgets/base",
          "model_name": "LayoutModel",
          "model_module_version": "1.2.0",
          "state": {
            "_model_module": "@jupyter-widgets/base",
            "_model_module_version": "1.2.0",
            "_model_name": "LayoutModel",
            "_view_count": null,
            "_view_module": "@jupyter-widgets/base",
            "_view_module_version": "1.2.0",
            "_view_name": "LayoutView",
            "align_content": null,
            "align_items": null,
            "align_self": null,
            "border": null,
            "bottom": null,
            "display": null,
            "flex": null,
            "flex_flow": null,
            "grid_area": null,
            "grid_auto_columns": null,
            "grid_auto_flow": null,
            "grid_auto_rows": null,
            "grid_column": null,
            "grid_gap": null,
            "grid_row": null,
            "grid_template_areas": null,
            "grid_template_columns": null,
            "grid_template_rows": null,
            "height": null,
            "justify_content": null,
            "justify_items": null,
            "left": null,
            "margin": null,
            "max_height": null,
            "max_width": null,
            "min_height": null,
            "min_width": null,
            "object_fit": null,
            "object_position": null,
            "order": null,
            "overflow": null,
            "overflow_x": null,
            "overflow_y": null,
            "padding": null,
            "right": null,
            "top": null,
            "visibility": null,
            "width": null
          }
        },
        "d66259b74b924057ae13a728b1ecb497": {
          "model_module": "@jupyter-widgets/controls",
          "model_name": "DescriptionStyleModel",
          "model_module_version": "1.5.0",
          "state": {
            "_model_module": "@jupyter-widgets/controls",
            "_model_module_version": "1.5.0",
            "_model_name": "DescriptionStyleModel",
            "_view_count": null,
            "_view_module": "@jupyter-widgets/base",
            "_view_module_version": "1.2.0",
            "_view_name": "StyleView",
            "description_width": ""
          }
        },
        "5768f318b3724a9ca2ecdf3304c6f9c6": {
          "model_module": "@jupyter-widgets/controls",
          "model_name": "HBoxModel",
          "model_module_version": "1.5.0",
          "state": {
            "_dom_classes": [],
            "_model_module": "@jupyter-widgets/controls",
            "_model_module_version": "1.5.0",
            "_model_name": "HBoxModel",
            "_view_count": null,
            "_view_module": "@jupyter-widgets/controls",
            "_view_module_version": "1.5.0",
            "_view_name": "HBoxView",
            "box_style": "",
            "children": [
              "IPY_MODEL_909cae98b38a42a3b2f0336b6e4067e2",
              "IPY_MODEL_9611bd153d72436c91734679ab3c2bc7",
              "IPY_MODEL_96ec4017de4646a2902800a5ae9fe46c"
            ],
            "layout": "IPY_MODEL_58e98e86f6a145df9e8b493ded8e744b"
          }
        },
        "909cae98b38a42a3b2f0336b6e4067e2": {
          "model_module": "@jupyter-widgets/controls",
          "model_name": "HTMLModel",
          "model_module_version": "1.5.0",
          "state": {
            "_dom_classes": [],
            "_model_module": "@jupyter-widgets/controls",
            "_model_module_version": "1.5.0",
            "_model_name": "HTMLModel",
            "_view_count": null,
            "_view_module": "@jupyter-widgets/controls",
            "_view_module_version": "1.5.0",
            "_view_name": "HTMLView",
            "description": "",
            "description_tooltip": null,
            "layout": "IPY_MODEL_116e907c6663427e86f76a303cb316fa",
            "placeholder": "​",
            "style": "IPY_MODEL_50e1f2553061495ba9292801a3d2805f",
            "value": "100%"
          }
        },
        "9611bd153d72436c91734679ab3c2bc7": {
          "model_module": "@jupyter-widgets/controls",
          "model_name": "FloatProgressModel",
          "model_module_version": "1.5.0",
          "state": {
            "_dom_classes": [],
            "_model_module": "@jupyter-widgets/controls",
            "_model_module_version": "1.5.0",
            "_model_name": "FloatProgressModel",
            "_view_count": null,
            "_view_module": "@jupyter-widgets/controls",
            "_view_module_version": "1.5.0",
            "_view_name": "ProgressView",
            "bar_style": "success",
            "description": "",
            "description_tooltip": null,
            "layout": "IPY_MODEL_a734be3471da45348c4fbd60bcacaaff",
            "max": 48,
            "min": 0,
            "orientation": "horizontal",
            "style": "IPY_MODEL_e16f875b924b4d70b7e2e93a8911fee7",
            "value": 48
          }
        },
        "96ec4017de4646a2902800a5ae9fe46c": {
          "model_module": "@jupyter-widgets/controls",
          "model_name": "HTMLModel",
          "model_module_version": "1.5.0",
          "state": {
            "_dom_classes": [],
            "_model_module": "@jupyter-widgets/controls",
            "_model_module_version": "1.5.0",
            "_model_name": "HTMLModel",
            "_view_count": null,
            "_view_module": "@jupyter-widgets/controls",
            "_view_module_version": "1.5.0",
            "_view_name": "HTMLView",
            "description": "",
            "description_tooltip": null,
            "layout": "IPY_MODEL_40decbde8a074c3d8b1b4e8b78f110d3",
            "placeholder": "​",
            "style": "IPY_MODEL_8405b839422b44e59d4c1776d0117e21",
            "value": " 48/48 [00:23&lt;00:00,  2.28it/s]"
          }
        },
        "58e98e86f6a145df9e8b493ded8e744b": {
          "model_module": "@jupyter-widgets/base",
          "model_name": "LayoutModel",
          "model_module_version": "1.2.0",
          "state": {
            "_model_module": "@jupyter-widgets/base",
            "_model_module_version": "1.2.0",
            "_model_name": "LayoutModel",
            "_view_count": null,
            "_view_module": "@jupyter-widgets/base",
            "_view_module_version": "1.2.0",
            "_view_name": "LayoutView",
            "align_content": null,
            "align_items": null,
            "align_self": null,
            "border": null,
            "bottom": null,
            "display": null,
            "flex": null,
            "flex_flow": null,
            "grid_area": null,
            "grid_auto_columns": null,
            "grid_auto_flow": null,
            "grid_auto_rows": null,
            "grid_column": null,
            "grid_gap": null,
            "grid_row": null,
            "grid_template_areas": null,
            "grid_template_columns": null,
            "grid_template_rows": null,
            "height": null,
            "justify_content": null,
            "justify_items": null,
            "left": null,
            "margin": null,
            "max_height": null,
            "max_width": null,
            "min_height": null,
            "min_width": null,
            "object_fit": null,
            "object_position": null,
            "order": null,
            "overflow": null,
            "overflow_x": null,
            "overflow_y": null,
            "padding": null,
            "right": null,
            "top": null,
            "visibility": null,
            "width": null
          }
        },
        "116e907c6663427e86f76a303cb316fa": {
          "model_module": "@jupyter-widgets/base",
          "model_name": "LayoutModel",
          "model_module_version": "1.2.0",
          "state": {
            "_model_module": "@jupyter-widgets/base",
            "_model_module_version": "1.2.0",
            "_model_name": "LayoutModel",
            "_view_count": null,
            "_view_module": "@jupyter-widgets/base",
            "_view_module_version": "1.2.0",
            "_view_name": "LayoutView",
            "align_content": null,
            "align_items": null,
            "align_self": null,
            "border": null,
            "bottom": null,
            "display": null,
            "flex": null,
            "flex_flow": null,
            "grid_area": null,
            "grid_auto_columns": null,
            "grid_auto_flow": null,
            "grid_auto_rows": null,
            "grid_column": null,
            "grid_gap": null,
            "grid_row": null,
            "grid_template_areas": null,
            "grid_template_columns": null,
            "grid_template_rows": null,
            "height": null,
            "justify_content": null,
            "justify_items": null,
            "left": null,
            "margin": null,
            "max_height": null,
            "max_width": null,
            "min_height": null,
            "min_width": null,
            "object_fit": null,
            "object_position": null,
            "order": null,
            "overflow": null,
            "overflow_x": null,
            "overflow_y": null,
            "padding": null,
            "right": null,
            "top": null,
            "visibility": null,
            "width": null
          }
        },
        "50e1f2553061495ba9292801a3d2805f": {
          "model_module": "@jupyter-widgets/controls",
          "model_name": "DescriptionStyleModel",
          "model_module_version": "1.5.0",
          "state": {
            "_model_module": "@jupyter-widgets/controls",
            "_model_module_version": "1.5.0",
            "_model_name": "DescriptionStyleModel",
            "_view_count": null,
            "_view_module": "@jupyter-widgets/base",
            "_view_module_version": "1.2.0",
            "_view_name": "StyleView",
            "description_width": ""
          }
        },
        "a734be3471da45348c4fbd60bcacaaff": {
          "model_module": "@jupyter-widgets/base",
          "model_name": "LayoutModel",
          "model_module_version": "1.2.0",
          "state": {
            "_model_module": "@jupyter-widgets/base",
            "_model_module_version": "1.2.0",
            "_model_name": "LayoutModel",
            "_view_count": null,
            "_view_module": "@jupyter-widgets/base",
            "_view_module_version": "1.2.0",
            "_view_name": "LayoutView",
            "align_content": null,
            "align_items": null,
            "align_self": null,
            "border": null,
            "bottom": null,
            "display": null,
            "flex": null,
            "flex_flow": null,
            "grid_area": null,
            "grid_auto_columns": null,
            "grid_auto_flow": null,
            "grid_auto_rows": null,
            "grid_column": null,
            "grid_gap": null,
            "grid_row": null,
            "grid_template_areas": null,
            "grid_template_columns": null,
            "grid_template_rows": null,
            "height": null,
            "justify_content": null,
            "justify_items": null,
            "left": null,
            "margin": null,
            "max_height": null,
            "max_width": null,
            "min_height": null,
            "min_width": null,
            "object_fit": null,
            "object_position": null,
            "order": null,
            "overflow": null,
            "overflow_x": null,
            "overflow_y": null,
            "padding": null,
            "right": null,
            "top": null,
            "visibility": null,
            "width": null
          }
        },
        "e16f875b924b4d70b7e2e93a8911fee7": {
          "model_module": "@jupyter-widgets/controls",
          "model_name": "ProgressStyleModel",
          "model_module_version": "1.5.0",
          "state": {
            "_model_module": "@jupyter-widgets/controls",
            "_model_module_version": "1.5.0",
            "_model_name": "ProgressStyleModel",
            "_view_count": null,
            "_view_module": "@jupyter-widgets/base",
            "_view_module_version": "1.2.0",
            "_view_name": "StyleView",
            "bar_color": null,
            "description_width": ""
          }
        },
        "40decbde8a074c3d8b1b4e8b78f110d3": {
          "model_module": "@jupyter-widgets/base",
          "model_name": "LayoutModel",
          "model_module_version": "1.2.0",
          "state": {
            "_model_module": "@jupyter-widgets/base",
            "_model_module_version": "1.2.0",
            "_model_name": "LayoutModel",
            "_view_count": null,
            "_view_module": "@jupyter-widgets/base",
            "_view_module_version": "1.2.0",
            "_view_name": "LayoutView",
            "align_content": null,
            "align_items": null,
            "align_self": null,
            "border": null,
            "bottom": null,
            "display": null,
            "flex": null,
            "flex_flow": null,
            "grid_area": null,
            "grid_auto_columns": null,
            "grid_auto_flow": null,
            "grid_auto_rows": null,
            "grid_column": null,
            "grid_gap": null,
            "grid_row": null,
            "grid_template_areas": null,
            "grid_template_columns": null,
            "grid_template_rows": null,
            "height": null,
            "justify_content": null,
            "justify_items": null,
            "left": null,
            "margin": null,
            "max_height": null,
            "max_width": null,
            "min_height": null,
            "min_width": null,
            "object_fit": null,
            "object_position": null,
            "order": null,
            "overflow": null,
            "overflow_x": null,
            "overflow_y": null,
            "padding": null,
            "right": null,
            "top": null,
            "visibility": null,
            "width": null
          }
        },
        "8405b839422b44e59d4c1776d0117e21": {
          "model_module": "@jupyter-widgets/controls",
          "model_name": "DescriptionStyleModel",
          "model_module_version": "1.5.0",
          "state": {
            "_model_module": "@jupyter-widgets/controls",
            "_model_module_version": "1.5.0",
            "_model_name": "DescriptionStyleModel",
            "_view_count": null,
            "_view_module": "@jupyter-widgets/base",
            "_view_module_version": "1.2.0",
            "_view_name": "StyleView",
            "description_width": ""
          }
        },
        "9f656787c14c499f97239584a6f03ebb": {
          "model_module": "@jupyter-widgets/controls",
          "model_name": "HBoxModel",
          "model_module_version": "1.5.0",
          "state": {
            "_dom_classes": [],
            "_model_module": "@jupyter-widgets/controls",
            "_model_module_version": "1.5.0",
            "_model_name": "HBoxModel",
            "_view_count": null,
            "_view_module": "@jupyter-widgets/controls",
            "_view_module_version": "1.5.0",
            "_view_name": "HBoxView",
            "box_style": "",
            "children": [
              "IPY_MODEL_477e913fd8ae4934b22cceafa8b0387d",
              "IPY_MODEL_cd2f469aa50641ac8402b70e29354a94",
              "IPY_MODEL_c1a1c33cfb3043f58a0b4e5cb92dc94c"
            ],
            "layout": "IPY_MODEL_3560c8f3a76347d2b70c4dd678b3585d"
          }
        },
        "477e913fd8ae4934b22cceafa8b0387d": {
          "model_module": "@jupyter-widgets/controls",
          "model_name": "HTMLModel",
          "model_module_version": "1.5.0",
          "state": {
            "_dom_classes": [],
            "_model_module": "@jupyter-widgets/controls",
            "_model_module_version": "1.5.0",
            "_model_name": "HTMLModel",
            "_view_count": null,
            "_view_module": "@jupyter-widgets/controls",
            "_view_module_version": "1.5.0",
            "_view_name": "HTMLView",
            "description": "",
            "description_tooltip": null,
            "layout": "IPY_MODEL_ca029512f1ee43d5a870804eb6ef165b",
            "placeholder": "​",
            "style": "IPY_MODEL_18bd30906f4148ba89abf6577a7629e1",
            "value": "100%"
          }
        },
        "cd2f469aa50641ac8402b70e29354a94": {
          "model_module": "@jupyter-widgets/controls",
          "model_name": "FloatProgressModel",
          "model_module_version": "1.5.0",
          "state": {
            "_dom_classes": [],
            "_model_module": "@jupyter-widgets/controls",
            "_model_module_version": "1.5.0",
            "_model_name": "FloatProgressModel",
            "_view_count": null,
            "_view_module": "@jupyter-widgets/controls",
            "_view_module_version": "1.5.0",
            "_view_name": "ProgressView",
            "bar_style": "success",
            "description": "",
            "description_tooltip": null,
            "layout": "IPY_MODEL_27b188944d2f4c9189dc24fc2111e83d",
            "max": 191,
            "min": 0,
            "orientation": "horizontal",
            "style": "IPY_MODEL_3bd127af933e4d2c86aab61952ebd759",
            "value": 191
          }
        },
        "c1a1c33cfb3043f58a0b4e5cb92dc94c": {
          "model_module": "@jupyter-widgets/controls",
          "model_name": "HTMLModel",
          "model_module_version": "1.5.0",
          "state": {
            "_dom_classes": [],
            "_model_module": "@jupyter-widgets/controls",
            "_model_module_version": "1.5.0",
            "_model_name": "HTMLModel",
            "_view_count": null,
            "_view_module": "@jupyter-widgets/controls",
            "_view_module_version": "1.5.0",
            "_view_name": "HTMLView",
            "description": "",
            "description_tooltip": null,
            "layout": "IPY_MODEL_b46d76eee84c4efabf416e7ac7017430",
            "placeholder": "​",
            "style": "IPY_MODEL_1390c41f60fe4dbca226b26a796f69ef",
            "value": " 191/191 [04:30&lt;00:00,  1.17s/it, train_loss=0.389]"
          }
        },
        "3560c8f3a76347d2b70c4dd678b3585d": {
          "model_module": "@jupyter-widgets/base",
          "model_name": "LayoutModel",
          "model_module_version": "1.2.0",
          "state": {
            "_model_module": "@jupyter-widgets/base",
            "_model_module_version": "1.2.0",
            "_model_name": "LayoutModel",
            "_view_count": null,
            "_view_module": "@jupyter-widgets/base",
            "_view_module_version": "1.2.0",
            "_view_name": "LayoutView",
            "align_content": null,
            "align_items": null,
            "align_self": null,
            "border": null,
            "bottom": null,
            "display": null,
            "flex": null,
            "flex_flow": null,
            "grid_area": null,
            "grid_auto_columns": null,
            "grid_auto_flow": null,
            "grid_auto_rows": null,
            "grid_column": null,
            "grid_gap": null,
            "grid_row": null,
            "grid_template_areas": null,
            "grid_template_columns": null,
            "grid_template_rows": null,
            "height": null,
            "justify_content": null,
            "justify_items": null,
            "left": null,
            "margin": null,
            "max_height": null,
            "max_width": null,
            "min_height": null,
            "min_width": null,
            "object_fit": null,
            "object_position": null,
            "order": null,
            "overflow": null,
            "overflow_x": null,
            "overflow_y": null,
            "padding": null,
            "right": null,
            "top": null,
            "visibility": null,
            "width": null
          }
        },
        "ca029512f1ee43d5a870804eb6ef165b": {
          "model_module": "@jupyter-widgets/base",
          "model_name": "LayoutModel",
          "model_module_version": "1.2.0",
          "state": {
            "_model_module": "@jupyter-widgets/base",
            "_model_module_version": "1.2.0",
            "_model_name": "LayoutModel",
            "_view_count": null,
            "_view_module": "@jupyter-widgets/base",
            "_view_module_version": "1.2.0",
            "_view_name": "LayoutView",
            "align_content": null,
            "align_items": null,
            "align_self": null,
            "border": null,
            "bottom": null,
            "display": null,
            "flex": null,
            "flex_flow": null,
            "grid_area": null,
            "grid_auto_columns": null,
            "grid_auto_flow": null,
            "grid_auto_rows": null,
            "grid_column": null,
            "grid_gap": null,
            "grid_row": null,
            "grid_template_areas": null,
            "grid_template_columns": null,
            "grid_template_rows": null,
            "height": null,
            "justify_content": null,
            "justify_items": null,
            "left": null,
            "margin": null,
            "max_height": null,
            "max_width": null,
            "min_height": null,
            "min_width": null,
            "object_fit": null,
            "object_position": null,
            "order": null,
            "overflow": null,
            "overflow_x": null,
            "overflow_y": null,
            "padding": null,
            "right": null,
            "top": null,
            "visibility": null,
            "width": null
          }
        },
        "18bd30906f4148ba89abf6577a7629e1": {
          "model_module": "@jupyter-widgets/controls",
          "model_name": "DescriptionStyleModel",
          "model_module_version": "1.5.0",
          "state": {
            "_model_module": "@jupyter-widgets/controls",
            "_model_module_version": "1.5.0",
            "_model_name": "DescriptionStyleModel",
            "_view_count": null,
            "_view_module": "@jupyter-widgets/base",
            "_view_module_version": "1.2.0",
            "_view_name": "StyleView",
            "description_width": ""
          }
        },
        "27b188944d2f4c9189dc24fc2111e83d": {
          "model_module": "@jupyter-widgets/base",
          "model_name": "LayoutModel",
          "model_module_version": "1.2.0",
          "state": {
            "_model_module": "@jupyter-widgets/base",
            "_model_module_version": "1.2.0",
            "_model_name": "LayoutModel",
            "_view_count": null,
            "_view_module": "@jupyter-widgets/base",
            "_view_module_version": "1.2.0",
            "_view_name": "LayoutView",
            "align_content": null,
            "align_items": null,
            "align_self": null,
            "border": null,
            "bottom": null,
            "display": null,
            "flex": null,
            "flex_flow": null,
            "grid_area": null,
            "grid_auto_columns": null,
            "grid_auto_flow": null,
            "grid_auto_rows": null,
            "grid_column": null,
            "grid_gap": null,
            "grid_row": null,
            "grid_template_areas": null,
            "grid_template_columns": null,
            "grid_template_rows": null,
            "height": null,
            "justify_content": null,
            "justify_items": null,
            "left": null,
            "margin": null,
            "max_height": null,
            "max_width": null,
            "min_height": null,
            "min_width": null,
            "object_fit": null,
            "object_position": null,
            "order": null,
            "overflow": null,
            "overflow_x": null,
            "overflow_y": null,
            "padding": null,
            "right": null,
            "top": null,
            "visibility": null,
            "width": null
          }
        },
        "3bd127af933e4d2c86aab61952ebd759": {
          "model_module": "@jupyter-widgets/controls",
          "model_name": "ProgressStyleModel",
          "model_module_version": "1.5.0",
          "state": {
            "_model_module": "@jupyter-widgets/controls",
            "_model_module_version": "1.5.0",
            "_model_name": "ProgressStyleModel",
            "_view_count": null,
            "_view_module": "@jupyter-widgets/base",
            "_view_module_version": "1.2.0",
            "_view_name": "StyleView",
            "bar_color": null,
            "description_width": ""
          }
        },
        "b46d76eee84c4efabf416e7ac7017430": {
          "model_module": "@jupyter-widgets/base",
          "model_name": "LayoutModel",
          "model_module_version": "1.2.0",
          "state": {
            "_model_module": "@jupyter-widgets/base",
            "_model_module_version": "1.2.0",
            "_model_name": "LayoutModel",
            "_view_count": null,
            "_view_module": "@jupyter-widgets/base",
            "_view_module_version": "1.2.0",
            "_view_name": "LayoutView",
            "align_content": null,
            "align_items": null,
            "align_self": null,
            "border": null,
            "bottom": null,
            "display": null,
            "flex": null,
            "flex_flow": null,
            "grid_area": null,
            "grid_auto_columns": null,
            "grid_auto_flow": null,
            "grid_auto_rows": null,
            "grid_column": null,
            "grid_gap": null,
            "grid_row": null,
            "grid_template_areas": null,
            "grid_template_columns": null,
            "grid_template_rows": null,
            "height": null,
            "justify_content": null,
            "justify_items": null,
            "left": null,
            "margin": null,
            "max_height": null,
            "max_width": null,
            "min_height": null,
            "min_width": null,
            "object_fit": null,
            "object_position": null,
            "order": null,
            "overflow": null,
            "overflow_x": null,
            "overflow_y": null,
            "padding": null,
            "right": null,
            "top": null,
            "visibility": null,
            "width": null
          }
        },
        "1390c41f60fe4dbca226b26a796f69ef": {
          "model_module": "@jupyter-widgets/controls",
          "model_name": "DescriptionStyleModel",
          "model_module_version": "1.5.0",
          "state": {
            "_model_module": "@jupyter-widgets/controls",
            "_model_module_version": "1.5.0",
            "_model_name": "DescriptionStyleModel",
            "_view_count": null,
            "_view_module": "@jupyter-widgets/base",
            "_view_module_version": "1.2.0",
            "_view_name": "StyleView",
            "description_width": ""
          }
        },
        "a9d70ac079c84b5495637a734dc3341d": {
          "model_module": "@jupyter-widgets/controls",
          "model_name": "HBoxModel",
          "model_module_version": "1.5.0",
          "state": {
            "_dom_classes": [],
            "_model_module": "@jupyter-widgets/controls",
            "_model_module_version": "1.5.0",
            "_model_name": "HBoxModel",
            "_view_count": null,
            "_view_module": "@jupyter-widgets/controls",
            "_view_module_version": "1.5.0",
            "_view_name": "HBoxView",
            "box_style": "",
            "children": [
              "IPY_MODEL_3db6fcf7066d450aa49487b12787cacf",
              "IPY_MODEL_fc3f65ad1a6a4ce1b99b5f86ed4138bd",
              "IPY_MODEL_88519aa2113442018009e7a416e9123d"
            ],
            "layout": "IPY_MODEL_79ee56bb54224d00aca1a1d89dfa5f7b"
          }
        },
        "3db6fcf7066d450aa49487b12787cacf": {
          "model_module": "@jupyter-widgets/controls",
          "model_name": "HTMLModel",
          "model_module_version": "1.5.0",
          "state": {
            "_dom_classes": [],
            "_model_module": "@jupyter-widgets/controls",
            "_model_module_version": "1.5.0",
            "_model_name": "HTMLModel",
            "_view_count": null,
            "_view_module": "@jupyter-widgets/controls",
            "_view_module_version": "1.5.0",
            "_view_name": "HTMLView",
            "description": "",
            "description_tooltip": null,
            "layout": "IPY_MODEL_71921c8614b14cdb85220aff5bf7025d",
            "placeholder": "​",
            "style": "IPY_MODEL_0c60f5c8be904259a418ef4594ebca90",
            "value": "100%"
          }
        },
        "fc3f65ad1a6a4ce1b99b5f86ed4138bd": {
          "model_module": "@jupyter-widgets/controls",
          "model_name": "FloatProgressModel",
          "model_module_version": "1.5.0",
          "state": {
            "_dom_classes": [],
            "_model_module": "@jupyter-widgets/controls",
            "_model_module_version": "1.5.0",
            "_model_name": "FloatProgressModel",
            "_view_count": null,
            "_view_module": "@jupyter-widgets/controls",
            "_view_module_version": "1.5.0",
            "_view_name": "ProgressView",
            "bar_style": "success",
            "description": "",
            "description_tooltip": null,
            "layout": "IPY_MODEL_ef9ed1624611461dacaa8cf6cd720d16",
            "max": 48,
            "min": 0,
            "orientation": "horizontal",
            "style": "IPY_MODEL_e88ec6df2bd4423093d9296ee62e9ecd",
            "value": 48
          }
        },
        "88519aa2113442018009e7a416e9123d": {
          "model_module": "@jupyter-widgets/controls",
          "model_name": "HTMLModel",
          "model_module_version": "1.5.0",
          "state": {
            "_dom_classes": [],
            "_model_module": "@jupyter-widgets/controls",
            "_model_module_version": "1.5.0",
            "_model_name": "HTMLModel",
            "_view_count": null,
            "_view_module": "@jupyter-widgets/controls",
            "_view_module_version": "1.5.0",
            "_view_name": "HTMLView",
            "description": "",
            "description_tooltip": null,
            "layout": "IPY_MODEL_48dba7864f9d484880b15ac70c685b49",
            "placeholder": "​",
            "style": "IPY_MODEL_d34da359e6cf41bfbef34820dacf8101",
            "value": " 48/48 [00:23&lt;00:00,  2.29it/s]"
          }
        },
        "79ee56bb54224d00aca1a1d89dfa5f7b": {
          "model_module": "@jupyter-widgets/base",
          "model_name": "LayoutModel",
          "model_module_version": "1.2.0",
          "state": {
            "_model_module": "@jupyter-widgets/base",
            "_model_module_version": "1.2.0",
            "_model_name": "LayoutModel",
            "_view_count": null,
            "_view_module": "@jupyter-widgets/base",
            "_view_module_version": "1.2.0",
            "_view_name": "LayoutView",
            "align_content": null,
            "align_items": null,
            "align_self": null,
            "border": null,
            "bottom": null,
            "display": null,
            "flex": null,
            "flex_flow": null,
            "grid_area": null,
            "grid_auto_columns": null,
            "grid_auto_flow": null,
            "grid_auto_rows": null,
            "grid_column": null,
            "grid_gap": null,
            "grid_row": null,
            "grid_template_areas": null,
            "grid_template_columns": null,
            "grid_template_rows": null,
            "height": null,
            "justify_content": null,
            "justify_items": null,
            "left": null,
            "margin": null,
            "max_height": null,
            "max_width": null,
            "min_height": null,
            "min_width": null,
            "object_fit": null,
            "object_position": null,
            "order": null,
            "overflow": null,
            "overflow_x": null,
            "overflow_y": null,
            "padding": null,
            "right": null,
            "top": null,
            "visibility": null,
            "width": null
          }
        },
        "71921c8614b14cdb85220aff5bf7025d": {
          "model_module": "@jupyter-widgets/base",
          "model_name": "LayoutModel",
          "model_module_version": "1.2.0",
          "state": {
            "_model_module": "@jupyter-widgets/base",
            "_model_module_version": "1.2.0",
            "_model_name": "LayoutModel",
            "_view_count": null,
            "_view_module": "@jupyter-widgets/base",
            "_view_module_version": "1.2.0",
            "_view_name": "LayoutView",
            "align_content": null,
            "align_items": null,
            "align_self": null,
            "border": null,
            "bottom": null,
            "display": null,
            "flex": null,
            "flex_flow": null,
            "grid_area": null,
            "grid_auto_columns": null,
            "grid_auto_flow": null,
            "grid_auto_rows": null,
            "grid_column": null,
            "grid_gap": null,
            "grid_row": null,
            "grid_template_areas": null,
            "grid_template_columns": null,
            "grid_template_rows": null,
            "height": null,
            "justify_content": null,
            "justify_items": null,
            "left": null,
            "margin": null,
            "max_height": null,
            "max_width": null,
            "min_height": null,
            "min_width": null,
            "object_fit": null,
            "object_position": null,
            "order": null,
            "overflow": null,
            "overflow_x": null,
            "overflow_y": null,
            "padding": null,
            "right": null,
            "top": null,
            "visibility": null,
            "width": null
          }
        },
        "0c60f5c8be904259a418ef4594ebca90": {
          "model_module": "@jupyter-widgets/controls",
          "model_name": "DescriptionStyleModel",
          "model_module_version": "1.5.0",
          "state": {
            "_model_module": "@jupyter-widgets/controls",
            "_model_module_version": "1.5.0",
            "_model_name": "DescriptionStyleModel",
            "_view_count": null,
            "_view_module": "@jupyter-widgets/base",
            "_view_module_version": "1.2.0",
            "_view_name": "StyleView",
            "description_width": ""
          }
        },
        "ef9ed1624611461dacaa8cf6cd720d16": {
          "model_module": "@jupyter-widgets/base",
          "model_name": "LayoutModel",
          "model_module_version": "1.2.0",
          "state": {
            "_model_module": "@jupyter-widgets/base",
            "_model_module_version": "1.2.0",
            "_model_name": "LayoutModel",
            "_view_count": null,
            "_view_module": "@jupyter-widgets/base",
            "_view_module_version": "1.2.0",
            "_view_name": "LayoutView",
            "align_content": null,
            "align_items": null,
            "align_self": null,
            "border": null,
            "bottom": null,
            "display": null,
            "flex": null,
            "flex_flow": null,
            "grid_area": null,
            "grid_auto_columns": null,
            "grid_auto_flow": null,
            "grid_auto_rows": null,
            "grid_column": null,
            "grid_gap": null,
            "grid_row": null,
            "grid_template_areas": null,
            "grid_template_columns": null,
            "grid_template_rows": null,
            "height": null,
            "justify_content": null,
            "justify_items": null,
            "left": null,
            "margin": null,
            "max_height": null,
            "max_width": null,
            "min_height": null,
            "min_width": null,
            "object_fit": null,
            "object_position": null,
            "order": null,
            "overflow": null,
            "overflow_x": null,
            "overflow_y": null,
            "padding": null,
            "right": null,
            "top": null,
            "visibility": null,
            "width": null
          }
        },
        "e88ec6df2bd4423093d9296ee62e9ecd": {
          "model_module": "@jupyter-widgets/controls",
          "model_name": "ProgressStyleModel",
          "model_module_version": "1.5.0",
          "state": {
            "_model_module": "@jupyter-widgets/controls",
            "_model_module_version": "1.5.0",
            "_model_name": "ProgressStyleModel",
            "_view_count": null,
            "_view_module": "@jupyter-widgets/base",
            "_view_module_version": "1.2.0",
            "_view_name": "StyleView",
            "bar_color": null,
            "description_width": ""
          }
        },
        "48dba7864f9d484880b15ac70c685b49": {
          "model_module": "@jupyter-widgets/base",
          "model_name": "LayoutModel",
          "model_module_version": "1.2.0",
          "state": {
            "_model_module": "@jupyter-widgets/base",
            "_model_module_version": "1.2.0",
            "_model_name": "LayoutModel",
            "_view_count": null,
            "_view_module": "@jupyter-widgets/base",
            "_view_module_version": "1.2.0",
            "_view_name": "LayoutView",
            "align_content": null,
            "align_items": null,
            "align_self": null,
            "border": null,
            "bottom": null,
            "display": null,
            "flex": null,
            "flex_flow": null,
            "grid_area": null,
            "grid_auto_columns": null,
            "grid_auto_flow": null,
            "grid_auto_rows": null,
            "grid_column": null,
            "grid_gap": null,
            "grid_row": null,
            "grid_template_areas": null,
            "grid_template_columns": null,
            "grid_template_rows": null,
            "height": null,
            "justify_content": null,
            "justify_items": null,
            "left": null,
            "margin": null,
            "max_height": null,
            "max_width": null,
            "min_height": null,
            "min_width": null,
            "object_fit": null,
            "object_position": null,
            "order": null,
            "overflow": null,
            "overflow_x": null,
            "overflow_y": null,
            "padding": null,
            "right": null,
            "top": null,
            "visibility": null,
            "width": null
          }
        },
        "d34da359e6cf41bfbef34820dacf8101": {
          "model_module": "@jupyter-widgets/controls",
          "model_name": "DescriptionStyleModel",
          "model_module_version": "1.5.0",
          "state": {
            "_model_module": "@jupyter-widgets/controls",
            "_model_module_version": "1.5.0",
            "_model_name": "DescriptionStyleModel",
            "_view_count": null,
            "_view_module": "@jupyter-widgets/base",
            "_view_module_version": "1.2.0",
            "_view_name": "StyleView",
            "description_width": ""
          }
        },
        "2aab7487cc384e749e28406f406e3037": {
          "model_module": "@jupyter-widgets/controls",
          "model_name": "HBoxModel",
          "model_module_version": "1.5.0",
          "state": {
            "_dom_classes": [],
            "_model_module": "@jupyter-widgets/controls",
            "_model_module_version": "1.5.0",
            "_model_name": "HBoxModel",
            "_view_count": null,
            "_view_module": "@jupyter-widgets/controls",
            "_view_module_version": "1.5.0",
            "_view_name": "HBoxView",
            "box_style": "",
            "children": [
              "IPY_MODEL_9642e3c2aa96462aab75646027aaf328",
              "IPY_MODEL_12497b88414543c58f0c328836ec5894",
              "IPY_MODEL_a07a4195794a4db496f11faf2c5f404d"
            ],
            "layout": "IPY_MODEL_4f02228512574c97a7baa02498d88d73"
          }
        },
        "9642e3c2aa96462aab75646027aaf328": {
          "model_module": "@jupyter-widgets/controls",
          "model_name": "HTMLModel",
          "model_module_version": "1.5.0",
          "state": {
            "_dom_classes": [],
            "_model_module": "@jupyter-widgets/controls",
            "_model_module_version": "1.5.0",
            "_model_name": "HTMLModel",
            "_view_count": null,
            "_view_module": "@jupyter-widgets/controls",
            "_view_module_version": "1.5.0",
            "_view_name": "HTMLView",
            "description": "",
            "description_tooltip": null,
            "layout": "IPY_MODEL_52c222474444474eb3a2a6d2c8152744",
            "placeholder": "​",
            "style": "IPY_MODEL_1fe39f207c28408cb9000d2014fdbda9",
            "value": "100%"
          }
        },
        "12497b88414543c58f0c328836ec5894": {
          "model_module": "@jupyter-widgets/controls",
          "model_name": "FloatProgressModel",
          "model_module_version": "1.5.0",
          "state": {
            "_dom_classes": [],
            "_model_module": "@jupyter-widgets/controls",
            "_model_module_version": "1.5.0",
            "_model_name": "FloatProgressModel",
            "_view_count": null,
            "_view_module": "@jupyter-widgets/controls",
            "_view_module_version": "1.5.0",
            "_view_name": "ProgressView",
            "bar_style": "success",
            "description": "",
            "description_tooltip": null,
            "layout": "IPY_MODEL_dc069547ef244026ba870314cffd2842",
            "max": 191,
            "min": 0,
            "orientation": "horizontal",
            "style": "IPY_MODEL_69d68c4703eb40f4980efcd5c6d0f9f4",
            "value": 191
          }
        },
        "a07a4195794a4db496f11faf2c5f404d": {
          "model_module": "@jupyter-widgets/controls",
          "model_name": "HTMLModel",
          "model_module_version": "1.5.0",
          "state": {
            "_dom_classes": [],
            "_model_module": "@jupyter-widgets/controls",
            "_model_module_version": "1.5.0",
            "_model_name": "HTMLModel",
            "_view_count": null,
            "_view_module": "@jupyter-widgets/controls",
            "_view_module_version": "1.5.0",
            "_view_name": "HTMLView",
            "description": "",
            "description_tooltip": null,
            "layout": "IPY_MODEL_4c936a30361b410c97655fa9effd05d4",
            "placeholder": "​",
            "style": "IPY_MODEL_eed27071d88e49bab0a9bd262ed0c505",
            "value": " 191/191 [04:31&lt;00:00,  1.17s/it, train_loss=0.365]"
          }
        },
        "4f02228512574c97a7baa02498d88d73": {
          "model_module": "@jupyter-widgets/base",
          "model_name": "LayoutModel",
          "model_module_version": "1.2.0",
          "state": {
            "_model_module": "@jupyter-widgets/base",
            "_model_module_version": "1.2.0",
            "_model_name": "LayoutModel",
            "_view_count": null,
            "_view_module": "@jupyter-widgets/base",
            "_view_module_version": "1.2.0",
            "_view_name": "LayoutView",
            "align_content": null,
            "align_items": null,
            "align_self": null,
            "border": null,
            "bottom": null,
            "display": null,
            "flex": null,
            "flex_flow": null,
            "grid_area": null,
            "grid_auto_columns": null,
            "grid_auto_flow": null,
            "grid_auto_rows": null,
            "grid_column": null,
            "grid_gap": null,
            "grid_row": null,
            "grid_template_areas": null,
            "grid_template_columns": null,
            "grid_template_rows": null,
            "height": null,
            "justify_content": null,
            "justify_items": null,
            "left": null,
            "margin": null,
            "max_height": null,
            "max_width": null,
            "min_height": null,
            "min_width": null,
            "object_fit": null,
            "object_position": null,
            "order": null,
            "overflow": null,
            "overflow_x": null,
            "overflow_y": null,
            "padding": null,
            "right": null,
            "top": null,
            "visibility": null,
            "width": null
          }
        },
        "52c222474444474eb3a2a6d2c8152744": {
          "model_module": "@jupyter-widgets/base",
          "model_name": "LayoutModel",
          "model_module_version": "1.2.0",
          "state": {
            "_model_module": "@jupyter-widgets/base",
            "_model_module_version": "1.2.0",
            "_model_name": "LayoutModel",
            "_view_count": null,
            "_view_module": "@jupyter-widgets/base",
            "_view_module_version": "1.2.0",
            "_view_name": "LayoutView",
            "align_content": null,
            "align_items": null,
            "align_self": null,
            "border": null,
            "bottom": null,
            "display": null,
            "flex": null,
            "flex_flow": null,
            "grid_area": null,
            "grid_auto_columns": null,
            "grid_auto_flow": null,
            "grid_auto_rows": null,
            "grid_column": null,
            "grid_gap": null,
            "grid_row": null,
            "grid_template_areas": null,
            "grid_template_columns": null,
            "grid_template_rows": null,
            "height": null,
            "justify_content": null,
            "justify_items": null,
            "left": null,
            "margin": null,
            "max_height": null,
            "max_width": null,
            "min_height": null,
            "min_width": null,
            "object_fit": null,
            "object_position": null,
            "order": null,
            "overflow": null,
            "overflow_x": null,
            "overflow_y": null,
            "padding": null,
            "right": null,
            "top": null,
            "visibility": null,
            "width": null
          }
        },
        "1fe39f207c28408cb9000d2014fdbda9": {
          "model_module": "@jupyter-widgets/controls",
          "model_name": "DescriptionStyleModel",
          "model_module_version": "1.5.0",
          "state": {
            "_model_module": "@jupyter-widgets/controls",
            "_model_module_version": "1.5.0",
            "_model_name": "DescriptionStyleModel",
            "_view_count": null,
            "_view_module": "@jupyter-widgets/base",
            "_view_module_version": "1.2.0",
            "_view_name": "StyleView",
            "description_width": ""
          }
        },
        "dc069547ef244026ba870314cffd2842": {
          "model_module": "@jupyter-widgets/base",
          "model_name": "LayoutModel",
          "model_module_version": "1.2.0",
          "state": {
            "_model_module": "@jupyter-widgets/base",
            "_model_module_version": "1.2.0",
            "_model_name": "LayoutModel",
            "_view_count": null,
            "_view_module": "@jupyter-widgets/base",
            "_view_module_version": "1.2.0",
            "_view_name": "LayoutView",
            "align_content": null,
            "align_items": null,
            "align_self": null,
            "border": null,
            "bottom": null,
            "display": null,
            "flex": null,
            "flex_flow": null,
            "grid_area": null,
            "grid_auto_columns": null,
            "grid_auto_flow": null,
            "grid_auto_rows": null,
            "grid_column": null,
            "grid_gap": null,
            "grid_row": null,
            "grid_template_areas": null,
            "grid_template_columns": null,
            "grid_template_rows": null,
            "height": null,
            "justify_content": null,
            "justify_items": null,
            "left": null,
            "margin": null,
            "max_height": null,
            "max_width": null,
            "min_height": null,
            "min_width": null,
            "object_fit": null,
            "object_position": null,
            "order": null,
            "overflow": null,
            "overflow_x": null,
            "overflow_y": null,
            "padding": null,
            "right": null,
            "top": null,
            "visibility": null,
            "width": null
          }
        },
        "69d68c4703eb40f4980efcd5c6d0f9f4": {
          "model_module": "@jupyter-widgets/controls",
          "model_name": "ProgressStyleModel",
          "model_module_version": "1.5.0",
          "state": {
            "_model_module": "@jupyter-widgets/controls",
            "_model_module_version": "1.5.0",
            "_model_name": "ProgressStyleModel",
            "_view_count": null,
            "_view_module": "@jupyter-widgets/base",
            "_view_module_version": "1.2.0",
            "_view_name": "StyleView",
            "bar_color": null,
            "description_width": ""
          }
        },
        "4c936a30361b410c97655fa9effd05d4": {
          "model_module": "@jupyter-widgets/base",
          "model_name": "LayoutModel",
          "model_module_version": "1.2.0",
          "state": {
            "_model_module": "@jupyter-widgets/base",
            "_model_module_version": "1.2.0",
            "_model_name": "LayoutModel",
            "_view_count": null,
            "_view_module": "@jupyter-widgets/base",
            "_view_module_version": "1.2.0",
            "_view_name": "LayoutView",
            "align_content": null,
            "align_items": null,
            "align_self": null,
            "border": null,
            "bottom": null,
            "display": null,
            "flex": null,
            "flex_flow": null,
            "grid_area": null,
            "grid_auto_columns": null,
            "grid_auto_flow": null,
            "grid_auto_rows": null,
            "grid_column": null,
            "grid_gap": null,
            "grid_row": null,
            "grid_template_areas": null,
            "grid_template_columns": null,
            "grid_template_rows": null,
            "height": null,
            "justify_content": null,
            "justify_items": null,
            "left": null,
            "margin": null,
            "max_height": null,
            "max_width": null,
            "min_height": null,
            "min_width": null,
            "object_fit": null,
            "object_position": null,
            "order": null,
            "overflow": null,
            "overflow_x": null,
            "overflow_y": null,
            "padding": null,
            "right": null,
            "top": null,
            "visibility": null,
            "width": null
          }
        },
        "eed27071d88e49bab0a9bd262ed0c505": {
          "model_module": "@jupyter-widgets/controls",
          "model_name": "DescriptionStyleModel",
          "model_module_version": "1.5.0",
          "state": {
            "_model_module": "@jupyter-widgets/controls",
            "_model_module_version": "1.5.0",
            "_model_name": "DescriptionStyleModel",
            "_view_count": null,
            "_view_module": "@jupyter-widgets/base",
            "_view_module_version": "1.2.0",
            "_view_name": "StyleView",
            "description_width": ""
          }
        },
        "6b99cb2f851a4428a27f4ff60c170da0": {
          "model_module": "@jupyter-widgets/controls",
          "model_name": "HBoxModel",
          "model_module_version": "1.5.0",
          "state": {
            "_dom_classes": [],
            "_model_module": "@jupyter-widgets/controls",
            "_model_module_version": "1.5.0",
            "_model_name": "HBoxModel",
            "_view_count": null,
            "_view_module": "@jupyter-widgets/controls",
            "_view_module_version": "1.5.0",
            "_view_name": "HBoxView",
            "box_style": "",
            "children": [
              "IPY_MODEL_b2782e26c06f4150ae8a85477fac90d4",
              "IPY_MODEL_792bc6a9c2854d77918d482db65040d4",
              "IPY_MODEL_19453590372f45c3a4c79b9c29fd424f"
            ],
            "layout": "IPY_MODEL_5810956bbb284453b3ade5f984d23b96"
          }
        },
        "b2782e26c06f4150ae8a85477fac90d4": {
          "model_module": "@jupyter-widgets/controls",
          "model_name": "HTMLModel",
          "model_module_version": "1.5.0",
          "state": {
            "_dom_classes": [],
            "_model_module": "@jupyter-widgets/controls",
            "_model_module_version": "1.5.0",
            "_model_name": "HTMLModel",
            "_view_count": null,
            "_view_module": "@jupyter-widgets/controls",
            "_view_module_version": "1.5.0",
            "_view_name": "HTMLView",
            "description": "",
            "description_tooltip": null,
            "layout": "IPY_MODEL_952a58a5f1cd400ca8ee0d298db3bfea",
            "placeholder": "​",
            "style": "IPY_MODEL_439324b3c2f7465e8776b01d456ece3d",
            "value": "100%"
          }
        },
        "792bc6a9c2854d77918d482db65040d4": {
          "model_module": "@jupyter-widgets/controls",
          "model_name": "FloatProgressModel",
          "model_module_version": "1.5.0",
          "state": {
            "_dom_classes": [],
            "_model_module": "@jupyter-widgets/controls",
            "_model_module_version": "1.5.0",
            "_model_name": "FloatProgressModel",
            "_view_count": null,
            "_view_module": "@jupyter-widgets/controls",
            "_view_module_version": "1.5.0",
            "_view_name": "ProgressView",
            "bar_style": "success",
            "description": "",
            "description_tooltip": null,
            "layout": "IPY_MODEL_be2ffd425ff343e39a99712f9cffb405",
            "max": 48,
            "min": 0,
            "orientation": "horizontal",
            "style": "IPY_MODEL_0d12ed1efaf5455c8c5facec52491dcc",
            "value": 48
          }
        },
        "19453590372f45c3a4c79b9c29fd424f": {
          "model_module": "@jupyter-widgets/controls",
          "model_name": "HTMLModel",
          "model_module_version": "1.5.0",
          "state": {
            "_dom_classes": [],
            "_model_module": "@jupyter-widgets/controls",
            "_model_module_version": "1.5.0",
            "_model_name": "HTMLModel",
            "_view_count": null,
            "_view_module": "@jupyter-widgets/controls",
            "_view_module_version": "1.5.0",
            "_view_name": "HTMLView",
            "description": "",
            "description_tooltip": null,
            "layout": "IPY_MODEL_5fef124d05e34beca6750a700180e003",
            "placeholder": "​",
            "style": "IPY_MODEL_5fa0509f830944c587b7eafc0201de0c",
            "value": " 48/48 [00:23&lt;00:00,  2.29it/s]"
          }
        },
        "5810956bbb284453b3ade5f984d23b96": {
          "model_module": "@jupyter-widgets/base",
          "model_name": "LayoutModel",
          "model_module_version": "1.2.0",
          "state": {
            "_model_module": "@jupyter-widgets/base",
            "_model_module_version": "1.2.0",
            "_model_name": "LayoutModel",
            "_view_count": null,
            "_view_module": "@jupyter-widgets/base",
            "_view_module_version": "1.2.0",
            "_view_name": "LayoutView",
            "align_content": null,
            "align_items": null,
            "align_self": null,
            "border": null,
            "bottom": null,
            "display": null,
            "flex": null,
            "flex_flow": null,
            "grid_area": null,
            "grid_auto_columns": null,
            "grid_auto_flow": null,
            "grid_auto_rows": null,
            "grid_column": null,
            "grid_gap": null,
            "grid_row": null,
            "grid_template_areas": null,
            "grid_template_columns": null,
            "grid_template_rows": null,
            "height": null,
            "justify_content": null,
            "justify_items": null,
            "left": null,
            "margin": null,
            "max_height": null,
            "max_width": null,
            "min_height": null,
            "min_width": null,
            "object_fit": null,
            "object_position": null,
            "order": null,
            "overflow": null,
            "overflow_x": null,
            "overflow_y": null,
            "padding": null,
            "right": null,
            "top": null,
            "visibility": null,
            "width": null
          }
        },
        "952a58a5f1cd400ca8ee0d298db3bfea": {
          "model_module": "@jupyter-widgets/base",
          "model_name": "LayoutModel",
          "model_module_version": "1.2.0",
          "state": {
            "_model_module": "@jupyter-widgets/base",
            "_model_module_version": "1.2.0",
            "_model_name": "LayoutModel",
            "_view_count": null,
            "_view_module": "@jupyter-widgets/base",
            "_view_module_version": "1.2.0",
            "_view_name": "LayoutView",
            "align_content": null,
            "align_items": null,
            "align_self": null,
            "border": null,
            "bottom": null,
            "display": null,
            "flex": null,
            "flex_flow": null,
            "grid_area": null,
            "grid_auto_columns": null,
            "grid_auto_flow": null,
            "grid_auto_rows": null,
            "grid_column": null,
            "grid_gap": null,
            "grid_row": null,
            "grid_template_areas": null,
            "grid_template_columns": null,
            "grid_template_rows": null,
            "height": null,
            "justify_content": null,
            "justify_items": null,
            "left": null,
            "margin": null,
            "max_height": null,
            "max_width": null,
            "min_height": null,
            "min_width": null,
            "object_fit": null,
            "object_position": null,
            "order": null,
            "overflow": null,
            "overflow_x": null,
            "overflow_y": null,
            "padding": null,
            "right": null,
            "top": null,
            "visibility": null,
            "width": null
          }
        },
        "439324b3c2f7465e8776b01d456ece3d": {
          "model_module": "@jupyter-widgets/controls",
          "model_name": "DescriptionStyleModel",
          "model_module_version": "1.5.0",
          "state": {
            "_model_module": "@jupyter-widgets/controls",
            "_model_module_version": "1.5.0",
            "_model_name": "DescriptionStyleModel",
            "_view_count": null,
            "_view_module": "@jupyter-widgets/base",
            "_view_module_version": "1.2.0",
            "_view_name": "StyleView",
            "description_width": ""
          }
        },
        "be2ffd425ff343e39a99712f9cffb405": {
          "model_module": "@jupyter-widgets/base",
          "model_name": "LayoutModel",
          "model_module_version": "1.2.0",
          "state": {
            "_model_module": "@jupyter-widgets/base",
            "_model_module_version": "1.2.0",
            "_model_name": "LayoutModel",
            "_view_count": null,
            "_view_module": "@jupyter-widgets/base",
            "_view_module_version": "1.2.0",
            "_view_name": "LayoutView",
            "align_content": null,
            "align_items": null,
            "align_self": null,
            "border": null,
            "bottom": null,
            "display": null,
            "flex": null,
            "flex_flow": null,
            "grid_area": null,
            "grid_auto_columns": null,
            "grid_auto_flow": null,
            "grid_auto_rows": null,
            "grid_column": null,
            "grid_gap": null,
            "grid_row": null,
            "grid_template_areas": null,
            "grid_template_columns": null,
            "grid_template_rows": null,
            "height": null,
            "justify_content": null,
            "justify_items": null,
            "left": null,
            "margin": null,
            "max_height": null,
            "max_width": null,
            "min_height": null,
            "min_width": null,
            "object_fit": null,
            "object_position": null,
            "order": null,
            "overflow": null,
            "overflow_x": null,
            "overflow_y": null,
            "padding": null,
            "right": null,
            "top": null,
            "visibility": null,
            "width": null
          }
        },
        "0d12ed1efaf5455c8c5facec52491dcc": {
          "model_module": "@jupyter-widgets/controls",
          "model_name": "ProgressStyleModel",
          "model_module_version": "1.5.0",
          "state": {
            "_model_module": "@jupyter-widgets/controls",
            "_model_module_version": "1.5.0",
            "_model_name": "ProgressStyleModel",
            "_view_count": null,
            "_view_module": "@jupyter-widgets/base",
            "_view_module_version": "1.2.0",
            "_view_name": "StyleView",
            "bar_color": null,
            "description_width": ""
          }
        },
        "5fef124d05e34beca6750a700180e003": {
          "model_module": "@jupyter-widgets/base",
          "model_name": "LayoutModel",
          "model_module_version": "1.2.0",
          "state": {
            "_model_module": "@jupyter-widgets/base",
            "_model_module_version": "1.2.0",
            "_model_name": "LayoutModel",
            "_view_count": null,
            "_view_module": "@jupyter-widgets/base",
            "_view_module_version": "1.2.0",
            "_view_name": "LayoutView",
            "align_content": null,
            "align_items": null,
            "align_self": null,
            "border": null,
            "bottom": null,
            "display": null,
            "flex": null,
            "flex_flow": null,
            "grid_area": null,
            "grid_auto_columns": null,
            "grid_auto_flow": null,
            "grid_auto_rows": null,
            "grid_column": null,
            "grid_gap": null,
            "grid_row": null,
            "grid_template_areas": null,
            "grid_template_columns": null,
            "grid_template_rows": null,
            "height": null,
            "justify_content": null,
            "justify_items": null,
            "left": null,
            "margin": null,
            "max_height": null,
            "max_width": null,
            "min_height": null,
            "min_width": null,
            "object_fit": null,
            "object_position": null,
            "order": null,
            "overflow": null,
            "overflow_x": null,
            "overflow_y": null,
            "padding": null,
            "right": null,
            "top": null,
            "visibility": null,
            "width": null
          }
        },
        "5fa0509f830944c587b7eafc0201de0c": {
          "model_module": "@jupyter-widgets/controls",
          "model_name": "DescriptionStyleModel",
          "model_module_version": "1.5.0",
          "state": {
            "_model_module": "@jupyter-widgets/controls",
            "_model_module_version": "1.5.0",
            "_model_name": "DescriptionStyleModel",
            "_view_count": null,
            "_view_module": "@jupyter-widgets/base",
            "_view_module_version": "1.2.0",
            "_view_name": "StyleView",
            "description_width": ""
          }
        }
      }
    }
  },
  "cells": [
    {
      "cell_type": "markdown",
      "source": [
        "### IMPORTING THE REQUIRED MODULES"
      ],
      "metadata": {
        "id": "1XugGWDVI6kA"
      }
    },
    {
      "cell_type": "markdown",
      "source": [
        "Simply importing the required module for the project"
      ],
      "metadata": {
        "id": "KtVa74SpL265"
      }
    },
    {
      "cell_type": "code",
      "source": [
        "!pip install transformers \n",
        "!pip install datasets\n",
        "!pip install pynvml\n",
        "!pip install evaluate "
      ],
      "metadata": {
        "id": "-QsS6QP9JKGu",
        "colab": {
          "base_uri": "https://localhost:8080/"
        },
        "outputId": "56f01c68-6a20-489d-e162-ac0ee213390c"
      },
      "execution_count": 1,
      "outputs": [
        {
          "output_type": "stream",
          "name": "stdout",
          "text": [
            "Looking in indexes: https://pypi.org/simple, https://us-python.pkg.dev/colab-wheels/public/simple/\n",
            "Requirement already satisfied: transformers in /usr/local/lib/python3.9/dist-packages (4.26.1)\n",
            "Requirement already satisfied: tokenizers!=0.11.3,<0.14,>=0.11.1 in /usr/local/lib/python3.9/dist-packages (from transformers) (0.13.2)\n",
            "Requirement already satisfied: regex!=2019.12.17 in /usr/local/lib/python3.9/dist-packages (from transformers) (2022.6.2)\n",
            "Requirement already satisfied: filelock in /usr/local/lib/python3.9/dist-packages (from transformers) (3.9.0)\n",
            "Requirement already satisfied: numpy>=1.17 in /usr/local/lib/python3.9/dist-packages (from transformers) (1.22.4)\n",
            "Requirement already satisfied: packaging>=20.0 in /usr/local/lib/python3.9/dist-packages (from transformers) (23.0)\n",
            "Requirement already satisfied: pyyaml>=5.1 in /usr/local/lib/python3.9/dist-packages (from transformers) (6.0)\n",
            "Requirement already satisfied: huggingface-hub<1.0,>=0.11.0 in /usr/local/lib/python3.9/dist-packages (from transformers) (0.13.1)\n",
            "Requirement already satisfied: requests in /usr/local/lib/python3.9/dist-packages (from transformers) (2.25.1)\n",
            "Requirement already satisfied: tqdm>=4.27 in /usr/local/lib/python3.9/dist-packages (from transformers) (4.65.0)\n",
            "Requirement already satisfied: typing-extensions>=3.7.4.3 in /usr/local/lib/python3.9/dist-packages (from huggingface-hub<1.0,>=0.11.0->transformers) (4.5.0)\n",
            "Requirement already satisfied: urllib3<1.27,>=1.21.1 in /usr/local/lib/python3.9/dist-packages (from requests->transformers) (1.26.14)\n",
            "Requirement already satisfied: idna<3,>=2.5 in /usr/local/lib/python3.9/dist-packages (from requests->transformers) (2.10)\n",
            "Requirement already satisfied: certifi>=2017.4.17 in /usr/local/lib/python3.9/dist-packages (from requests->transformers) (2022.12.7)\n",
            "Requirement already satisfied: chardet<5,>=3.0.2 in /usr/local/lib/python3.9/dist-packages (from requests->transformers) (4.0.0)\n",
            "Looking in indexes: https://pypi.org/simple, https://us-python.pkg.dev/colab-wheels/public/simple/\n",
            "Requirement already satisfied: datasets in /usr/local/lib/python3.9/dist-packages (2.10.1)\n",
            "Requirement already satisfied: requests>=2.19.0 in /usr/local/lib/python3.9/dist-packages (from datasets) (2.25.1)\n",
            "Requirement already satisfied: pandas in /usr/local/lib/python3.9/dist-packages (from datasets) (1.3.5)\n",
            "Requirement already satisfied: numpy>=1.17 in /usr/local/lib/python3.9/dist-packages (from datasets) (1.22.4)\n",
            "Requirement already satisfied: multiprocess in /usr/local/lib/python3.9/dist-packages (from datasets) (0.70.14)\n",
            "Requirement already satisfied: aiohttp in /usr/local/lib/python3.9/dist-packages (from datasets) (3.8.4)\n",
            "Requirement already satisfied: pyyaml>=5.1 in /usr/local/lib/python3.9/dist-packages (from datasets) (6.0)\n",
            "Requirement already satisfied: xxhash in /usr/local/lib/python3.9/dist-packages (from datasets) (3.2.0)\n",
            "Requirement already satisfied: packaging in /usr/local/lib/python3.9/dist-packages (from datasets) (23.0)\n",
            "Requirement already satisfied: dill<0.3.7,>=0.3.0 in /usr/local/lib/python3.9/dist-packages (from datasets) (0.3.6)\n",
            "Requirement already satisfied: tqdm>=4.62.1 in /usr/local/lib/python3.9/dist-packages (from datasets) (4.65.0)\n",
            "Requirement already satisfied: pyarrow>=6.0.0 in /usr/local/lib/python3.9/dist-packages (from datasets) (9.0.0)\n",
            "Requirement already satisfied: huggingface-hub<1.0.0,>=0.2.0 in /usr/local/lib/python3.9/dist-packages (from datasets) (0.13.1)\n",
            "Requirement already satisfied: responses<0.19 in /usr/local/lib/python3.9/dist-packages (from datasets) (0.18.0)\n",
            "Requirement already satisfied: fsspec[http]>=2021.11.1 in /usr/local/lib/python3.9/dist-packages (from datasets) (2023.3.0)\n",
            "Requirement already satisfied: attrs>=17.3.0 in /usr/local/lib/python3.9/dist-packages (from aiohttp->datasets) (22.2.0)\n",
            "Requirement already satisfied: charset-normalizer<4.0,>=2.0 in /usr/local/lib/python3.9/dist-packages (from aiohttp->datasets) (3.1.0)\n",
            "Requirement already satisfied: async-timeout<5.0,>=4.0.0a3 in /usr/local/lib/python3.9/dist-packages (from aiohttp->datasets) (4.0.2)\n",
            "Requirement already satisfied: aiosignal>=1.1.2 in /usr/local/lib/python3.9/dist-packages (from aiohttp->datasets) (1.3.1)\n",
            "Requirement already satisfied: multidict<7.0,>=4.5 in /usr/local/lib/python3.9/dist-packages (from aiohttp->datasets) (6.0.4)\n",
            "Requirement already satisfied: frozenlist>=1.1.1 in /usr/local/lib/python3.9/dist-packages (from aiohttp->datasets) (1.3.3)\n",
            "Requirement already satisfied: yarl<2.0,>=1.0 in /usr/local/lib/python3.9/dist-packages (from aiohttp->datasets) (1.8.2)\n",
            "Requirement already satisfied: filelock in /usr/local/lib/python3.9/dist-packages (from huggingface-hub<1.0.0,>=0.2.0->datasets) (3.9.0)\n",
            "Requirement already satisfied: typing-extensions>=3.7.4.3 in /usr/local/lib/python3.9/dist-packages (from huggingface-hub<1.0.0,>=0.2.0->datasets) (4.5.0)\n",
            "Requirement already satisfied: certifi>=2017.4.17 in /usr/local/lib/python3.9/dist-packages (from requests>=2.19.0->datasets) (2022.12.7)\n",
            "Requirement already satisfied: chardet<5,>=3.0.2 in /usr/local/lib/python3.9/dist-packages (from requests>=2.19.0->datasets) (4.0.0)\n",
            "Requirement already satisfied: urllib3<1.27,>=1.21.1 in /usr/local/lib/python3.9/dist-packages (from requests>=2.19.0->datasets) (1.26.14)\n",
            "Requirement already satisfied: idna<3,>=2.5 in /usr/local/lib/python3.9/dist-packages (from requests>=2.19.0->datasets) (2.10)\n",
            "Requirement already satisfied: pytz>=2017.3 in /usr/local/lib/python3.9/dist-packages (from pandas->datasets) (2022.7.1)\n",
            "Requirement already satisfied: python-dateutil>=2.7.3 in /usr/local/lib/python3.9/dist-packages (from pandas->datasets) (2.8.2)\n",
            "Requirement already satisfied: six>=1.5 in /usr/local/lib/python3.9/dist-packages (from python-dateutil>=2.7.3->pandas->datasets) (1.15.0)\n",
            "Looking in indexes: https://pypi.org/simple, https://us-python.pkg.dev/colab-wheels/public/simple/\n",
            "Requirement already satisfied: pynvml in /usr/local/lib/python3.9/dist-packages (11.5.0)\n",
            "Looking in indexes: https://pypi.org/simple, https://us-python.pkg.dev/colab-wheels/public/simple/\n",
            "Requirement already satisfied: evaluate in /usr/local/lib/python3.9/dist-packages (0.4.0)\n",
            "Requirement already satisfied: huggingface-hub>=0.7.0 in /usr/local/lib/python3.9/dist-packages (from evaluate) (0.13.1)\n",
            "Requirement already satisfied: tqdm>=4.62.1 in /usr/local/lib/python3.9/dist-packages (from evaluate) (4.65.0)\n",
            "Requirement already satisfied: fsspec[http]>=2021.05.0 in /usr/local/lib/python3.9/dist-packages (from evaluate) (2023.3.0)\n",
            "Requirement already satisfied: numpy>=1.17 in /usr/local/lib/python3.9/dist-packages (from evaluate) (1.22.4)\n",
            "Requirement already satisfied: datasets>=2.0.0 in /usr/local/lib/python3.9/dist-packages (from evaluate) (2.10.1)\n",
            "Requirement already satisfied: packaging in /usr/local/lib/python3.9/dist-packages (from evaluate) (23.0)\n",
            "Requirement already satisfied: responses<0.19 in /usr/local/lib/python3.9/dist-packages (from evaluate) (0.18.0)\n",
            "Requirement already satisfied: multiprocess in /usr/local/lib/python3.9/dist-packages (from evaluate) (0.70.14)\n",
            "Requirement already satisfied: dill in /usr/local/lib/python3.9/dist-packages (from evaluate) (0.3.6)\n",
            "Requirement already satisfied: requests>=2.19.0 in /usr/local/lib/python3.9/dist-packages (from evaluate) (2.25.1)\n",
            "Requirement already satisfied: pandas in /usr/local/lib/python3.9/dist-packages (from evaluate) (1.3.5)\n",
            "Requirement already satisfied: xxhash in /usr/local/lib/python3.9/dist-packages (from evaluate) (3.2.0)\n",
            "Requirement already satisfied: pyyaml>=5.1 in /usr/local/lib/python3.9/dist-packages (from datasets>=2.0.0->evaluate) (6.0)\n",
            "Requirement already satisfied: aiohttp in /usr/local/lib/python3.9/dist-packages (from datasets>=2.0.0->evaluate) (3.8.4)\n",
            "Requirement already satisfied: pyarrow>=6.0.0 in /usr/local/lib/python3.9/dist-packages (from datasets>=2.0.0->evaluate) (9.0.0)\n",
            "Requirement already satisfied: typing-extensions>=3.7.4.3 in /usr/local/lib/python3.9/dist-packages (from huggingface-hub>=0.7.0->evaluate) (4.5.0)\n",
            "Requirement already satisfied: filelock in /usr/local/lib/python3.9/dist-packages (from huggingface-hub>=0.7.0->evaluate) (3.9.0)\n",
            "Requirement already satisfied: urllib3<1.27,>=1.21.1 in /usr/local/lib/python3.9/dist-packages (from requests>=2.19.0->evaluate) (1.26.14)\n",
            "Requirement already satisfied: chardet<5,>=3.0.2 in /usr/local/lib/python3.9/dist-packages (from requests>=2.19.0->evaluate) (4.0.0)\n",
            "Requirement already satisfied: certifi>=2017.4.17 in /usr/local/lib/python3.9/dist-packages (from requests>=2.19.0->evaluate) (2022.12.7)\n",
            "Requirement already satisfied: idna<3,>=2.5 in /usr/local/lib/python3.9/dist-packages (from requests>=2.19.0->evaluate) (2.10)\n",
            "Requirement already satisfied: pytz>=2017.3 in /usr/local/lib/python3.9/dist-packages (from pandas->evaluate) (2022.7.1)\n",
            "Requirement already satisfied: python-dateutil>=2.7.3 in /usr/local/lib/python3.9/dist-packages (from pandas->evaluate) (2.8.2)\n",
            "Requirement already satisfied: async-timeout<5.0,>=4.0.0a3 in /usr/local/lib/python3.9/dist-packages (from aiohttp->datasets>=2.0.0->evaluate) (4.0.2)\n",
            "Requirement already satisfied: attrs>=17.3.0 in /usr/local/lib/python3.9/dist-packages (from aiohttp->datasets>=2.0.0->evaluate) (22.2.0)\n",
            "Requirement already satisfied: aiosignal>=1.1.2 in /usr/local/lib/python3.9/dist-packages (from aiohttp->datasets>=2.0.0->evaluate) (1.3.1)\n",
            "Requirement already satisfied: yarl<2.0,>=1.0 in /usr/local/lib/python3.9/dist-packages (from aiohttp->datasets>=2.0.0->evaluate) (1.8.2)\n",
            "Requirement already satisfied: multidict<7.0,>=4.5 in /usr/local/lib/python3.9/dist-packages (from aiohttp->datasets>=2.0.0->evaluate) (6.0.4)\n",
            "Requirement already satisfied: frozenlist>=1.1.1 in /usr/local/lib/python3.9/dist-packages (from aiohttp->datasets>=2.0.0->evaluate) (1.3.3)\n",
            "Requirement already satisfied: charset-normalizer<4.0,>=2.0 in /usr/local/lib/python3.9/dist-packages (from aiohttp->datasets>=2.0.0->evaluate) (3.1.0)\n",
            "Requirement already satisfied: six>=1.5 in /usr/local/lib/python3.9/dist-packages (from python-dateutil>=2.7.3->pandas->evaluate) (1.15.0)\n"
          ]
        }
      ]
    },
    {
      "cell_type": "code",
      "source": [
        "import transformers\n",
        "from datasets import load_dataset, load_metric\n",
        "from transformers import AutoTokenizer, AutoModelForSequenceClassification\n",
        "import numpy as np\n",
        "import os\n",
        "import nltk\n",
        "import torch\n",
        "import evaluate\n",
        "import sys\n",
        "import pandas as pd\n",
        "from datasets import load_dataset, Dataset, DatasetDict\n",
        "from pynvml import nvmlInit, nvmlDeviceGetHandleByIndex, nvmlDeviceGetMemoryInfo\n",
        "from sklearn.model_selection import train_test_split"
      ],
      "metadata": {
        "id": "1ZJb1g4dHy4s"
      },
      "execution_count": 2,
      "outputs": []
    },
    {
      "cell_type": "code",
      "source": [
        "from google.colab import drive\n",
        "drive.mount('/content/drive')"
      ],
      "metadata": {
        "colab": {
          "base_uri": "https://localhost:8080/"
        },
        "id": "9m3KwBqWVwRH",
        "outputId": "a9355b0e-08cb-48c7-dc43-d9c6621d0ef5"
      },
      "execution_count": 3,
      "outputs": [
        {
          "output_type": "stream",
          "name": "stdout",
          "text": [
            "Drive already mounted at /content/drive; to attempt to forcibly remount, call drive.mount(\"/content/drive\", force_remount=True).\n"
          ]
        }
      ]
    },
    {
      "cell_type": "markdown",
      "source": [
        "### UTILS FUNCTION TO WORK WITH GPU"
      ],
      "metadata": {
        "id": "9PLBnS6MJcYF"
      }
    },
    {
      "cell_type": "markdown",
      "source": [
        "The code below outlines some utilis function for working with the GPU and select the gpu as DEVICE to use in case it is available."
      ],
      "metadata": {
        "id": "OUYTD5C9Lr25"
      }
    },
    {
      "cell_type": "code",
      "source": [
        "# define utils functions to facilitate gpu \n",
        "\n",
        "def check_gpu_availability():\n",
        "    # Check if CUDA is available\n",
        "    print(f\"Cuda is available: {torch.cuda.is_available()}\")\n",
        "\n",
        "def getting_device(gpu_prefence=True) -> torch.device:\n",
        "    \"\"\"\n",
        "    This function gets the torch device to be used for computations, \n",
        "    based on the GPU preference specified by the user.\n",
        "    \"\"\"\n",
        "    \n",
        "    # If GPU is preferred and available, set device to CUDA\n",
        "    if gpu_prefence and torch.cuda.is_available():\n",
        "        device = torch.device('cuda')\n",
        "    # If GPU is not preferred or not available, set device to CPU\n",
        "    else: \n",
        "        device = torch.device(\"cpu\")\n",
        "    \n",
        "    # Print the selected device\n",
        "    print(f\"Selected device: {device}\")\n",
        "    \n",
        "    # Return the device\n",
        "    return device\n",
        "\n",
        "# Define a function to print GPU memory utilization\n",
        "def print_gpu_utilization():\n",
        "    # Initialize the PyNVML library\n",
        "    nvmlInit()\n",
        "    # Get a handle to the first GPU in the system\n",
        "    handle = nvmlDeviceGetHandleByIndex(0)\n",
        "    # Get information about the memory usage on the GPU\n",
        "    info = nvmlDeviceGetMemoryInfo(handle)\n",
        "    # Print the GPU memory usage in MB\n",
        "    print(f\"GPU memory occupied: {info.used//1024**2} MB.\")\n",
        "\n",
        "# Define a function to print training summary information\n",
        "def print_summary(result):\n",
        "    # Print the total training time in seconds\n",
        "    print(f\"Time: {result.metrics['train_runtime']:.2f}\")\n",
        "    # Print the number of training samples processed per second\n",
        "    print(f\"Samples/second: {result.metrics['train_samples_per_second']:.2f}\")\n",
        "    # Print the GPU memory utilization\n",
        "    print_gpu_utilization()"
      ],
      "metadata": {
        "id": "0bgBYZi0JfAT"
      },
      "execution_count": 4,
      "outputs": []
    },
    {
      "cell_type": "code",
      "source": [
        "# CHECK IF GPU IS UP\n",
        "check_gpu_availability()"
      ],
      "metadata": {
        "colab": {
          "base_uri": "https://localhost:8080/"
        },
        "id": "68z89KuUJreY",
        "outputId": "169b5399-ec5d-46d3-87ca-608e93fe337a"
      },
      "execution_count": 5,
      "outputs": [
        {
          "output_type": "stream",
          "name": "stdout",
          "text": [
            "Cuda is available: True\n"
          ]
        }
      ]
    },
    {
      "cell_type": "code",
      "source": [
        "# SAVE THE DEVICE WE ARE WORKING WITH\n",
        "device = getting_device(gpu_prefence=True)"
      ],
      "metadata": {
        "colab": {
          "base_uri": "https://localhost:8080/"
        },
        "id": "yJraQwshJyEL",
        "outputId": "10eb1ae3-b087-4002-dd44-6341c3b09fa3"
      },
      "execution_count": 6,
      "outputs": [
        {
          "output_type": "stream",
          "name": "stdout",
          "text": [
            "Selected device: cuda\n"
          ]
        }
      ]
    },
    {
      "cell_type": "code",
      "source": [
        "# SHOULD BE FEW MB\n",
        "print_gpu_utilization()"
      ],
      "metadata": {
        "colab": {
          "base_uri": "https://localhost:8080/"
        },
        "id": "iLoPo-nrJ6qY",
        "outputId": "f5b341de-e91e-4f93-905a-7a3de62202fe"
      },
      "execution_count": 7,
      "outputs": [
        {
          "output_type": "stream",
          "name": "stdout",
          "text": [
            "GPU memory occupied: 261 MB.\n"
          ]
        }
      ]
    },
    {
      "cell_type": "markdown",
      "source": [
        "### IMPORTING THE DATA"
      ],
      "metadata": {
        "id": "n-1wBq_yH3N4"
      }
    },
    {
      "cell_type": "markdown",
      "source": [
        "In this block:\n",
        "- import the data and divide it in train and test. \n",
        "- check the lenght of the dataset\n",
        "- change the name of target values from \"target\" to \"label\" to conform to BERT's standard\n"
      ],
      "metadata": {
        "id": "tPbgAyaZMM_Q"
      }
    },
    {
      "cell_type": "code",
      "source": [
        "# Read in train and test CSV files using Pandas\n",
        "path2train = '/content/drive/MyDrive/LT_SHARED_FOLDER/train.csv'\n",
        "df = pd.read_csv(path2train)\n",
        "# split the data into training and testing sets\n",
        "train_df, test_df = train_test_split(df, test_size=0.2, random_state=42)"
      ],
      "metadata": {
        "id": "yX78GlJ1IZsj"
      },
      "execution_count": 8,
      "outputs": []
    },
    {
      "cell_type": "code",
      "source": [
        "# Visualize the dataset head\n",
        "train_df.head(n=3)"
      ],
      "metadata": {
        "colab": {
          "base_uri": "https://localhost:8080/",
          "height": 0
        },
        "id": "k0c8L42jP3zF",
        "outputId": "12bbc335-6c34-4bf8-bb90-c3be6d0cc83c"
      },
      "execution_count": 9,
      "outputs": [
        {
          "output_type": "execute_result",
          "data": {
            "text/plain": [
              "        id   keyword            location  \\\n",
              "4996  7128  military               Texas   \n",
              "3263  4688  engulfed                 NaN   \n",
              "4907  6984  massacre  Cottonwood Arizona   \n",
              "\n",
              "                                                   text  target  \n",
              "4996  Courageous and honest analysis of need to use ...       1  \n",
              "3263  @ZachZaidman @670TheScore wld b a shame if tha...       0  \n",
              "4907  Tell @BarackObama to rescind medals of 'honor'...       1  "
            ],
            "text/html": [
              "\n",
              "  <div id=\"df-ef52af8e-4235-4064-8649-15d3e540185e\">\n",
              "    <div class=\"colab-df-container\">\n",
              "      <div>\n",
              "<style scoped>\n",
              "    .dataframe tbody tr th:only-of-type {\n",
              "        vertical-align: middle;\n",
              "    }\n",
              "\n",
              "    .dataframe tbody tr th {\n",
              "        vertical-align: top;\n",
              "    }\n",
              "\n",
              "    .dataframe thead th {\n",
              "        text-align: right;\n",
              "    }\n",
              "</style>\n",
              "<table border=\"1\" class=\"dataframe\">\n",
              "  <thead>\n",
              "    <tr style=\"text-align: right;\">\n",
              "      <th></th>\n",
              "      <th>id</th>\n",
              "      <th>keyword</th>\n",
              "      <th>location</th>\n",
              "      <th>text</th>\n",
              "      <th>target</th>\n",
              "    </tr>\n",
              "  </thead>\n",
              "  <tbody>\n",
              "    <tr>\n",
              "      <th>4996</th>\n",
              "      <td>7128</td>\n",
              "      <td>military</td>\n",
              "      <td>Texas</td>\n",
              "      <td>Courageous and honest analysis of need to use ...</td>\n",
              "      <td>1</td>\n",
              "    </tr>\n",
              "    <tr>\n",
              "      <th>3263</th>\n",
              "      <td>4688</td>\n",
              "      <td>engulfed</td>\n",
              "      <td>NaN</td>\n",
              "      <td>@ZachZaidman @670TheScore wld b a shame if tha...</td>\n",
              "      <td>0</td>\n",
              "    </tr>\n",
              "    <tr>\n",
              "      <th>4907</th>\n",
              "      <td>6984</td>\n",
              "      <td>massacre</td>\n",
              "      <td>Cottonwood Arizona</td>\n",
              "      <td>Tell @BarackObama to rescind medals of 'honor'...</td>\n",
              "      <td>1</td>\n",
              "    </tr>\n",
              "  </tbody>\n",
              "</table>\n",
              "</div>\n",
              "      <button class=\"colab-df-convert\" onclick=\"convertToInteractive('df-ef52af8e-4235-4064-8649-15d3e540185e')\"\n",
              "              title=\"Convert this dataframe to an interactive table.\"\n",
              "              style=\"display:none;\">\n",
              "        \n",
              "  <svg xmlns=\"http://www.w3.org/2000/svg\" height=\"24px\"viewBox=\"0 0 24 24\"\n",
              "       width=\"24px\">\n",
              "    <path d=\"M0 0h24v24H0V0z\" fill=\"none\"/>\n",
              "    <path d=\"M18.56 5.44l.94 2.06.94-2.06 2.06-.94-2.06-.94-.94-2.06-.94 2.06-2.06.94zm-11 1L8.5 8.5l.94-2.06 2.06-.94-2.06-.94L8.5 2.5l-.94 2.06-2.06.94zm10 10l.94 2.06.94-2.06 2.06-.94-2.06-.94-.94-2.06-.94 2.06-2.06.94z\"/><path d=\"M17.41 7.96l-1.37-1.37c-.4-.4-.92-.59-1.43-.59-.52 0-1.04.2-1.43.59L10.3 9.45l-7.72 7.72c-.78.78-.78 2.05 0 2.83L4 21.41c.39.39.9.59 1.41.59.51 0 1.02-.2 1.41-.59l7.78-7.78 2.81-2.81c.8-.78.8-2.07 0-2.86zM5.41 20L4 18.59l7.72-7.72 1.47 1.35L5.41 20z\"/>\n",
              "  </svg>\n",
              "      </button>\n",
              "      \n",
              "  <style>\n",
              "    .colab-df-container {\n",
              "      display:flex;\n",
              "      flex-wrap:wrap;\n",
              "      gap: 12px;\n",
              "    }\n",
              "\n",
              "    .colab-df-convert {\n",
              "      background-color: #E8F0FE;\n",
              "      border: none;\n",
              "      border-radius: 50%;\n",
              "      cursor: pointer;\n",
              "      display: none;\n",
              "      fill: #1967D2;\n",
              "      height: 32px;\n",
              "      padding: 0 0 0 0;\n",
              "      width: 32px;\n",
              "    }\n",
              "\n",
              "    .colab-df-convert:hover {\n",
              "      background-color: #E2EBFA;\n",
              "      box-shadow: 0px 1px 2px rgba(60, 64, 67, 0.3), 0px 1px 3px 1px rgba(60, 64, 67, 0.15);\n",
              "      fill: #174EA6;\n",
              "    }\n",
              "\n",
              "    [theme=dark] .colab-df-convert {\n",
              "      background-color: #3B4455;\n",
              "      fill: #D2E3FC;\n",
              "    }\n",
              "\n",
              "    [theme=dark] .colab-df-convert:hover {\n",
              "      background-color: #434B5C;\n",
              "      box-shadow: 0px 1px 3px 1px rgba(0, 0, 0, 0.15);\n",
              "      filter: drop-shadow(0px 1px 2px rgba(0, 0, 0, 0.3));\n",
              "      fill: #FFFFFF;\n",
              "    }\n",
              "  </style>\n",
              "\n",
              "      <script>\n",
              "        const buttonEl =\n",
              "          document.querySelector('#df-ef52af8e-4235-4064-8649-15d3e540185e button.colab-df-convert');\n",
              "        buttonEl.style.display =\n",
              "          google.colab.kernel.accessAllowed ? 'block' : 'none';\n",
              "\n",
              "        async function convertToInteractive(key) {\n",
              "          const element = document.querySelector('#df-ef52af8e-4235-4064-8649-15d3e540185e');\n",
              "          const dataTable =\n",
              "            await google.colab.kernel.invokeFunction('convertToInteractive',\n",
              "                                                     [key], {});\n",
              "          if (!dataTable) return;\n",
              "\n",
              "          const docLinkHtml = 'Like what you see? Visit the ' +\n",
              "            '<a target=\"_blank\" href=https://colab.research.google.com/notebooks/data_table.ipynb>data table notebook</a>'\n",
              "            + ' to learn more about interactive tables.';\n",
              "          element.innerHTML = '';\n",
              "          dataTable['output_type'] = 'display_data';\n",
              "          await google.colab.output.renderOutput(dataTable, element);\n",
              "          const docLink = document.createElement('div');\n",
              "          docLink.innerHTML = docLinkHtml;\n",
              "          element.appendChild(docLink);\n",
              "        }\n",
              "      </script>\n",
              "    </div>\n",
              "  </div>\n",
              "  "
            ]
          },
          "metadata": {},
          "execution_count": 9
        }
      ]
    },
    {
      "cell_type": "code",
      "source": [
        "# UTILS function => get the length of a df\n",
        "def print_length_df(df):\n",
        "  print(f'Number of rows in the dataframe: {len(df)}')\n",
        "\n",
        "print_length_df(train_df)\n",
        "print_length_df(test_df)"
      ],
      "metadata": {
        "colab": {
          "base_uri": "https://localhost:8080/"
        },
        "id": "YvOjMJ5OMp6C",
        "outputId": "55995ada-375d-4781-b783-f99d1dd792a7"
      },
      "execution_count": 10,
      "outputs": [
        {
          "output_type": "stream",
          "name": "stdout",
          "text": [
            "Number of rows in the dataframe: 6090\n",
            "Number of rows in the dataframe: 1523\n"
          ]
        }
      ]
    },
    {
      "cell_type": "code",
      "source": [
        "# Change the name of target values from \"target\" to \"labels\" to conform to BERT's standard\n",
        "\n",
        "train_df.rename(columns = {\"target\":\"labels\"}, inplace = True)\n",
        "test_df.rename(columns = {\"target\":\"labels\"}, inplace = True)\n",
        "train_df.head(3)"
      ],
      "metadata": {
        "colab": {
          "base_uri": "https://localhost:8080/",
          "height": 0
        },
        "id": "7vszn6AO0myP",
        "outputId": "1e4a6816-4ba1-4125-9194-f9308a52d5c2"
      },
      "execution_count": 11,
      "outputs": [
        {
          "output_type": "execute_result",
          "data": {
            "text/plain": [
              "        id   keyword            location  \\\n",
              "4996  7128  military               Texas   \n",
              "3263  4688  engulfed                 NaN   \n",
              "4907  6984  massacre  Cottonwood Arizona   \n",
              "\n",
              "                                                   text  labels  \n",
              "4996  Courageous and honest analysis of need to use ...       1  \n",
              "3263  @ZachZaidman @670TheScore wld b a shame if tha...       0  \n",
              "4907  Tell @BarackObama to rescind medals of 'honor'...       1  "
            ],
            "text/html": [
              "\n",
              "  <div id=\"df-90e440d3-4ede-47f4-942d-6cb68eb997cd\">\n",
              "    <div class=\"colab-df-container\">\n",
              "      <div>\n",
              "<style scoped>\n",
              "    .dataframe tbody tr th:only-of-type {\n",
              "        vertical-align: middle;\n",
              "    }\n",
              "\n",
              "    .dataframe tbody tr th {\n",
              "        vertical-align: top;\n",
              "    }\n",
              "\n",
              "    .dataframe thead th {\n",
              "        text-align: right;\n",
              "    }\n",
              "</style>\n",
              "<table border=\"1\" class=\"dataframe\">\n",
              "  <thead>\n",
              "    <tr style=\"text-align: right;\">\n",
              "      <th></th>\n",
              "      <th>id</th>\n",
              "      <th>keyword</th>\n",
              "      <th>location</th>\n",
              "      <th>text</th>\n",
              "      <th>labels</th>\n",
              "    </tr>\n",
              "  </thead>\n",
              "  <tbody>\n",
              "    <tr>\n",
              "      <th>4996</th>\n",
              "      <td>7128</td>\n",
              "      <td>military</td>\n",
              "      <td>Texas</td>\n",
              "      <td>Courageous and honest analysis of need to use ...</td>\n",
              "      <td>1</td>\n",
              "    </tr>\n",
              "    <tr>\n",
              "      <th>3263</th>\n",
              "      <td>4688</td>\n",
              "      <td>engulfed</td>\n",
              "      <td>NaN</td>\n",
              "      <td>@ZachZaidman @670TheScore wld b a shame if tha...</td>\n",
              "      <td>0</td>\n",
              "    </tr>\n",
              "    <tr>\n",
              "      <th>4907</th>\n",
              "      <td>6984</td>\n",
              "      <td>massacre</td>\n",
              "      <td>Cottonwood Arizona</td>\n",
              "      <td>Tell @BarackObama to rescind medals of 'honor'...</td>\n",
              "      <td>1</td>\n",
              "    </tr>\n",
              "  </tbody>\n",
              "</table>\n",
              "</div>\n",
              "      <button class=\"colab-df-convert\" onclick=\"convertToInteractive('df-90e440d3-4ede-47f4-942d-6cb68eb997cd')\"\n",
              "              title=\"Convert this dataframe to an interactive table.\"\n",
              "              style=\"display:none;\">\n",
              "        \n",
              "  <svg xmlns=\"http://www.w3.org/2000/svg\" height=\"24px\"viewBox=\"0 0 24 24\"\n",
              "       width=\"24px\">\n",
              "    <path d=\"M0 0h24v24H0V0z\" fill=\"none\"/>\n",
              "    <path d=\"M18.56 5.44l.94 2.06.94-2.06 2.06-.94-2.06-.94-.94-2.06-.94 2.06-2.06.94zm-11 1L8.5 8.5l.94-2.06 2.06-.94-2.06-.94L8.5 2.5l-.94 2.06-2.06.94zm10 10l.94 2.06.94-2.06 2.06-.94-2.06-.94-.94-2.06-.94 2.06-2.06.94z\"/><path d=\"M17.41 7.96l-1.37-1.37c-.4-.4-.92-.59-1.43-.59-.52 0-1.04.2-1.43.59L10.3 9.45l-7.72 7.72c-.78.78-.78 2.05 0 2.83L4 21.41c.39.39.9.59 1.41.59.51 0 1.02-.2 1.41-.59l7.78-7.78 2.81-2.81c.8-.78.8-2.07 0-2.86zM5.41 20L4 18.59l7.72-7.72 1.47 1.35L5.41 20z\"/>\n",
              "  </svg>\n",
              "      </button>\n",
              "      \n",
              "  <style>\n",
              "    .colab-df-container {\n",
              "      display:flex;\n",
              "      flex-wrap:wrap;\n",
              "      gap: 12px;\n",
              "    }\n",
              "\n",
              "    .colab-df-convert {\n",
              "      background-color: #E8F0FE;\n",
              "      border: none;\n",
              "      border-radius: 50%;\n",
              "      cursor: pointer;\n",
              "      display: none;\n",
              "      fill: #1967D2;\n",
              "      height: 32px;\n",
              "      padding: 0 0 0 0;\n",
              "      width: 32px;\n",
              "    }\n",
              "\n",
              "    .colab-df-convert:hover {\n",
              "      background-color: #E2EBFA;\n",
              "      box-shadow: 0px 1px 2px rgba(60, 64, 67, 0.3), 0px 1px 3px 1px rgba(60, 64, 67, 0.15);\n",
              "      fill: #174EA6;\n",
              "    }\n",
              "\n",
              "    [theme=dark] .colab-df-convert {\n",
              "      background-color: #3B4455;\n",
              "      fill: #D2E3FC;\n",
              "    }\n",
              "\n",
              "    [theme=dark] .colab-df-convert:hover {\n",
              "      background-color: #434B5C;\n",
              "      box-shadow: 0px 1px 3px 1px rgba(0, 0, 0, 0.15);\n",
              "      filter: drop-shadow(0px 1px 2px rgba(0, 0, 0, 0.3));\n",
              "      fill: #FFFFFF;\n",
              "    }\n",
              "  </style>\n",
              "\n",
              "      <script>\n",
              "        const buttonEl =\n",
              "          document.querySelector('#df-90e440d3-4ede-47f4-942d-6cb68eb997cd button.colab-df-convert');\n",
              "        buttonEl.style.display =\n",
              "          google.colab.kernel.accessAllowed ? 'block' : 'none';\n",
              "\n",
              "        async function convertToInteractive(key) {\n",
              "          const element = document.querySelector('#df-90e440d3-4ede-47f4-942d-6cb68eb997cd');\n",
              "          const dataTable =\n",
              "            await google.colab.kernel.invokeFunction('convertToInteractive',\n",
              "                                                     [key], {});\n",
              "          if (!dataTable) return;\n",
              "\n",
              "          const docLinkHtml = 'Like what you see? Visit the ' +\n",
              "            '<a target=\"_blank\" href=https://colab.research.google.com/notebooks/data_table.ipynb>data table notebook</a>'\n",
              "            + ' to learn more about interactive tables.';\n",
              "          element.innerHTML = '';\n",
              "          dataTable['output_type'] = 'display_data';\n",
              "          await google.colab.output.renderOutput(dataTable, element);\n",
              "          const docLink = document.createElement('div');\n",
              "          docLink.innerHTML = docLinkHtml;\n",
              "          element.appendChild(docLink);\n",
              "        }\n",
              "      </script>\n",
              "    </div>\n",
              "  </div>\n",
              "  "
            ]
          },
          "metadata": {},
          "execution_count": 11
        }
      ]
    },
    {
      "cell_type": "markdown",
      "source": [
        "### BUILDING IT INTO DATASETES"
      ],
      "metadata": {
        "id": "81kIG1obOm4u"
      }
    },
    {
      "cell_type": "markdown",
      "source": [
        "The next step is to build datasets and dataloaders with tokenized data. We make this in the order: datasets => tokenize it => dataloader. Thereafter a definition of dataset and dataloader from Pytorch docs: \"Dataset stores the samples and their corresponding labels, and DataLoader wraps an iterable around the Dataset to enable easy access to the samples.\""
      ],
      "metadata": {
        "id": "iSGl1fzwQOzI"
      }
    },
    {
      "cell_type": "code",
      "source": [
        "# pandas2dataset\n",
        "ds_train = Dataset.from_pandas(train_df[[\"text\",\"labels\"]])\n",
        "ds_test = Dataset.from_pandas(test_df[[\"text\",\"labels\"]])"
      ],
      "metadata": {
        "id": "CGKG_qJaLTYY"
      },
      "execution_count": 12,
      "outputs": []
    },
    {
      "cell_type": "code",
      "source": [
        "ds_train"
      ],
      "metadata": {
        "colab": {
          "base_uri": "https://localhost:8080/"
        },
        "id": "pj0oblqML16U",
        "outputId": "d0769874-e337-4322-fa70-41dc62518f80"
      },
      "execution_count": 13,
      "outputs": [
        {
          "output_type": "execute_result",
          "data": {
            "text/plain": [
              "Dataset({\n",
              "    features: ['text', 'labels', '__index_level_0__'],\n",
              "    num_rows: 6090\n",
              "})"
            ]
          },
          "metadata": {},
          "execution_count": 13
        }
      ]
    },
    {
      "cell_type": "markdown",
      "source": [
        "### MODEL CHOICE"
      ],
      "metadata": {
        "id": "TYZqxhf6OqWQ"
      }
    },
    {
      "cell_type": "markdown",
      "source": [
        "Loading the model reference to import tokenizer and model itself through HF library"
      ],
      "metadata": {
        "id": "NR5BDdigRbbo"
      }
    },
    {
      "cell_type": "code",
      "source": [
        "model_nm = \"bert-large-uncased\" "
      ],
      "metadata": {
        "id": "4GRk5Nr_OsO0"
      },
      "execution_count": 14,
      "outputs": []
    },
    {
      "cell_type": "markdown",
      "source": [
        "### TOKENIZING THE DATASET"
      ],
      "metadata": {
        "id": "8Pmu_nV0N4lN"
      }
    },
    {
      "cell_type": "code",
      "source": [
        "# IMPORTING THE MODULE TO GET THE TOKENIZER\n",
        "from transformers import AutoTokenizer"
      ],
      "metadata": {
        "id": "-wRLrpIePfeH"
      },
      "execution_count": 15,
      "outputs": []
    },
    {
      "cell_type": "code",
      "source": [
        "# IMPORTING OUR TOKENIZER\n",
        "tokz = AutoTokenizer.from_pretrained(model_nm)"
      ],
      "metadata": {
        "id": "HCxOPY3cN7C7"
      },
      "execution_count": 16,
      "outputs": []
    },
    {
      "cell_type": "code",
      "source": [
        "# TO USE THE TOKENIZER WE NEED TO CHECK THE MAX LENGHT OF THE SENTENCES (ONCE SPLITTED IN TOKEN IDS)\n",
        "# Making list of sentence lenghts:\n",
        "\n",
        "def get_list_of_lengths(text_column, tokenizer) -> int:\n",
        "\n",
        "  token_lens = []\n",
        "  \n",
        "  for text in text_column:\n",
        "\n",
        "    # Tokenize the text and add `[CLS]` and `[SEP]` tokens => split in symbolic/textual tokens and map them to integer ids\n",
        "    tokens = tokenizer.encode(text, add_special_tokens=True)\n",
        "    \n",
        "    #checking the len of tokenized sentence\n",
        "    token_lens.append(len(tokens))\n",
        "\n",
        "  return token_lens\n",
        "\n",
        "def get_max_lenghts(list_len) -> int:\n",
        "\n",
        "  # PART 1 MAX\n",
        "\n",
        "  # Convert the list to a PyTorch tensor\n",
        "  tensor_data = torch.tensor(list_len)\n",
        "  \n",
        "  # getting the argmax index\n",
        "  argmax_index = tensor_data.argmax().item()\n",
        "\n",
        "  # getting the argmax\n",
        "\n",
        "  argmax = list_len[argmax_index]\n",
        "  print(f\"The longest input sequence has value: {argmax}\")\n",
        "  \n",
        "  # PART 2 HISTOGRAM\n",
        "\n",
        "  # importing the library for the visualization\n",
        "  import seaborn as sns\n",
        "\n",
        "  #now we want to plot the histogram of the list of integers\n",
        "  sns.histplot(list_len, bins=10)\n",
        "\n",
        "  return argmax\n",
        "\n",
        "max_length = get_max_lenghts(get_list_of_lengths(ds_train[\"text\"], tokz))"
      ],
      "metadata": {
        "colab": {
          "base_uri": "https://localhost:8080/",
          "height": 0
        },
        "id": "0suSFL0qRsUW",
        "outputId": "8fa43b24-4e9a-4010-a925-f97030d7dbfc"
      },
      "execution_count": 17,
      "outputs": [
        {
          "output_type": "stream",
          "name": "stdout",
          "text": [
            "The longest input sequence has value: 84\n"
          ]
        },
        {
          "output_type": "display_data",
          "data": {
            "text/plain": [
              "<Figure size 432x288 with 1 Axes>"
            ],
            "image/png": "[encoded data removed]"
          },
          "metadata": {
            "needs_background": "light"
          }
        }
      ]
    },
    {
      "cell_type": "code",
      "source": [
        "# DEFINING A TOKENIZE FUNCTION TO TOKENIZE BOTH THE TWO DATASETS\n",
        "def tok_func(x): return tokz(x[\"text\"], truncation=True, padding = \"max_length\", max_length=max_length)"
      ],
      "metadata": {
        "id": "0Sj8MIivQbP3"
      },
      "execution_count": 18,
      "outputs": []
    },
    {
      "cell_type": "code",
      "source": [
        "# CHECK THAT TOKENIZER FUNCTION WORKS\n",
        "tok_func(ds_train[19]) # the 1 are for padding it; the attention mask show to not care about the 1"
      ],
      "metadata": {
        "colab": {
          "base_uri": "https://localhost:8080/"
        },
        "id": "XOaEjtQgR5U1",
        "outputId": "fe3a871a-b6d0-4b47-818f-9ddbd63a04cb"
      },
      "execution_count": 19,
      "outputs": [
        {
          "output_type": "execute_result",
          "data": {
            "text/plain": [
              "{'input_ids': [101, 5003, 12502, 14643, 1024, 22939, 17822, 8067, 1024, 2416, 11837, 3401, 4402, 1024, 10556, 2854, 5244, 4801, 2697, 2003, 1037, 11351, 2697, 2284, 1999, 1996, 10556, 2854, 5244, 4801, 12779, 6679, 16414, 7946, 8464, 1012, 2007, 8740, 1035, 8299, 1024, 1013, 1013, 1056, 1012, 2522, 1013, 1018, 2080, 21472, 2692, 16715, 2620, 7295, 102, 0, 0, 0, 0, 0, 0, 0, 0, 0, 0, 0, 0, 0, 0, 0, 0, 0, 0, 0, 0, 0, 0, 0, 0, 0, 0, 0, 0, 0], 'token_type_ids': [0, 0, 0, 0, 0, 0, 0, 0, 0, 0, 0, 0, 0, 0, 0, 0, 0, 0, 0, 0, 0, 0, 0, 0, 0, 0, 0, 0, 0, 0, 0, 0, 0, 0, 0, 0, 0, 0, 0, 0, 0, 0, 0, 0, 0, 0, 0, 0, 0, 0, 0, 0, 0, 0, 0, 0, 0, 0, 0, 0, 0, 0, 0, 0, 0, 0, 0, 0, 0, 0, 0, 0, 0, 0, 0, 0, 0, 0, 0, 0, 0, 0, 0, 0], 'attention_mask': [1, 1, 1, 1, 1, 1, 1, 1, 1, 1, 1, 1, 1, 1, 1, 1, 1, 1, 1, 1, 1, 1, 1, 1, 1, 1, 1, 1, 1, 1, 1, 1, 1, 1, 1, 1, 1, 1, 1, 1, 1, 1, 1, 1, 1, 1, 1, 1, 1, 1, 1, 1, 1, 1, 1, 0, 0, 0, 0, 0, 0, 0, 0, 0, 0, 0, 0, 0, 0, 0, 0, 0, 0, 0, 0, 0, 0, 0, 0, 0, 0, 0, 0, 0]}"
            ]
          },
          "metadata": {},
          "execution_count": 19
        }
      ]
    },
    {
      "cell_type": "code",
      "source": [
        "# TOKENIZING THE DS\n",
        "tok_ds_train = ds_train.map(tok_func, batched=True, remove_columns=['text'])\n",
        "tok_ds_test = ds_test.map(tok_func, batched=True, remove_columns=['text'])\n",
        "tok_ds_train"
      ],
      "metadata": {
        "colab": {
          "base_uri": "https://localhost:8080/",
          "height": 0,
          "referenced_widgets": [
            "991301758b8f44b1afbc012be6758150",
            "c35c9a29d6f94021b88022b1e806b688",
            "31a6026a4f8a43669f010b41f70568ad",
            "7db5a311efaf4c3885d74f536710790d",
            "0fffae53e248468eb52ad6636ba59f12",
            "5648ad9daa3943edb81136827c3271d0",
            "9eb3ed8794d34c57a3e76bab196f18a4",
            "ba41616618e14f459ea2ac3084d2f646",
            "5c3f236226c24b09a0f737d639fcb637",
            "ceb3598defe341c3b4664e5b009091be",
            "ff709c9144544bf48c53d3772399672a",
            "03045633eb0f4fba85bc15971af7a97c",
            "b95f4ddcc10b496aaca8a376f795e5a9",
            "6763427c6d7a451cbc218b9bd807d815",
            "be5a67c893ab4b03bf40e7e66f4a73b0",
            "5c3df604e5244c24bcda0d2c813ac566",
            "961cc908f163469d8d853b3a8f246c30",
            "d279095fcd6b40388c3d7b4e810b5de9",
            "2947b1c43c784f698ebf0346c2183762",
            "b461cc1649fc441a8625be2bd3d6102a",
            "c9f1bc21d4994410b9df1b7fbc36cbf7",
            "ac5b83c72c0b498bac810706b9035208"
          ]
        },
        "id": "qlsLNPpvQhXV",
        "outputId": "c6c74858-f0fe-40d2-edd8-196276b1c453"
      },
      "execution_count": 20,
      "outputs": [
        {
          "output_type": "display_data",
          "data": {
            "text/plain": [
              "Map:   0%|          | 0/6090 [00:00<?, ? examples/s]"
            ],
            "application/vnd.jupyter.widget-view+json": {
              "version_major": 2,
              "version_minor": 0,
              "model_id": "991301758b8f44b1afbc012be6758150"
            }
          },
          "metadata": {}
        },
        {
          "output_type": "display_data",
          "data": {
            "text/plain": [
              "Map:   0%|          | 0/1523 [00:00<?, ? examples/s]"
            ],
            "application/vnd.jupyter.widget-view+json": {
              "version_major": 2,
              "version_minor": 0,
              "model_id": "03045633eb0f4fba85bc15971af7a97c"
            }
          },
          "metadata": {}
        },
        {
          "output_type": "execute_result",
          "data": {
            "text/plain": [
              "Dataset({\n",
              "    features: ['labels', '__index_level_0__', 'input_ids', 'token_type_ids', 'attention_mask'],\n",
              "    num_rows: 6090\n",
              "})"
            ]
          },
          "metadata": {},
          "execution_count": 20
        }
      ]
    },
    {
      "cell_type": "markdown",
      "source": [
        "### CONVERTING TO PYTORCH DATASETS"
      ],
      "metadata": {
        "id": "cHi5MEO0jWdE"
      }
    },
    {
      "cell_type": "code",
      "source": [
        "# Define a function to convert each item in the dataset to a PyTorch-compatible format\n",
        "def convert_to_torch(item):\n",
        "    input_ids = item['input_ids']\n",
        "    token_type_ids = item['token_type_ids']\n",
        "    attention_mask = item['attention_mask']\n",
        "    label = item['labels']\n",
        "    return {'input_ids': input_ids, 'token_type_ids': token_type_ids, 'attention_mask': attention_mask, 'label': label}"
      ],
      "metadata": {
        "id": "43PN-Vitjh_l"
      },
      "execution_count": 21,
      "outputs": []
    },
    {
      "cell_type": "code",
      "source": [
        "# Use the `map()` method to apply the `convert_to_torch()` function to each item in the dataset\n",
        "tok_ds_train = tok_ds_train.map(convert_to_torch, batched=True)\n"
      ],
      "metadata": {
        "colab": {
          "base_uri": "https://localhost:8080/",
          "height": 0,
          "referenced_widgets": [
            "c444bb60ca6b424b950be965312f0be4",
            "a5bf5c763e2242a6810a1f80c98d9026",
            "eb93f9c58bdd45bd87d4f62ef9ead53a",
            "78af5c0bc680464284587200e4e3a510",
            "b1bb8d72d91243779bd4bcdb9b3b0337",
            "b883f03024a64395b525bffca1d69a0f",
            "7515d59a2f9947438f5083946728f29e",
            "508db77d3dc74fd5bfbeadae9e618171",
            "77ed8ca436b14fd788278d8a4fabb11f",
            "b6bd707991464a0da78fb4b24d68a421",
            "a5c1fb3f17ad46188ad07e762d477bb2"
          ]
        },
        "id": "i3wFQYqSjjj5",
        "outputId": "fd06cc05-374e-4aa4-fc2c-e2ec682547eb"
      },
      "execution_count": 22,
      "outputs": [
        {
          "output_type": "display_data",
          "data": {
            "text/plain": [
              "Map:   0%|          | 0/6090 [00:00<?, ? examples/s]"
            ],
            "application/vnd.jupyter.widget-view+json": {
              "version_major": 2,
              "version_minor": 0,
              "model_id": "c444bb60ca6b424b950be965312f0be4"
            }
          },
          "metadata": {}
        }
      ]
    },
    {
      "cell_type": "code",
      "source": [
        "# Convert the dataset to a PyTorch TensorDataset by simply transforming each numerical column of the dataset in tensor\n",
        "tensor_train_dataset = torch.utils.data.TensorDataset(torch.tensor(tok_ds_train['input_ids']),\n",
        "                                                torch.tensor(tok_ds_train['token_type_ids']),\n",
        "                                                torch.tensor(tok_ds_train['attention_mask']),\n",
        "                                                torch.tensor(tok_ds_train['label']))"
      ],
      "metadata": {
        "id": "P-MP2AkMjvUv"
      },
      "execution_count": 23,
      "outputs": []
    },
    {
      "cell_type": "code",
      "source": [
        "# SAME FOR TEST SET\n",
        "\n",
        "# Use the `map()` method to apply the `convert_to_torch()` function to each item in the dataset\n",
        "tok_ds_test = tok_ds_test.map(convert_to_torch, batched=True)\n",
        "\n",
        "# Convert the dataset to a PyTorch TensorDataset\n",
        "tensor_test_dataset = torch.utils.data.TensorDataset(torch.tensor(tok_ds_test['input_ids']),\n",
        "                                                torch.tensor(tok_ds_test['token_type_ids']),\n",
        "                                                torch.tensor(tok_ds_test['attention_mask']),\n",
        "                                                torch.tensor(tok_ds_test['label']))\n"
      ],
      "metadata": {
        "colab": {
          "base_uri": "https://localhost:8080/",
          "height": 0,
          "referenced_widgets": [
            "1097acf678fb4b7599442c684cab33f7",
            "e9c705c8e70c4a0b9a2449542304da38",
            "24ec4aca3b4541b493729191a35085cc",
            "cfa9742778864415a6729b2e520e8f9c",
            "dc18d835875b4394aad599aaa4242afc",
            "54f9e035ddde45e48d8ebdb4ec778a87",
            "c490d8eb66c342f2a4824d0bc965e1bd",
            "058287dc78d54583a08906b8e6c3a8ad",
            "b72ba64b4a994baf812e7b3de5644e93",
            "7b0d78a73d8f4038b926445823661842",
            "689a724c186048b29e3ff5388aaaae19"
          ]
        },
        "id": "YPA83pAxj9il",
        "outputId": "2e0c4189-da57-4ff7-feae-a567a881c7f3"
      },
      "execution_count": 24,
      "outputs": [
        {
          "output_type": "display_data",
          "data": {
            "text/plain": [
              "Map:   0%|          | 0/1523 [00:00<?, ? examples/s]"
            ],
            "application/vnd.jupyter.widget-view+json": {
              "version_major": 2,
              "version_minor": 0,
              "model_id": "1097acf678fb4b7599442c684cab33f7"
            }
          },
          "metadata": {}
        }
      ]
    },
    {
      "cell_type": "markdown",
      "source": [
        "### PLUGGING INTO DATALOADERS"
      ],
      "metadata": {
        "id": "ckxxiG-DhQy4"
      }
    },
    {
      "cell_type": "code",
      "source": [
        "import torch\n",
        "from transformers import BertTokenizer, BertForSequenceClassification, AdamW, BertConfig, get_linear_schedule_with_warmup\n",
        "from torch.utils.data import TensorDataset, random_split, DataLoader, RandomSampler, SequentialSampler"
      ],
      "metadata": {
        "id": "SdIHkHVc1OI1"
      },
      "execution_count": 25,
      "outputs": []
    },
    {
      "cell_type": "code",
      "source": [],
      "metadata": {
        "id": "HVjGadeas8-j"
      },
      "execution_count": 25,
      "outputs": []
    },
    {
      "cell_type": "code",
      "source": [
        "train_dataloader = DataLoader(\n",
        "            tensor_train_dataset,  # The training samples.\n",
        "            sampler = RandomSampler(tensor_train_dataset), # Select batches randomly\n",
        "            batch_size = 32 # Trains with this batch size.\n",
        "        )\n",
        "\n",
        "test_dataloader = DataLoader(\n",
        "            tensor_test_dataset,  # The training samples.\n",
        "            sampler = RandomSampler(tensor_test_dataset), # Select batches randomly\n",
        "            batch_size = 32 # Trains with this batch size.\n",
        "        )"
      ],
      "metadata": {
        "id": "HEG91cewz6Hi"
      },
      "execution_count": 26,
      "outputs": []
    },
    {
      "cell_type": "markdown",
      "source": [
        "### CREATING THE MODULE OF THE MODEL"
      ],
      "metadata": {
        "id": "rmxWMhyrZWXw"
      }
    },
    {
      "cell_type": "markdown",
      "source": [
        "The BertForSequenceClassification model's predict() method will take a batch of input sequences as input, and will return a tuple of two elements:\n",
        "\n",
        "logits: A tensor of shape (batch_size, num_labels) containing the unnormalized scores for each label. These scores can be interpreted as a measure of the model's confidence in its prediction for each label.\n",
        "\n",
        "hidden_states: A tuple of length num_hidden_layers+1 containing the hidden states of the model for each layer. Each hidden state tensor is of shape (batch_size, sequence_length, hidden_size).\n",
        "\n",
        "Note that the predict() method doesn't perform any thresholding or decision-making based on the logits. The user needs to apply their own thresholding or decision-making logic based on the specific requirements of their task.\n",
        "\n",
        "We are interested in:\n",
        "- its logits, for the classification\n",
        "\n",
        "That s all **so we should not return any hidden state**"
      ],
      "metadata": {
        "id": "L6A-j7UA3Kwd"
      }
    },
    {
      "cell_type": "code",
      "source": [
        "# creating a pytorch module => that is a block of parameters and computation (forward)\n",
        "import torch.nn as nn\n",
        "\n",
        "class Bert4BinaryClassification(nn.Module):\n",
        "\n",
        "  # initiliazer, specify the name of the bert model you want to load\n",
        "    def __init__(self,model_name):\n",
        "\n",
        "      # be sure the nn.Module is correctly \n",
        "        super().__init__()  \n",
        "\n",
        "      # initialize the model (think to it as a cooler sequential(...))\n",
        "        self.model = BertForSequenceClassification.from_pretrained(model_name, num_labels = 2).to(getting_device())\n",
        "\n",
        "  # forward method, we need to feed it with the tokenized text (ids + attention mask)\n",
        "    def forward(self,input_ids,attention_mask):\n",
        "\n",
        "      # pass the tokenized test through the model, which has as last layer a FNN with 2 output perceptrons\n",
        "        output = self.model(input_ids=input_ids,attention_mask=attention_mask)\n",
        "\n",
        "      # gather the 2 entries output vector\n",
        "        logits = output.logits\n",
        "\n",
        "      # return it\n",
        "        return logits\n",
        "\n",
        "  # implement the gpu util function as a method so it move directly the model on the gpu\n",
        "    def getting_device(self,gpu_prefence=True):\n",
        "      \"\"\"\n",
        "      This function gets the torch device to be used for computations, \n",
        "      based on the GPU preference specified by the user.\n",
        "      \"\"\"\n",
        "      \n",
        "      # If GPU is preferred and available, set device to CUDA\n",
        "      if gpu_prefence and torch.cuda.is_available():\n",
        "          device = torch.device('cuda')\n",
        "      # If GPU is not preferred or not available, set device to CPU\n",
        "      else: \n",
        "          device = torch.device(\"cpu\")\n",
        "      \n",
        "      # Print the selected device\n",
        "      print(f\"Selected device for BERTBINARYCLASSIFICATION: {device}\")\n",
        "      \n",
        "      # Return the device\n",
        "      return device\n"
      ],
      "metadata": {
        "id": "V7i3GAcXtG__"
      },
      "execution_count": 27,
      "outputs": []
    },
    {
      "cell_type": "code",
      "source": [
        "model = Bert4BinaryClassification(model_nm)"
      ],
      "metadata": {
        "colab": {
          "base_uri": "https://localhost:8080/"
        },
        "id": "bd2UbyM4AskY",
        "outputId": "0c8c85b8-fca0-4644-b583-cabc304acc56"
      },
      "execution_count": 28,
      "outputs": [
        {
          "output_type": "stream",
          "name": "stderr",
          "text": [
            "Some weights of the model checkpoint at bert-large-uncased were not used when initializing BertForSequenceClassification: ['cls.predictions.decoder.weight', 'cls.predictions.transform.dense.bias', 'cls.seq_relationship.bias', 'cls.predictions.transform.LayerNorm.bias', 'cls.predictions.transform.LayerNorm.weight', 'cls.seq_relationship.weight', 'cls.predictions.bias', 'cls.predictions.transform.dense.weight']\n",
            "- This IS expected if you are initializing BertForSequenceClassification from the checkpoint of a model trained on another task or with another architecture (e.g. initializing a BertForSequenceClassification model from a BertForPreTraining model).\n",
            "- This IS NOT expected if you are initializing BertForSequenceClassification from the checkpoint of a model that you expect to be exactly identical (initializing a BertForSequenceClassification model from a BertForSequenceClassification model).\n",
            "Some weights of BertForSequenceClassification were not initialized from the model checkpoint at bert-large-uncased and are newly initialized: ['classifier.weight', 'classifier.bias']\n",
            "You should probably TRAIN this model on a down-stream task to be able to use it for predictions and inference.\n"
          ]
        },
        {
          "output_type": "stream",
          "name": "stdout",
          "text": [
            "Selected device: cuda\n"
          ]
        }
      ]
    },
    {
      "cell_type": "code",
      "source": [
        "# checking if the model is on the gpu\n",
        "print_gpu_utilization()"
      ],
      "metadata": {
        "colab": {
          "base_uri": "https://localhost:8080/"
        },
        "id": "uQ5od7SZrUYW",
        "outputId": "6a0b04d9-faa1-404b-9d1b-b9f173effb67"
      },
      "execution_count": 29,
      "outputs": [
        {
          "output_type": "stream",
          "name": "stdout",
          "text": [
            "GPU memory occupied: 2119 MB.\n"
          ]
        }
      ]
    },
    {
      "cell_type": "markdown",
      "source": [
        "### EXPLORING THE MODEL COMPUTATIONAL GRAPH "
      ],
      "metadata": {
        "id": "aWks1bN-8-3M"
      }
    },
    {
      "cell_type": "markdown",
      "source": [
        "First, we begin with printing the layer of the model"
      ],
      "metadata": {
        "id": "K0UPOxIjAlFU"
      }
    },
    {
      "cell_type": "code",
      "source": [
        "print(model)"
      ],
      "metadata": {
        "colab": {
          "base_uri": "https://localhost:8080/"
        },
        "id": "9XU0dNbU9Lmv",
        "outputId": "be4e1462-5ac0-4998-e267-b17eca73e965"
      },
      "execution_count": 30,
      "outputs": [
        {
          "output_type": "stream",
          "name": "stdout",
          "text": [
            "Bert4BinaryClassification(\n",
            "  (model): BertForSequenceClassification(\n",
            "    (bert): BertModel(\n",
            "      (embeddings): BertEmbeddings(\n",
            "        (word_embeddings): Embedding(30522, 1024, padding_idx=0)\n",
            "        (position_embeddings): Embedding(512, 1024)\n",
            "        (token_type_embeddings): Embedding(2, 1024)\n",
            "        (LayerNorm): LayerNorm((1024,), eps=1e-12, elementwise_affine=True)\n",
            "        (dropout): Dropout(p=0.1, inplace=False)\n",
            "      )\n",
            "      (encoder): BertEncoder(\n",
            "        (layer): ModuleList(\n",
            "          (0): BertLayer(\n",
            "            (attention): BertAttention(\n",
            "              (self): BertSelfAttention(\n",
            "                (query): Linear(in_features=1024, out_features=1024, bias=True)\n",
            "                (key): Linear(in_features=1024, out_features=1024, bias=True)\n",
            "                (value): Linear(in_features=1024, out_features=1024, bias=True)\n",
            "                (dropout): Dropout(p=0.1, inplace=False)\n",
            "              )\n",
            "              (output): BertSelfOutput(\n",
            "                (dense): Linear(in_features=1024, out_features=1024, bias=True)\n",
            "                (LayerNorm): LayerNorm((1024,), eps=1e-12, elementwise_affine=True)\n",
            "                (dropout): Dropout(p=0.1, inplace=False)\n",
            "              )\n",
            "            )\n",
            "            (intermediate): BertIntermediate(\n",
            "              (dense): Linear(in_features=1024, out_features=4096, bias=True)\n",
            "              (intermediate_act_fn): GELUActivation()\n",
            "            )\n",
            "            (output): BertOutput(\n",
            "              (dense): Linear(in_features=4096, out_features=1024, bias=True)\n",
            "              (LayerNorm): LayerNorm((1024,), eps=1e-12, elementwise_affine=True)\n",
            "              (dropout): Dropout(p=0.1, inplace=False)\n",
            "            )\n",
            "          )\n",
            "          (1): BertLayer(\n",
            "            (attention): BertAttention(\n",
            "              (self): BertSelfAttention(\n",
            "                (query): Linear(in_features=1024, out_features=1024, bias=True)\n",
            "                (key): Linear(in_features=1024, out_features=1024, bias=True)\n",
            "                (value): Linear(in_features=1024, out_features=1024, bias=True)\n",
            "                (dropout): Dropout(p=0.1, inplace=False)\n",
            "              )\n",
            "              (output): BertSelfOutput(\n",
            "                (dense): Linear(in_features=1024, out_features=1024, bias=True)\n",
            "                (LayerNorm): LayerNorm((1024,), eps=1e-12, elementwise_affine=True)\n",
            "                (dropout): Dropout(p=0.1, inplace=False)\n",
            "              )\n",
            "            )\n",
            "            (intermediate): BertIntermediate(\n",
            "              (dense): Linear(in_features=1024, out_features=4096, bias=True)\n",
            "              (intermediate_act_fn): GELUActivation()\n",
            "            )\n",
            "            (output): BertOutput(\n",
            "              (dense): Linear(in_features=4096, out_features=1024, bias=True)\n",
            "              (LayerNorm): LayerNorm((1024,), eps=1e-12, elementwise_affine=True)\n",
            "              (dropout): Dropout(p=0.1, inplace=False)\n",
            "            )\n",
            "          )\n",
            "          (2): BertLayer(\n",
            "            (attention): BertAttention(\n",
            "              (self): BertSelfAttention(\n",
            "                (query): Linear(in_features=1024, out_features=1024, bias=True)\n",
            "                (key): Linear(in_features=1024, out_features=1024, bias=True)\n",
            "                (value): Linear(in_features=1024, out_features=1024, bias=True)\n",
            "                (dropout): Dropout(p=0.1, inplace=False)\n",
            "              )\n",
            "              (output): BertSelfOutput(\n",
            "                (dense): Linear(in_features=1024, out_features=1024, bias=True)\n",
            "                (LayerNorm): LayerNorm((1024,), eps=1e-12, elementwise_affine=True)\n",
            "                (dropout): Dropout(p=0.1, inplace=False)\n",
            "              )\n",
            "            )\n",
            "            (intermediate): BertIntermediate(\n",
            "              (dense): Linear(in_features=1024, out_features=4096, bias=True)\n",
            "              (intermediate_act_fn): GELUActivation()\n",
            "            )\n",
            "            (output): BertOutput(\n",
            "              (dense): Linear(in_features=4096, out_features=1024, bias=True)\n",
            "              (LayerNorm): LayerNorm((1024,), eps=1e-12, elementwise_affine=True)\n",
            "              (dropout): Dropout(p=0.1, inplace=False)\n",
            "            )\n",
            "          )\n",
            "          (3): BertLayer(\n",
            "            (attention): BertAttention(\n",
            "              (self): BertSelfAttention(\n",
            "                (query): Linear(in_features=1024, out_features=1024, bias=True)\n",
            "                (key): Linear(in_features=1024, out_features=1024, bias=True)\n",
            "                (value): Linear(in_features=1024, out_features=1024, bias=True)\n",
            "                (dropout): Dropout(p=0.1, inplace=False)\n",
            "              )\n",
            "              (output): BertSelfOutput(\n",
            "                (dense): Linear(in_features=1024, out_features=1024, bias=True)\n",
            "                (LayerNorm): LayerNorm((1024,), eps=1e-12, elementwise_affine=True)\n",
            "                (dropout): Dropout(p=0.1, inplace=False)\n",
            "              )\n",
            "            )\n",
            "            (intermediate): BertIntermediate(\n",
            "              (dense): Linear(in_features=1024, out_features=4096, bias=True)\n",
            "              (intermediate_act_fn): GELUActivation()\n",
            "            )\n",
            "            (output): BertOutput(\n",
            "              (dense): Linear(in_features=4096, out_features=1024, bias=True)\n",
            "              (LayerNorm): LayerNorm((1024,), eps=1e-12, elementwise_affine=True)\n",
            "              (dropout): Dropout(p=0.1, inplace=False)\n",
            "            )\n",
            "          )\n",
            "          (4): BertLayer(\n",
            "            (attention): BertAttention(\n",
            "              (self): BertSelfAttention(\n",
            "                (query): Linear(in_features=1024, out_features=1024, bias=True)\n",
            "                (key): Linear(in_features=1024, out_features=1024, bias=True)\n",
            "                (value): Linear(in_features=1024, out_features=1024, bias=True)\n",
            "                (dropout): Dropout(p=0.1, inplace=False)\n",
            "              )\n",
            "              (output): BertSelfOutput(\n",
            "                (dense): Linear(in_features=1024, out_features=1024, bias=True)\n",
            "                (LayerNorm): LayerNorm((1024,), eps=1e-12, elementwise_affine=True)\n",
            "                (dropout): Dropout(p=0.1, inplace=False)\n",
            "              )\n",
            "            )\n",
            "            (intermediate): BertIntermediate(\n",
            "              (dense): Linear(in_features=1024, out_features=4096, bias=True)\n",
            "              (intermediate_act_fn): GELUActivation()\n",
            "            )\n",
            "            (output): BertOutput(\n",
            "              (dense): Linear(in_features=4096, out_features=1024, bias=True)\n",
            "              (LayerNorm): LayerNorm((1024,), eps=1e-12, elementwise_affine=True)\n",
            "              (dropout): Dropout(p=0.1, inplace=False)\n",
            "            )\n",
            "          )\n",
            "          (5): BertLayer(\n",
            "            (attention): BertAttention(\n",
            "              (self): BertSelfAttention(\n",
            "                (query): Linear(in_features=1024, out_features=1024, bias=True)\n",
            "                (key): Linear(in_features=1024, out_features=1024, bias=True)\n",
            "                (value): Linear(in_features=1024, out_features=1024, bias=True)\n",
            "                (dropout): Dropout(p=0.1, inplace=False)\n",
            "              )\n",
            "              (output): BertSelfOutput(\n",
            "                (dense): Linear(in_features=1024, out_features=1024, bias=True)\n",
            "                (LayerNorm): LayerNorm((1024,), eps=1e-12, elementwise_affine=True)\n",
            "                (dropout): Dropout(p=0.1, inplace=False)\n",
            "              )\n",
            "            )\n",
            "            (intermediate): BertIntermediate(\n",
            "              (dense): Linear(in_features=1024, out_features=4096, bias=True)\n",
            "              (intermediate_act_fn): GELUActivation()\n",
            "            )\n",
            "            (output): BertOutput(\n",
            "              (dense): Linear(in_features=4096, out_features=1024, bias=True)\n",
            "              (LayerNorm): LayerNorm((1024,), eps=1e-12, elementwise_affine=True)\n",
            "              (dropout): Dropout(p=0.1, inplace=False)\n",
            "            )\n",
            "          )\n",
            "          (6): BertLayer(\n",
            "            (attention): BertAttention(\n",
            "              (self): BertSelfAttention(\n",
            "                (query): Linear(in_features=1024, out_features=1024, bias=True)\n",
            "                (key): Linear(in_features=1024, out_features=1024, bias=True)\n",
            "                (value): Linear(in_features=1024, out_features=1024, bias=True)\n",
            "                (dropout): Dropout(p=0.1, inplace=False)\n",
            "              )\n",
            "              (output): BertSelfOutput(\n",
            "                (dense): Linear(in_features=1024, out_features=1024, bias=True)\n",
            "                (LayerNorm): LayerNorm((1024,), eps=1e-12, elementwise_affine=True)\n",
            "                (dropout): Dropout(p=0.1, inplace=False)\n",
            "              )\n",
            "            )\n",
            "            (intermediate): BertIntermediate(\n",
            "              (dense): Linear(in_features=1024, out_features=4096, bias=True)\n",
            "              (intermediate_act_fn): GELUActivation()\n",
            "            )\n",
            "            (output): BertOutput(\n",
            "              (dense): Linear(in_features=4096, out_features=1024, bias=True)\n",
            "              (LayerNorm): LayerNorm((1024,), eps=1e-12, elementwise_affine=True)\n",
            "              (dropout): Dropout(p=0.1, inplace=False)\n",
            "            )\n",
            "          )\n",
            "          (7): BertLayer(\n",
            "            (attention): BertAttention(\n",
            "              (self): BertSelfAttention(\n",
            "                (query): Linear(in_features=1024, out_features=1024, bias=True)\n",
            "                (key): Linear(in_features=1024, out_features=1024, bias=True)\n",
            "                (value): Linear(in_features=1024, out_features=1024, bias=True)\n",
            "                (dropout): Dropout(p=0.1, inplace=False)\n",
            "              )\n",
            "              (output): BertSelfOutput(\n",
            "                (dense): Linear(in_features=1024, out_features=1024, bias=True)\n",
            "                (LayerNorm): LayerNorm((1024,), eps=1e-12, elementwise_affine=True)\n",
            "                (dropout): Dropout(p=0.1, inplace=False)\n",
            "              )\n",
            "            )\n",
            "            (intermediate): BertIntermediate(\n",
            "              (dense): Linear(in_features=1024, out_features=4096, bias=True)\n",
            "              (intermediate_act_fn): GELUActivation()\n",
            "            )\n",
            "            (output): BertOutput(\n",
            "              (dense): Linear(in_features=4096, out_features=1024, bias=True)\n",
            "              (LayerNorm): LayerNorm((1024,), eps=1e-12, elementwise_affine=True)\n",
            "              (dropout): Dropout(p=0.1, inplace=False)\n",
            "            )\n",
            "          )\n",
            "          (8): BertLayer(\n",
            "            (attention): BertAttention(\n",
            "              (self): BertSelfAttention(\n",
            "                (query): Linear(in_features=1024, out_features=1024, bias=True)\n",
            "                (key): Linear(in_features=1024, out_features=1024, bias=True)\n",
            "                (value): Linear(in_features=1024, out_features=1024, bias=True)\n",
            "                (dropout): Dropout(p=0.1, inplace=False)\n",
            "              )\n",
            "              (output): BertSelfOutput(\n",
            "                (dense): Linear(in_features=1024, out_features=1024, bias=True)\n",
            "                (LayerNorm): LayerNorm((1024,), eps=1e-12, elementwise_affine=True)\n",
            "                (dropout): Dropout(p=0.1, inplace=False)\n",
            "              )\n",
            "            )\n",
            "            (intermediate): BertIntermediate(\n",
            "              (dense): Linear(in_features=1024, out_features=4096, bias=True)\n",
            "              (intermediate_act_fn): GELUActivation()\n",
            "            )\n",
            "            (output): BertOutput(\n",
            "              (dense): Linear(in_features=4096, out_features=1024, bias=True)\n",
            "              (LayerNorm): LayerNorm((1024,), eps=1e-12, elementwise_affine=True)\n",
            "              (dropout): Dropout(p=0.1, inplace=False)\n",
            "            )\n",
            "          )\n",
            "          (9): BertLayer(\n",
            "            (attention): BertAttention(\n",
            "              (self): BertSelfAttention(\n",
            "                (query): Linear(in_features=1024, out_features=1024, bias=True)\n",
            "                (key): Linear(in_features=1024, out_features=1024, bias=True)\n",
            "                (value): Linear(in_features=1024, out_features=1024, bias=True)\n",
            "                (dropout): Dropout(p=0.1, inplace=False)\n",
            "              )\n",
            "              (output): BertSelfOutput(\n",
            "                (dense): Linear(in_features=1024, out_features=1024, bias=True)\n",
            "                (LayerNorm): LayerNorm((1024,), eps=1e-12, elementwise_affine=True)\n",
            "                (dropout): Dropout(p=0.1, inplace=False)\n",
            "              )\n",
            "            )\n",
            "            (intermediate): BertIntermediate(\n",
            "              (dense): Linear(in_features=1024, out_features=4096, bias=True)\n",
            "              (intermediate_act_fn): GELUActivation()\n",
            "            )\n",
            "            (output): BertOutput(\n",
            "              (dense): Linear(in_features=4096, out_features=1024, bias=True)\n",
            "              (LayerNorm): LayerNorm((1024,), eps=1e-12, elementwise_affine=True)\n",
            "              (dropout): Dropout(p=0.1, inplace=False)\n",
            "            )\n",
            "          )\n",
            "          (10): BertLayer(\n",
            "            (attention): BertAttention(\n",
            "              (self): BertSelfAttention(\n",
            "                (query): Linear(in_features=1024, out_features=1024, bias=True)\n",
            "                (key): Linear(in_features=1024, out_features=1024, bias=True)\n",
            "                (value): Linear(in_features=1024, out_features=1024, bias=True)\n",
            "                (dropout): Dropout(p=0.1, inplace=False)\n",
            "              )\n",
            "              (output): BertSelfOutput(\n",
            "                (dense): Linear(in_features=1024, out_features=1024, bias=True)\n",
            "                (LayerNorm): LayerNorm((1024,), eps=1e-12, elementwise_affine=True)\n",
            "                (dropout): Dropout(p=0.1, inplace=False)\n",
            "              )\n",
            "            )\n",
            "            (intermediate): BertIntermediate(\n",
            "              (dense): Linear(in_features=1024, out_features=4096, bias=True)\n",
            "              (intermediate_act_fn): GELUActivation()\n",
            "            )\n",
            "            (output): BertOutput(\n",
            "              (dense): Linear(in_features=4096, out_features=1024, bias=True)\n",
            "              (LayerNorm): LayerNorm((1024,), eps=1e-12, elementwise_affine=True)\n",
            "              (dropout): Dropout(p=0.1, inplace=False)\n",
            "            )\n",
            "          )\n",
            "          (11): BertLayer(\n",
            "            (attention): BertAttention(\n",
            "              (self): BertSelfAttention(\n",
            "                (query): Linear(in_features=1024, out_features=1024, bias=True)\n",
            "                (key): Linear(in_features=1024, out_features=1024, bias=True)\n",
            "                (value): Linear(in_features=1024, out_features=1024, bias=True)\n",
            "                (dropout): Dropout(p=0.1, inplace=False)\n",
            "              )\n",
            "              (output): BertSelfOutput(\n",
            "                (dense): Linear(in_features=1024, out_features=1024, bias=True)\n",
            "                (LayerNorm): LayerNorm((1024,), eps=1e-12, elementwise_affine=True)\n",
            "                (dropout): Dropout(p=0.1, inplace=False)\n",
            "              )\n",
            "            )\n",
            "            (intermediate): BertIntermediate(\n",
            "              (dense): Linear(in_features=1024, out_features=4096, bias=True)\n",
            "              (intermediate_act_fn): GELUActivation()\n",
            "            )\n",
            "            (output): BertOutput(\n",
            "              (dense): Linear(in_features=4096, out_features=1024, bias=True)\n",
            "              (LayerNorm): LayerNorm((1024,), eps=1e-12, elementwise_affine=True)\n",
            "              (dropout): Dropout(p=0.1, inplace=False)\n",
            "            )\n",
            "          )\n",
            "          (12): BertLayer(\n",
            "            (attention): BertAttention(\n",
            "              (self): BertSelfAttention(\n",
            "                (query): Linear(in_features=1024, out_features=1024, bias=True)\n",
            "                (key): Linear(in_features=1024, out_features=1024, bias=True)\n",
            "                (value): Linear(in_features=1024, out_features=1024, bias=True)\n",
            "                (dropout): Dropout(p=0.1, inplace=False)\n",
            "              )\n",
            "              (output): BertSelfOutput(\n",
            "                (dense): Linear(in_features=1024, out_features=1024, bias=True)\n",
            "                (LayerNorm): LayerNorm((1024,), eps=1e-12, elementwise_affine=True)\n",
            "                (dropout): Dropout(p=0.1, inplace=False)\n",
            "              )\n",
            "            )\n",
            "            (intermediate): BertIntermediate(\n",
            "              (dense): Linear(in_features=1024, out_features=4096, bias=True)\n",
            "              (intermediate_act_fn): GELUActivation()\n",
            "            )\n",
            "            (output): BertOutput(\n",
            "              (dense): Linear(in_features=4096, out_features=1024, bias=True)\n",
            "              (LayerNorm): LayerNorm((1024,), eps=1e-12, elementwise_affine=True)\n",
            "              (dropout): Dropout(p=0.1, inplace=False)\n",
            "            )\n",
            "          )\n",
            "          (13): BertLayer(\n",
            "            (attention): BertAttention(\n",
            "              (self): BertSelfAttention(\n",
            "                (query): Linear(in_features=1024, out_features=1024, bias=True)\n",
            "                (key): Linear(in_features=1024, out_features=1024, bias=True)\n",
            "                (value): Linear(in_features=1024, out_features=1024, bias=True)\n",
            "                (dropout): Dropout(p=0.1, inplace=False)\n",
            "              )\n",
            "              (output): BertSelfOutput(\n",
            "                (dense): Linear(in_features=1024, out_features=1024, bias=True)\n",
            "                (LayerNorm): LayerNorm((1024,), eps=1e-12, elementwise_affine=True)\n",
            "                (dropout): Dropout(p=0.1, inplace=False)\n",
            "              )\n",
            "            )\n",
            "            (intermediate): BertIntermediate(\n",
            "              (dense): Linear(in_features=1024, out_features=4096, bias=True)\n",
            "              (intermediate_act_fn): GELUActivation()\n",
            "            )\n",
            "            (output): BertOutput(\n",
            "              (dense): Linear(in_features=4096, out_features=1024, bias=True)\n",
            "              (LayerNorm): LayerNorm((1024,), eps=1e-12, elementwise_affine=True)\n",
            "              (dropout): Dropout(p=0.1, inplace=False)\n",
            "            )\n",
            "          )\n",
            "          (14): BertLayer(\n",
            "            (attention): BertAttention(\n",
            "              (self): BertSelfAttention(\n",
            "                (query): Linear(in_features=1024, out_features=1024, bias=True)\n",
            "                (key): Linear(in_features=1024, out_features=1024, bias=True)\n",
            "                (value): Linear(in_features=1024, out_features=1024, bias=True)\n",
            "                (dropout): Dropout(p=0.1, inplace=False)\n",
            "              )\n",
            "              (output): BertSelfOutput(\n",
            "                (dense): Linear(in_features=1024, out_features=1024, bias=True)\n",
            "                (LayerNorm): LayerNorm((1024,), eps=1e-12, elementwise_affine=True)\n",
            "                (dropout): Dropout(p=0.1, inplace=False)\n",
            "              )\n",
            "            )\n",
            "            (intermediate): BertIntermediate(\n",
            "              (dense): Linear(in_features=1024, out_features=4096, bias=True)\n",
            "              (intermediate_act_fn): GELUActivation()\n",
            "            )\n",
            "            (output): BertOutput(\n",
            "              (dense): Linear(in_features=4096, out_features=1024, bias=True)\n",
            "              (LayerNorm): LayerNorm((1024,), eps=1e-12, elementwise_affine=True)\n",
            "              (dropout): Dropout(p=0.1, inplace=False)\n",
            "            )\n",
            "          )\n",
            "          (15): BertLayer(\n",
            "            (attention): BertAttention(\n",
            "              (self): BertSelfAttention(\n",
            "                (query): Linear(in_features=1024, out_features=1024, bias=True)\n",
            "                (key): Linear(in_features=1024, out_features=1024, bias=True)\n",
            "                (value): Linear(in_features=1024, out_features=1024, bias=True)\n",
            "                (dropout): Dropout(p=0.1, inplace=False)\n",
            "              )\n",
            "              (output): BertSelfOutput(\n",
            "                (dense): Linear(in_features=1024, out_features=1024, bias=True)\n",
            "                (LayerNorm): LayerNorm((1024,), eps=1e-12, elementwise_affine=True)\n",
            "                (dropout): Dropout(p=0.1, inplace=False)\n",
            "              )\n",
            "            )\n",
            "            (intermediate): BertIntermediate(\n",
            "              (dense): Linear(in_features=1024, out_features=4096, bias=True)\n",
            "              (intermediate_act_fn): GELUActivation()\n",
            "            )\n",
            "            (output): BertOutput(\n",
            "              (dense): Linear(in_features=4096, out_features=1024, bias=True)\n",
            "              (LayerNorm): LayerNorm((1024,), eps=1e-12, elementwise_affine=True)\n",
            "              (dropout): Dropout(p=0.1, inplace=False)\n",
            "            )\n",
            "          )\n",
            "          (16): BertLayer(\n",
            "            (attention): BertAttention(\n",
            "              (self): BertSelfAttention(\n",
            "                (query): Linear(in_features=1024, out_features=1024, bias=True)\n",
            "                (key): Linear(in_features=1024, out_features=1024, bias=True)\n",
            "                (value): Linear(in_features=1024, out_features=1024, bias=True)\n",
            "                (dropout): Dropout(p=0.1, inplace=False)\n",
            "              )\n",
            "              (output): BertSelfOutput(\n",
            "                (dense): Linear(in_features=1024, out_features=1024, bias=True)\n",
            "                (LayerNorm): LayerNorm((1024,), eps=1e-12, elementwise_affine=True)\n",
            "                (dropout): Dropout(p=0.1, inplace=False)\n",
            "              )\n",
            "            )\n",
            "            (intermediate): BertIntermediate(\n",
            "              (dense): Linear(in_features=1024, out_features=4096, bias=True)\n",
            "              (intermediate_act_fn): GELUActivation()\n",
            "            )\n",
            "            (output): BertOutput(\n",
            "              (dense): Linear(in_features=4096, out_features=1024, bias=True)\n",
            "              (LayerNorm): LayerNorm((1024,), eps=1e-12, elementwise_affine=True)\n",
            "              (dropout): Dropout(p=0.1, inplace=False)\n",
            "            )\n",
            "          )\n",
            "          (17): BertLayer(\n",
            "            (attention): BertAttention(\n",
            "              (self): BertSelfAttention(\n",
            "                (query): Linear(in_features=1024, out_features=1024, bias=True)\n",
            "                (key): Linear(in_features=1024, out_features=1024, bias=True)\n",
            "                (value): Linear(in_features=1024, out_features=1024, bias=True)\n",
            "                (dropout): Dropout(p=0.1, inplace=False)\n",
            "              )\n",
            "              (output): BertSelfOutput(\n",
            "                (dense): Linear(in_features=1024, out_features=1024, bias=True)\n",
            "                (LayerNorm): LayerNorm((1024,), eps=1e-12, elementwise_affine=True)\n",
            "                (dropout): Dropout(p=0.1, inplace=False)\n",
            "              )\n",
            "            )\n",
            "            (intermediate): BertIntermediate(\n",
            "              (dense): Linear(in_features=1024, out_features=4096, bias=True)\n",
            "              (intermediate_act_fn): GELUActivation()\n",
            "            )\n",
            "            (output): BertOutput(\n",
            "              (dense): Linear(in_features=4096, out_features=1024, bias=True)\n",
            "              (LayerNorm): LayerNorm((1024,), eps=1e-12, elementwise_affine=True)\n",
            "              (dropout): Dropout(p=0.1, inplace=False)\n",
            "            )\n",
            "          )\n",
            "          (18): BertLayer(\n",
            "            (attention): BertAttention(\n",
            "              (self): BertSelfAttention(\n",
            "                (query): Linear(in_features=1024, out_features=1024, bias=True)\n",
            "                (key): Linear(in_features=1024, out_features=1024, bias=True)\n",
            "                (value): Linear(in_features=1024, out_features=1024, bias=True)\n",
            "                (dropout): Dropout(p=0.1, inplace=False)\n",
            "              )\n",
            "              (output): BertSelfOutput(\n",
            "                (dense): Linear(in_features=1024, out_features=1024, bias=True)\n",
            "                (LayerNorm): LayerNorm((1024,), eps=1e-12, elementwise_affine=True)\n",
            "                (dropout): Dropout(p=0.1, inplace=False)\n",
            "              )\n",
            "            )\n",
            "            (intermediate): BertIntermediate(\n",
            "              (dense): Linear(in_features=1024, out_features=4096, bias=True)\n",
            "              (intermediate_act_fn): GELUActivation()\n",
            "            )\n",
            "            (output): BertOutput(\n",
            "              (dense): Linear(in_features=4096, out_features=1024, bias=True)\n",
            "              (LayerNorm): LayerNorm((1024,), eps=1e-12, elementwise_affine=True)\n",
            "              (dropout): Dropout(p=0.1, inplace=False)\n",
            "            )\n",
            "          )\n",
            "          (19): BertLayer(\n",
            "            (attention): BertAttention(\n",
            "              (self): BertSelfAttention(\n",
            "                (query): Linear(in_features=1024, out_features=1024, bias=True)\n",
            "                (key): Linear(in_features=1024, out_features=1024, bias=True)\n",
            "                (value): Linear(in_features=1024, out_features=1024, bias=True)\n",
            "                (dropout): Dropout(p=0.1, inplace=False)\n",
            "              )\n",
            "              (output): BertSelfOutput(\n",
            "                (dense): Linear(in_features=1024, out_features=1024, bias=True)\n",
            "                (LayerNorm): LayerNorm((1024,), eps=1e-12, elementwise_affine=True)\n",
            "                (dropout): Dropout(p=0.1, inplace=False)\n",
            "              )\n",
            "            )\n",
            "            (intermediate): BertIntermediate(\n",
            "              (dense): Linear(in_features=1024, out_features=4096, bias=True)\n",
            "              (intermediate_act_fn): GELUActivation()\n",
            "            )\n",
            "            (output): BertOutput(\n",
            "              (dense): Linear(in_features=4096, out_features=1024, bias=True)\n",
            "              (LayerNorm): LayerNorm((1024,), eps=1e-12, elementwise_affine=True)\n",
            "              (dropout): Dropout(p=0.1, inplace=False)\n",
            "            )\n",
            "          )\n",
            "          (20): BertLayer(\n",
            "            (attention): BertAttention(\n",
            "              (self): BertSelfAttention(\n",
            "                (query): Linear(in_features=1024, out_features=1024, bias=True)\n",
            "                (key): Linear(in_features=1024, out_features=1024, bias=True)\n",
            "                (value): Linear(in_features=1024, out_features=1024, bias=True)\n",
            "                (dropout): Dropout(p=0.1, inplace=False)\n",
            "              )\n",
            "              (output): BertSelfOutput(\n",
            "                (dense): Linear(in_features=1024, out_features=1024, bias=True)\n",
            "                (LayerNorm): LayerNorm((1024,), eps=1e-12, elementwise_affine=True)\n",
            "                (dropout): Dropout(p=0.1, inplace=False)\n",
            "              )\n",
            "            )\n",
            "            (intermediate): BertIntermediate(\n",
            "              (dense): Linear(in_features=1024, out_features=4096, bias=True)\n",
            "              (intermediate_act_fn): GELUActivation()\n",
            "            )\n",
            "            (output): BertOutput(\n",
            "              (dense): Linear(in_features=4096, out_features=1024, bias=True)\n",
            "              (LayerNorm): LayerNorm((1024,), eps=1e-12, elementwise_affine=True)\n",
            "              (dropout): Dropout(p=0.1, inplace=False)\n",
            "            )\n",
            "          )\n",
            "          (21): BertLayer(\n",
            "            (attention): BertAttention(\n",
            "              (self): BertSelfAttention(\n",
            "                (query): Linear(in_features=1024, out_features=1024, bias=True)\n",
            "                (key): Linear(in_features=1024, out_features=1024, bias=True)\n",
            "                (value): Linear(in_features=1024, out_features=1024, bias=True)\n",
            "                (dropout): Dropout(p=0.1, inplace=False)\n",
            "              )\n",
            "              (output): BertSelfOutput(\n",
            "                (dense): Linear(in_features=1024, out_features=1024, bias=True)\n",
            "                (LayerNorm): LayerNorm((1024,), eps=1e-12, elementwise_affine=True)\n",
            "                (dropout): Dropout(p=0.1, inplace=False)\n",
            "              )\n",
            "            )\n",
            "            (intermediate): BertIntermediate(\n",
            "              (dense): Linear(in_features=1024, out_features=4096, bias=True)\n",
            "              (intermediate_act_fn): GELUActivation()\n",
            "            )\n",
            "            (output): BertOutput(\n",
            "              (dense): Linear(in_features=4096, out_features=1024, bias=True)\n",
            "              (LayerNorm): LayerNorm((1024,), eps=1e-12, elementwise_affine=True)\n",
            "              (dropout): Dropout(p=0.1, inplace=False)\n",
            "            )\n",
            "          )\n",
            "          (22): BertLayer(\n",
            "            (attention): BertAttention(\n",
            "              (self): BertSelfAttention(\n",
            "                (query): Linear(in_features=1024, out_features=1024, bias=True)\n",
            "                (key): Linear(in_features=1024, out_features=1024, bias=True)\n",
            "                (value): Linear(in_features=1024, out_features=1024, bias=True)\n",
            "                (dropout): Dropout(p=0.1, inplace=False)\n",
            "              )\n",
            "              (output): BertSelfOutput(\n",
            "                (dense): Linear(in_features=1024, out_features=1024, bias=True)\n",
            "                (LayerNorm): LayerNorm((1024,), eps=1e-12, elementwise_affine=True)\n",
            "                (dropout): Dropout(p=0.1, inplace=False)\n",
            "              )\n",
            "            )\n",
            "            (intermediate): BertIntermediate(\n",
            "              (dense): Linear(in_features=1024, out_features=4096, bias=True)\n",
            "              (intermediate_act_fn): GELUActivation()\n",
            "            )\n",
            "            (output): BertOutput(\n",
            "              (dense): Linear(in_features=4096, out_features=1024, bias=True)\n",
            "              (LayerNorm): LayerNorm((1024,), eps=1e-12, elementwise_affine=True)\n",
            "              (dropout): Dropout(p=0.1, inplace=False)\n",
            "            )\n",
            "          )\n",
            "          (23): BertLayer(\n",
            "            (attention): BertAttention(\n",
            "              (self): BertSelfAttention(\n",
            "                (query): Linear(in_features=1024, out_features=1024, bias=True)\n",
            "                (key): Linear(in_features=1024, out_features=1024, bias=True)\n",
            "                (value): Linear(in_features=1024, out_features=1024, bias=True)\n",
            "                (dropout): Dropout(p=0.1, inplace=False)\n",
            "              )\n",
            "              (output): BertSelfOutput(\n",
            "                (dense): Linear(in_features=1024, out_features=1024, bias=True)\n",
            "                (LayerNorm): LayerNorm((1024,), eps=1e-12, elementwise_affine=True)\n",
            "                (dropout): Dropout(p=0.1, inplace=False)\n",
            "              )\n",
            "            )\n",
            "            (intermediate): BertIntermediate(\n",
            "              (dense): Linear(in_features=1024, out_features=4096, bias=True)\n",
            "              (intermediate_act_fn): GELUActivation()\n",
            "            )\n",
            "            (output): BertOutput(\n",
            "              (dense): Linear(in_features=4096, out_features=1024, bias=True)\n",
            "              (LayerNorm): LayerNorm((1024,), eps=1e-12, elementwise_affine=True)\n",
            "              (dropout): Dropout(p=0.1, inplace=False)\n",
            "            )\n",
            "          )\n",
            "        )\n",
            "      )\n",
            "      (pooler): BertPooler(\n",
            "        (dense): Linear(in_features=1024, out_features=1024, bias=True)\n",
            "        (activation): Tanh()\n",
            "      )\n",
            "    )\n",
            "    (dropout): Dropout(p=0.1, inplace=False)\n",
            "    (classifier): Linear(in_features=1024, out_features=2, bias=True)\n",
            "  )\n",
            ")\n"
          ]
        }
      ]
    },
    {
      "cell_type": "markdown",
      "source": [
        "The last part of the model is the most interersting one; check how there is a linear layer that transformer the last hidden feature vector, whose dimensionality is 1024, to a feature vector with 2 entries. So for each input (initial feature vectors of n entries representing a datapoint) we will have a final feature vector with 2 entries. Each entry encode a quantification (probability if activated with either a sigmoid or a softmax) of our input to be one of the two possible classes (disaster or not). \n",
        "\n",
        "Another way to visualize our model is to use **torchview**, a library inspired by **torchviz** and made to work with hf models. It allows to draw the computational graph of our model  "
      ],
      "metadata": {
        "id": "EGN704CZA0cL"
      }
    },
    {
      "cell_type": "code",
      "source": [
        "# FIRSTLY BE SURE TO HAVE INSTALLED THE REQUIRED MODULE\n",
        "!pip install torchview"
      ],
      "metadata": {
        "colab": {
          "base_uri": "https://localhost:8080/"
        },
        "id": "GbdtVYFACXtc",
        "outputId": "e5663be3-d288-4f7c-9c15-2caf48eccb10"
      },
      "execution_count": 31,
      "outputs": [
        {
          "output_type": "stream",
          "name": "stdout",
          "text": [
            "Looking in indexes: https://pypi.org/simple, https://us-python.pkg.dev/colab-wheels/public/simple/\n",
            "Requirement already satisfied: torchview in /usr/local/lib/python3.9/dist-packages (0.2.6)\n"
          ]
        }
      ]
    },
    {
      "cell_type": "code",
      "source": [
        "\n",
        "from torchview import draw_graph\n",
        "\n",
        "inputs = tokz(\"This is a fake disaster tweet\", return_tensors=\"pt\")\n",
        "\n",
        "model_graph = draw_graph(model.model, input_data=inputs)\n",
        "\n",
        "model_graph.visual_graph\n"
      ],
      "metadata": {
        "colab": {
          "base_uri": "https://localhost:8080/",
          "height": 0
        },
        "id": "BiPPrtiECdWt",
        "outputId": "e43691a3-514c-4e04-e108-684b6a20761d"
      },
      "execution_count": 32,
      "outputs": [
        {
          "output_type": "execute_result",
          "data": {
            "text/plain": [
              "<graphviz.dot.Digraph at 0x7f8072dd87c0>"
            ],
            "image/svg+xml": "<?xml version=\"1.0\" encoding=\"UTF-8\" standalone=\"no\"?>\n<!DOCTYPE svg PUBLIC \"-//W3C//DTD SVG 1.1//EN\"\n \"http://www.w3.org/Graphics/SVG/1.1/DTD/svg11.dtd\">\n<!-- Generated by graphviz version 2.43.0 (0)\n -->\n<!-- Title: model Pages: 1 -->\n<svg width=\"1087pt\" height=\"2333pt\"\n viewBox=\"0.00 0.00 1087.04 2333.00\" xmlns=\"http://www.w3.org/2000/svg\" xmlns:xlink=\"http://www.w3.org/1999/xlink\">\n<g id=\"graph0\" class=\"graph\" transform=\"scale(1.18 1.18) rotate(0) translate(4 2756)\">\n<title>model</title>\n<polygon fill=\"white\" stroke=\"transparent\" points=\"-4,4 -4,-2756 1282,-2756 1282,4 -4,4\"/>\n<!-- 0 -->\n<g id=\"node1\" class=\"node\">\n<title>0</title>\n<polygon fill=\"lightyellow\" stroke=\"transparent\" points=\"177.5,-2752 41.5,-2752 41.5,-2720 177.5,-2720 177.5,-2752\"/>\n<polygon fill=\"none\" stroke=\"black\" points=\"41.5,-2720 41.5,-2752 124.5,-2752 124.5,-2720 41.5,-2720\"/>\n<text text-anchor=\"start\" x=\"46.5\" y=\"-2739\" font-family=\"Linux libertine\" font-size=\"10.00\">input&#45;tensor</text>\n<text text-anchor=\"start\" x=\"61.5\" y=\"-2728\" font-family=\"Linux libertine\" font-size=\"10.00\">depth:0</text>\n<polygon fill=\"none\" stroke=\"black\" points=\"124.5,-2720 124.5,-2752 177.5,-2752 177.5,-2720 124.5,-2720\"/>\n<text text-anchor=\"start\" x=\"129.5\" y=\"-2733.5\" font-family=\"Linux libertine\" font-size=\"10.00\">(1, 10)</text>\n</g>\n<!-- 7 -->\n<g id=\"node8\" class=\"node\">\n<title>7</title>\n<polygon fill=\"#c1ffc1\" stroke=\"transparent\" points=\"219,-2684 0,-2684 0,-2642 219,-2642 219,-2684\"/>\n<polygon fill=\"none\" stroke=\"black\" points=\"0.5,-2642 0.5,-2684 65.5,-2684 65.5,-2642 0.5,-2642\"/>\n<text text-anchor=\"start\" x=\"5.5\" y=\"-2666\" font-family=\"Linux libertine\" font-size=\"10.00\">Embedding</text>\n<text text-anchor=\"start\" x=\"11.5\" y=\"-2655\" font-family=\"Linux libertine\" font-size=\"10.00\">depth:3</text>\n<polygon fill=\"none\" stroke=\"black\" points=\"65.5,-2663 65.5,-2684 124.5,-2684 124.5,-2663 65.5,-2663\"/>\n<text text-anchor=\"start\" x=\"76.5\" y=\"-2671\" font-family=\"Linux libertine\" font-size=\"10.00\">input:</text>\n<polygon fill=\"none\" stroke=\"black\" points=\"124.5,-2663 124.5,-2684 219.5,-2684 219.5,-2663 124.5,-2663\"/>\n<text text-anchor=\"start\" x=\"147.5\" y=\"-2671\" font-family=\"Linux libertine\" font-size=\"10.00\">(1, 10) </text>\n<polygon fill=\"none\" stroke=\"black\" points=\"65.5,-2642 65.5,-2663 124.5,-2663 124.5,-2642 65.5,-2642\"/>\n<text text-anchor=\"start\" x=\"70.5\" y=\"-2650\" font-family=\"Linux libertine\" font-size=\"10.00\">output: </text>\n<polygon fill=\"none\" stroke=\"black\" points=\"124.5,-2642 124.5,-2663 219.5,-2663 219.5,-2642 124.5,-2642\"/>\n<text text-anchor=\"start\" x=\"129.5\" y=\"-2650\" font-family=\"Linux libertine\" font-size=\"10.00\">(1, 10, 1024) </text>\n</g>\n<!-- 0&#45;&gt;7 -->\n<g id=\"edge5\" class=\"edge\">\n<title>0&#45;&gt;7</title>\n<path fill=\"none\" stroke=\"black\" d=\"M109.5,-2719.94C109.5,-2712.45 109.5,-2703.12 109.5,-2694.24\"/>\n<polygon fill=\"black\" stroke=\"black\" points=\"113,-2694.16 109.5,-2684.16 106,-2694.16 113,-2694.16\"/>\n</g>\n<!-- 1 -->\n<g id=\"node2\" class=\"node\">\n<title>1</title>\n<polygon fill=\"lightyellow\" stroke=\"transparent\" points=\"414.5,-2752 278.5,-2752 278.5,-2720 414.5,-2720 414.5,-2752\"/>\n<polygon fill=\"none\" stroke=\"black\" points=\"278.5,-2720 278.5,-2752 361.5,-2752 361.5,-2720 278.5,-2720\"/>\n<text text-anchor=\"start\" x=\"283.5\" y=\"-2739\" font-family=\"Linux libertine\" font-size=\"10.00\">input&#45;tensor</text>\n<text text-anchor=\"start\" x=\"298.5\" y=\"-2728\" font-family=\"Linux libertine\" font-size=\"10.00\">depth:0</text>\n<polygon fill=\"none\" stroke=\"black\" points=\"361.5,-2720 361.5,-2752 414.5,-2752 414.5,-2720 361.5,-2720\"/>\n<text text-anchor=\"start\" x=\"366.5\" y=\"-2733.5\" font-family=\"Linux libertine\" font-size=\"10.00\">(1, 10)</text>\n</g>\n<!-- 8 -->\n<g id=\"node9\" class=\"node\">\n<title>8</title>\n<polygon fill=\"#c1ffc1\" stroke=\"transparent\" points=\"456,-2684 237,-2684 237,-2642 456,-2642 456,-2684\"/>\n<polygon fill=\"none\" stroke=\"black\" points=\"237.5,-2642 237.5,-2684 302.5,-2684 302.5,-2642 237.5,-2642\"/>\n<text text-anchor=\"start\" x=\"242.5\" y=\"-2666\" font-family=\"Linux libertine\" font-size=\"10.00\">Embedding</text>\n<text text-anchor=\"start\" x=\"248.5\" y=\"-2655\" font-family=\"Linux libertine\" font-size=\"10.00\">depth:3</text>\n<polygon fill=\"none\" stroke=\"black\" points=\"302.5,-2663 302.5,-2684 361.5,-2684 361.5,-2663 302.5,-2663\"/>\n<text text-anchor=\"start\" x=\"313.5\" y=\"-2671\" font-family=\"Linux libertine\" font-size=\"10.00\">input:</text>\n<polygon fill=\"none\" stroke=\"black\" points=\"361.5,-2663 361.5,-2684 456.5,-2684 456.5,-2663 361.5,-2663\"/>\n<text text-anchor=\"start\" x=\"384.5\" y=\"-2671\" font-family=\"Linux libertine\" font-size=\"10.00\">(1, 10) </text>\n<polygon fill=\"none\" stroke=\"black\" points=\"302.5,-2642 302.5,-2663 361.5,-2663 361.5,-2642 302.5,-2642\"/>\n<text text-anchor=\"start\" x=\"307.5\" y=\"-2650\" font-family=\"Linux libertine\" font-size=\"10.00\">output: </text>\n<polygon fill=\"none\" stroke=\"black\" points=\"361.5,-2642 361.5,-2663 456.5,-2663 456.5,-2642 361.5,-2642\"/>\n<text text-anchor=\"start\" x=\"366.5\" y=\"-2650\" font-family=\"Linux libertine\" font-size=\"10.00\">(1, 10, 1024) </text>\n</g>\n<!-- 1&#45;&gt;8 -->\n<g id=\"edge6\" class=\"edge\">\n<title>1&#45;&gt;8</title>\n<path fill=\"none\" stroke=\"black\" d=\"M346.5,-2719.94C346.5,-2712.45 346.5,-2703.12 346.5,-2694.24\"/>\n<polygon fill=\"black\" stroke=\"black\" points=\"350,-2694.16 346.5,-2684.16 343,-2694.16 350,-2694.16\"/>\n</g>\n<!-- 2 -->\n<g id=\"node3\" class=\"node\">\n<title>2</title>\n<polygon fill=\"lightyellow\" stroke=\"transparent\" points=\"636.5,-2679 500.5,-2679 500.5,-2647 636.5,-2647 636.5,-2679\"/>\n<polygon fill=\"none\" stroke=\"black\" points=\"500.5,-2647 500.5,-2679 583.5,-2679 583.5,-2647 500.5,-2647\"/>\n<text text-anchor=\"start\" x=\"505.5\" y=\"-2666\" font-family=\"Linux libertine\" font-size=\"10.00\">input&#45;tensor</text>\n<text text-anchor=\"start\" x=\"520.5\" y=\"-2655\" font-family=\"Linux libertine\" font-size=\"10.00\">depth:0</text>\n<polygon fill=\"none\" stroke=\"black\" points=\"583.5,-2647 583.5,-2679 636.5,-2679 636.5,-2647 583.5,-2647\"/>\n<text text-anchor=\"start\" x=\"588.5\" y=\"-2660.5\" font-family=\"Linux libertine\" font-size=\"10.00\">(1, 10)</text>\n</g>\n<!-- 3 -->\n<g id=\"node4\" class=\"node\">\n<title>3</title>\n<polygon fill=\"aliceblue\" stroke=\"transparent\" points=\"684,-2606 453,-2606 453,-2564 684,-2564 684,-2606\"/>\n<polygon fill=\"none\" stroke=\"black\" points=\"453.5,-2564 453.5,-2606 530.5,-2606 530.5,-2564 453.5,-2564\"/>\n<text text-anchor=\"start\" x=\"458.5\" y=\"-2588\" font-family=\"Linux libertine\" font-size=\"10.00\">__getitem__</text>\n<text text-anchor=\"start\" x=\"470.5\" y=\"-2577\" font-family=\"Linux libertine\" font-size=\"10.00\">depth:2</text>\n<polygon fill=\"none\" stroke=\"black\" points=\"530.5,-2585 530.5,-2606 589.5,-2606 589.5,-2585 530.5,-2585\"/>\n<text text-anchor=\"start\" x=\"541.5\" y=\"-2593\" font-family=\"Linux libertine\" font-size=\"10.00\">input:</text>\n<polygon fill=\"none\" stroke=\"black\" points=\"589.5,-2585 589.5,-2606 684.5,-2606 684.5,-2585 589.5,-2585\"/>\n<text text-anchor=\"start\" x=\"612.5\" y=\"-2593\" font-family=\"Linux libertine\" font-size=\"10.00\">(1, 10) </text>\n<polygon fill=\"none\" stroke=\"black\" points=\"530.5,-2564 530.5,-2585 589.5,-2585 589.5,-2564 530.5,-2564\"/>\n<text text-anchor=\"start\" x=\"535.5\" y=\"-2572\" font-family=\"Linux libertine\" font-size=\"10.00\">output: </text>\n<polygon fill=\"none\" stroke=\"black\" points=\"589.5,-2564 589.5,-2585 684.5,-2585 684.5,-2564 589.5,-2564\"/>\n<text text-anchor=\"start\" x=\"594.5\" y=\"-2572\" font-family=\"Linux libertine\" font-size=\"10.00\">(1, 1, 1, 10) </text>\n</g>\n<!-- 2&#45;&gt;3 -->\n<g id=\"edge1\" class=\"edge\">\n<title>2&#45;&gt;3</title>\n<path fill=\"none\" stroke=\"black\" d=\"M568.5,-2646.98C568.5,-2638.22 568.5,-2626.85 568.5,-2616.31\"/>\n<polygon fill=\"black\" stroke=\"black\" points=\"572,-2616.17 568.5,-2606.17 565,-2616.17 572,-2616.17\"/>\n</g>\n<!-- 4 -->\n<g id=\"node5\" class=\"node\">\n<title>4</title>\n<polygon fill=\"aliceblue\" stroke=\"transparent\" points=\"671,-2528 464,-2528 464,-2486 671,-2486 671,-2528\"/>\n<polygon fill=\"none\" stroke=\"black\" points=\"464.5,-2486 464.5,-2528 517.5,-2528 517.5,-2486 464.5,-2486\"/>\n<text text-anchor=\"start\" x=\"484.5\" y=\"-2510\" font-family=\"Linux libertine\" font-size=\"10.00\">to</text>\n<text text-anchor=\"start\" x=\"469.5\" y=\"-2499\" font-family=\"Linux libertine\" font-size=\"10.00\">depth:2</text>\n<polygon fill=\"none\" stroke=\"black\" points=\"517.5,-2507 517.5,-2528 576.5,-2528 576.5,-2507 517.5,-2507\"/>\n<text text-anchor=\"start\" x=\"528.5\" y=\"-2515\" font-family=\"Linux libertine\" font-size=\"10.00\">input:</text>\n<polygon fill=\"none\" stroke=\"black\" points=\"576.5,-2507 576.5,-2528 671.5,-2528 671.5,-2507 576.5,-2507\"/>\n<text text-anchor=\"start\" x=\"581.5\" y=\"-2515\" font-family=\"Linux libertine\" font-size=\"10.00\">(1, 1, 1, 10) </text>\n<polygon fill=\"none\" stroke=\"black\" points=\"517.5,-2486 517.5,-2507 576.5,-2507 576.5,-2486 517.5,-2486\"/>\n<text text-anchor=\"start\" x=\"522.5\" y=\"-2494\" font-family=\"Linux libertine\" font-size=\"10.00\">output: </text>\n<polygon fill=\"none\" stroke=\"black\" points=\"576.5,-2486 576.5,-2507 671.5,-2507 671.5,-2486 576.5,-2486\"/>\n<text text-anchor=\"start\" x=\"581.5\" y=\"-2494\" font-family=\"Linux libertine\" font-size=\"10.00\">(1, 1, 1, 10) </text>\n</g>\n<!-- 3&#45;&gt;4 -->\n<g id=\"edge2\" class=\"edge\">\n<title>3&#45;&gt;4</title>\n<path fill=\"none\" stroke=\"black\" d=\"M568.23,-2563.63C568.13,-2555.82 568.01,-2546.73 567.9,-2538.18\"/>\n<polygon fill=\"black\" stroke=\"black\" points=\"571.4,-2538.11 567.77,-2528.16 564.4,-2538.2 571.4,-2538.11\"/>\n</g>\n<!-- 5 -->\n<g id=\"node6\" class=\"node\">\n<title>5</title>\n<polygon fill=\"aliceblue\" stroke=\"transparent\" points=\"673,-2450 460,-2450 460,-2408 673,-2408 673,-2450\"/>\n<polygon fill=\"none\" stroke=\"black\" points=\"460.5,-2408 460.5,-2450 519.5,-2450 519.5,-2408 460.5,-2408\"/>\n<text text-anchor=\"start\" x=\"465.5\" y=\"-2432\" font-family=\"Linux libertine\" font-size=\"10.00\">__rsub__</text>\n<text text-anchor=\"start\" x=\"468.5\" y=\"-2421\" font-family=\"Linux libertine\" font-size=\"10.00\">depth:2</text>\n<polygon fill=\"none\" stroke=\"black\" points=\"519.5,-2429 519.5,-2450 578.5,-2450 578.5,-2429 519.5,-2429\"/>\n<text text-anchor=\"start\" x=\"530.5\" y=\"-2437\" font-family=\"Linux libertine\" font-size=\"10.00\">input:</text>\n<polygon fill=\"none\" stroke=\"black\" points=\"578.5,-2429 578.5,-2450 673.5,-2450 673.5,-2429 578.5,-2429\"/>\n<text text-anchor=\"start\" x=\"583.5\" y=\"-2437\" font-family=\"Linux libertine\" font-size=\"10.00\">(1, 1, 1, 10) </text>\n<polygon fill=\"none\" stroke=\"black\" points=\"519.5,-2408 519.5,-2429 578.5,-2429 578.5,-2408 519.5,-2408\"/>\n<text text-anchor=\"start\" x=\"524.5\" y=\"-2416\" font-family=\"Linux libertine\" font-size=\"10.00\">output: </text>\n<polygon fill=\"none\" stroke=\"black\" points=\"578.5,-2408 578.5,-2429 673.5,-2429 673.5,-2408 578.5,-2408\"/>\n<text text-anchor=\"start\" x=\"583.5\" y=\"-2416\" font-family=\"Linux libertine\" font-size=\"10.00\">(1, 1, 1, 10) </text>\n</g>\n<!-- 4&#45;&gt;5 -->\n<g id=\"edge3\" class=\"edge\">\n<title>4&#45;&gt;5</title>\n<path fill=\"none\" stroke=\"black\" d=\"M567.23,-2485.63C567.13,-2477.82 567.01,-2468.73 566.9,-2460.18\"/>\n<polygon fill=\"black\" stroke=\"black\" points=\"570.4,-2460.11 566.77,-2450.16 563.4,-2460.2 570.4,-2460.11\"/>\n</g>\n<!-- 6 -->\n<g id=\"node7\" class=\"node\">\n<title>6</title>\n<polygon fill=\"aliceblue\" stroke=\"transparent\" points=\"665,-2372 458,-2372 458,-2330 665,-2330 665,-2372\"/>\n<polygon fill=\"none\" stroke=\"black\" points=\"458.5,-2330 458.5,-2372 511.5,-2372 511.5,-2330 458.5,-2330\"/>\n<text text-anchor=\"start\" x=\"475.5\" y=\"-2354\" font-family=\"Linux libertine\" font-size=\"10.00\">mul</text>\n<text text-anchor=\"start\" x=\"463.5\" y=\"-2343\" font-family=\"Linux libertine\" font-size=\"10.00\">depth:2</text>\n<polygon fill=\"none\" stroke=\"black\" points=\"511.5,-2351 511.5,-2372 570.5,-2372 570.5,-2351 511.5,-2351\"/>\n<text text-anchor=\"start\" x=\"522.5\" y=\"-2359\" font-family=\"Linux libertine\" font-size=\"10.00\">input:</text>\n<polygon fill=\"none\" stroke=\"black\" points=\"570.5,-2351 570.5,-2372 665.5,-2372 665.5,-2351 570.5,-2351\"/>\n<text text-anchor=\"start\" x=\"575.5\" y=\"-2359\" font-family=\"Linux libertine\" font-size=\"10.00\">(1, 1, 1, 10) </text>\n<polygon fill=\"none\" stroke=\"black\" points=\"511.5,-2330 511.5,-2351 570.5,-2351 570.5,-2330 511.5,-2330\"/>\n<text text-anchor=\"start\" x=\"516.5\" y=\"-2338\" font-family=\"Linux libertine\" font-size=\"10.00\">output: </text>\n<polygon fill=\"none\" stroke=\"black\" points=\"570.5,-2330 570.5,-2351 665.5,-2351 665.5,-2330 570.5,-2330\"/>\n<text text-anchor=\"start\" x=\"575.5\" y=\"-2338\" font-family=\"Linux libertine\" font-size=\"10.00\">(1, 1, 1, 10) </text>\n</g>\n<!-- 5&#45;&gt;6 -->\n<g id=\"edge4\" class=\"edge\">\n<title>5&#45;&gt;6</title>\n<path fill=\"none\" stroke=\"black\" d=\"M565.16,-2407.63C564.65,-2399.82 564.05,-2390.73 563.49,-2382.18\"/>\n<polygon fill=\"black\" stroke=\"black\" points=\"566.98,-2381.91 562.83,-2372.16 559.99,-2382.37 566.98,-2381.91\"/>\n</g>\n<!-- 13 -->\n<g id=\"node14\" class=\"node\">\n<title>13</title>\n<polygon fill=\"#c1ffc1\" stroke=\"transparent\" points=\"1278,-2294 969,-2294 969,-2252 1278,-2252 1278,-2294\"/>\n<polygon fill=\"none\" stroke=\"black\" points=\"969.5,-2252 969.5,-2294 1034.5,-2294 1034.5,-2252 969.5,-2252\"/>\n<text text-anchor=\"start\" x=\"974.5\" y=\"-2276\" font-family=\"Linux libertine\" font-size=\"10.00\">BertLayer</text>\n<text text-anchor=\"start\" x=\"980.5\" y=\"-2265\" font-family=\"Linux libertine\" font-size=\"10.00\">depth:3</text>\n<polygon fill=\"none\" stroke=\"black\" points=\"1034.5,-2273 1034.5,-2294 1093.5,-2294 1093.5,-2273 1034.5,-2273\"/>\n<text text-anchor=\"start\" x=\"1045.5\" y=\"-2281\" font-family=\"Linux libertine\" font-size=\"10.00\">input:</text>\n<polygon fill=\"none\" stroke=\"black\" points=\"1093.5,-2273 1093.5,-2294 1278.5,-2294 1278.5,-2273 1093.5,-2273\"/>\n<text text-anchor=\"start\" x=\"1098.5\" y=\"-2281\" font-family=\"Linux libertine\" font-size=\"10.00\">(1, 10, 1024), (1, 1, 1, 10) </text>\n<polygon fill=\"none\" stroke=\"black\" points=\"1034.5,-2252 1034.5,-2273 1093.5,-2273 1093.5,-2252 1034.5,-2252\"/>\n<text text-anchor=\"start\" x=\"1039.5\" y=\"-2260\" font-family=\"Linux libertine\" font-size=\"10.00\">output: </text>\n<polygon fill=\"none\" stroke=\"black\" points=\"1093.5,-2252 1093.5,-2273 1278.5,-2273 1278.5,-2252 1093.5,-2252\"/>\n<text text-anchor=\"start\" x=\"1143.5\" y=\"-2260\" font-family=\"Linux libertine\" font-size=\"10.00\">(1, 10, 1024) </text>\n</g>\n<!-- 6&#45;&gt;13 -->\n<g id=\"edge13\" class=\"edge\">\n<title>6&#45;&gt;13</title>\n<path fill=\"none\" stroke=\"black\" d=\"M665.23,-2335.97C749.32,-2324.6 869.2,-2308.39 965.25,-2295.4\"/>\n<polygon fill=\"black\" stroke=\"black\" points=\"965.92,-2298.84 975.36,-2294.03 964.98,-2291.9 965.92,-2298.84\"/>\n</g>\n<!-- 14 -->\n<g id=\"node15\" class=\"node\">\n<title>14</title>\n<polygon fill=\"#c1ffc1\" stroke=\"transparent\" points=\"1240,-2216 931,-2216 931,-2174 1240,-2174 1240,-2216\"/>\n<polygon fill=\"none\" stroke=\"black\" points=\"931.5,-2174 931.5,-2216 996.5,-2216 996.5,-2174 931.5,-2174\"/>\n<text text-anchor=\"start\" x=\"936.5\" y=\"-2198\" font-family=\"Linux libertine\" font-size=\"10.00\">BertLayer</text>\n<text text-anchor=\"start\" x=\"942.5\" y=\"-2187\" font-family=\"Linux libertine\" font-size=\"10.00\">depth:3</text>\n<polygon fill=\"none\" stroke=\"black\" points=\"996.5,-2195 996.5,-2216 1055.5,-2216 1055.5,-2195 996.5,-2195\"/>\n<text text-anchor=\"start\" x=\"1007.5\" y=\"-2203\" font-family=\"Linux libertine\" font-size=\"10.00\">input:</text>\n<polygon fill=\"none\" stroke=\"black\" points=\"1055.5,-2195 1055.5,-2216 1240.5,-2216 1240.5,-2195 1055.5,-2195\"/>\n<text text-anchor=\"start\" x=\"1060.5\" y=\"-2203\" font-family=\"Linux libertine\" font-size=\"10.00\">(1, 10, 1024), (1, 1, 1, 10) </text>\n<polygon fill=\"none\" stroke=\"black\" points=\"996.5,-2174 996.5,-2195 1055.5,-2195 1055.5,-2174 996.5,-2174\"/>\n<text text-anchor=\"start\" x=\"1001.5\" y=\"-2182\" font-family=\"Linux libertine\" font-size=\"10.00\">output: </text>\n<polygon fill=\"none\" stroke=\"black\" points=\"1055.5,-2174 1055.5,-2195 1240.5,-2195 1240.5,-2174 1055.5,-2174\"/>\n<text text-anchor=\"start\" x=\"1105.5\" y=\"-2182\" font-family=\"Linux libertine\" font-size=\"10.00\">(1, 10, 1024) </text>\n</g>\n<!-- 6&#45;&gt;14 -->\n<g id=\"edge14\" class=\"edge\">\n<title>6&#45;&gt;14</title>\n<path fill=\"none\" stroke=\"black\" d=\"M665.07,-2340.74C753.96,-2331.53 874.37,-2315.63 917.5,-2294 941.38,-2282.02 938.41,-2267.03 960.5,-2252 978.83,-2239.53 1000.39,-2228.71 1020.39,-2220\"/>\n<polygon fill=\"black\" stroke=\"black\" points=\"1021.93,-2223.15 1029.76,-2216.02 1019.19,-2216.71 1021.93,-2223.15\"/>\n</g>\n<!-- 15 -->\n<g id=\"node16\" class=\"node\">\n<title>15</title>\n<polygon fill=\"#c1ffc1\" stroke=\"transparent\" points=\"1202,-2138 893,-2138 893,-2096 1202,-2096 1202,-2138\"/>\n<polygon fill=\"none\" stroke=\"black\" points=\"893.5,-2096 893.5,-2138 958.5,-2138 958.5,-2096 893.5,-2096\"/>\n<text text-anchor=\"start\" x=\"898.5\" y=\"-2120\" font-family=\"Linux libertine\" font-size=\"10.00\">BertLayer</text>\n<text text-anchor=\"start\" x=\"904.5\" y=\"-2109\" font-family=\"Linux libertine\" font-size=\"10.00\">depth:3</text>\n<polygon fill=\"none\" stroke=\"black\" points=\"958.5,-2117 958.5,-2138 1017.5,-2138 1017.5,-2117 958.5,-2117\"/>\n<text text-anchor=\"start\" x=\"969.5\" y=\"-2125\" font-family=\"Linux libertine\" font-size=\"10.00\">input:</text>\n<polygon fill=\"none\" stroke=\"black\" points=\"1017.5,-2117 1017.5,-2138 1202.5,-2138 1202.5,-2117 1017.5,-2117\"/>\n<text text-anchor=\"start\" x=\"1022.5\" y=\"-2125\" font-family=\"Linux libertine\" font-size=\"10.00\">(1, 10, 1024), (1, 1, 1, 10) </text>\n<polygon fill=\"none\" stroke=\"black\" points=\"958.5,-2096 958.5,-2117 1017.5,-2117 1017.5,-2096 958.5,-2096\"/>\n<text text-anchor=\"start\" x=\"963.5\" y=\"-2104\" font-family=\"Linux libertine\" font-size=\"10.00\">output: </text>\n<polygon fill=\"none\" stroke=\"black\" points=\"1017.5,-2096 1017.5,-2117 1202.5,-2117 1202.5,-2096 1017.5,-2096\"/>\n<text text-anchor=\"start\" x=\"1067.5\" y=\"-2104\" font-family=\"Linux libertine\" font-size=\"10.00\">(1, 10, 1024) </text>\n</g>\n<!-- 6&#45;&gt;15 -->\n<g id=\"edge15\" class=\"edge\">\n<title>6&#45;&gt;15</title>\n<path fill=\"none\" stroke=\"black\" d=\"M665.39,-2342.9C745.43,-2335.43 847.63,-2320.88 879.5,-2294 922.81,-2257.48 884.01,-2215.57 922.5,-2174 934.9,-2160.6 951.11,-2150.2 967.73,-2142.21\"/>\n<polygon fill=\"black\" stroke=\"black\" points=\"969.32,-2145.33 976.98,-2138.01 966.42,-2138.96 969.32,-2145.33\"/>\n</g>\n<!-- 16 -->\n<g id=\"node17\" class=\"node\">\n<title>16</title>\n<polygon fill=\"#c1ffc1\" stroke=\"transparent\" points=\"1164,-2060 855,-2060 855,-2018 1164,-2018 1164,-2060\"/>\n<polygon fill=\"none\" stroke=\"black\" points=\"855.5,-2018 855.5,-2060 920.5,-2060 920.5,-2018 855.5,-2018\"/>\n<text text-anchor=\"start\" x=\"860.5\" y=\"-2042\" font-family=\"Linux libertine\" font-size=\"10.00\">BertLayer</text>\n<text text-anchor=\"start\" x=\"866.5\" y=\"-2031\" font-family=\"Linux libertine\" font-size=\"10.00\">depth:3</text>\n<polygon fill=\"none\" stroke=\"black\" points=\"920.5,-2039 920.5,-2060 979.5,-2060 979.5,-2039 920.5,-2039\"/>\n<text text-anchor=\"start\" x=\"931.5\" y=\"-2047\" font-family=\"Linux libertine\" font-size=\"10.00\">input:</text>\n<polygon fill=\"none\" stroke=\"black\" points=\"979.5,-2039 979.5,-2060 1164.5,-2060 1164.5,-2039 979.5,-2039\"/>\n<text text-anchor=\"start\" x=\"984.5\" y=\"-2047\" font-family=\"Linux libertine\" font-size=\"10.00\">(1, 10, 1024), (1, 1, 1, 10) </text>\n<polygon fill=\"none\" stroke=\"black\" points=\"920.5,-2018 920.5,-2039 979.5,-2039 979.5,-2018 920.5,-2018\"/>\n<text text-anchor=\"start\" x=\"925.5\" y=\"-2026\" font-family=\"Linux libertine\" font-size=\"10.00\">output: </text>\n<polygon fill=\"none\" stroke=\"black\" points=\"979.5,-2018 979.5,-2039 1164.5,-2039 1164.5,-2018 979.5,-2018\"/>\n<text text-anchor=\"start\" x=\"1029.5\" y=\"-2026\" font-family=\"Linux libertine\" font-size=\"10.00\">(1, 10, 1024) </text>\n</g>\n<!-- 6&#45;&gt;16 -->\n<g id=\"edge16\" class=\"edge\">\n<title>6&#45;&gt;16</title>\n<path fill=\"none\" stroke=\"black\" d=\"M665.16,-2341.09C734.17,-2333.01 816.58,-2318.51 841.5,-2294 905.7,-2230.85 827.76,-2165.92 884.5,-2096 895.34,-2082.65 910.02,-2072.37 925.52,-2064.5\"/>\n<polygon fill=\"black\" stroke=\"black\" points=\"927.18,-2067.58 934.72,-2060.13 924.18,-2061.26 927.18,-2067.58\"/>\n</g>\n<!-- 17 -->\n<g id=\"node18\" class=\"node\">\n<title>17</title>\n<polygon fill=\"#c1ffc1\" stroke=\"transparent\" points=\"1126,-1982 817,-1982 817,-1940 1126,-1940 1126,-1982\"/>\n<polygon fill=\"none\" stroke=\"black\" points=\"817.5,-1940 817.5,-1982 882.5,-1982 882.5,-1940 817.5,-1940\"/>\n<text text-anchor=\"start\" x=\"822.5\" y=\"-1964\" font-family=\"Linux libertine\" font-size=\"10.00\">BertLayer</text>\n<text text-anchor=\"start\" x=\"828.5\" y=\"-1953\" font-family=\"Linux libertine\" font-size=\"10.00\">depth:3</text>\n<polygon fill=\"none\" stroke=\"black\" points=\"882.5,-1961 882.5,-1982 941.5,-1982 941.5,-1961 882.5,-1961\"/>\n<text text-anchor=\"start\" x=\"893.5\" y=\"-1969\" font-family=\"Linux libertine\" font-size=\"10.00\">input:</text>\n<polygon fill=\"none\" stroke=\"black\" points=\"941.5,-1961 941.5,-1982 1126.5,-1982 1126.5,-1961 941.5,-1961\"/>\n<text text-anchor=\"start\" x=\"946.5\" y=\"-1969\" font-family=\"Linux libertine\" font-size=\"10.00\">(1, 10, 1024), (1, 1, 1, 10) </text>\n<polygon fill=\"none\" stroke=\"black\" points=\"882.5,-1940 882.5,-1961 941.5,-1961 941.5,-1940 882.5,-1940\"/>\n<text text-anchor=\"start\" x=\"887.5\" y=\"-1948\" font-family=\"Linux libertine\" font-size=\"10.00\">output: </text>\n<polygon fill=\"none\" stroke=\"black\" points=\"941.5,-1940 941.5,-1961 1126.5,-1961 1126.5,-1940 941.5,-1940\"/>\n<text text-anchor=\"start\" x=\"991.5\" y=\"-1948\" font-family=\"Linux libertine\" font-size=\"10.00\">(1, 10, 1024) </text>\n</g>\n<!-- 6&#45;&gt;17 -->\n<g id=\"edge17\" class=\"edge\">\n<title>6&#45;&gt;17</title>\n<path fill=\"none\" stroke=\"black\" d=\"M665.17,-2336.97C721.46,-2327.83 783.55,-2313.69 803.5,-2294 835.41,-2262.49 827.5,-2240.84 827.5,-2196 827.5,-2196 827.5,-2196 827.5,-2116 827.5,-2071.63 818.93,-2052.76 846.5,-2018 857.12,-2004.61 871.64,-1994.32 887.02,-1986.45\"/>\n<polygon fill=\"black\" stroke=\"black\" points=\"888.64,-1989.56 896.15,-1982.09 885.62,-1983.24 888.64,-1989.56\"/>\n</g>\n<!-- 18 -->\n<g id=\"node19\" class=\"node\">\n<title>18</title>\n<polygon fill=\"#c1ffc1\" stroke=\"transparent\" points=\"1088,-1904 779,-1904 779,-1862 1088,-1862 1088,-1904\"/>\n<polygon fill=\"none\" stroke=\"black\" points=\"779.5,-1862 779.5,-1904 844.5,-1904 844.5,-1862 779.5,-1862\"/>\n<text text-anchor=\"start\" x=\"784.5\" y=\"-1886\" font-family=\"Linux libertine\" font-size=\"10.00\">BertLayer</text>\n<text text-anchor=\"start\" x=\"790.5\" y=\"-1875\" font-family=\"Linux libertine\" font-size=\"10.00\">depth:3</text>\n<polygon fill=\"none\" stroke=\"black\" points=\"844.5,-1883 844.5,-1904 903.5,-1904 903.5,-1883 844.5,-1883\"/>\n<text text-anchor=\"start\" x=\"855.5\" y=\"-1891\" font-family=\"Linux libertine\" font-size=\"10.00\">input:</text>\n<polygon fill=\"none\" stroke=\"black\" points=\"903.5,-1883 903.5,-1904 1088.5,-1904 1088.5,-1883 903.5,-1883\"/>\n<text text-anchor=\"start\" x=\"908.5\" y=\"-1891\" font-family=\"Linux libertine\" font-size=\"10.00\">(1, 10, 1024), (1, 1, 1, 10) </text>\n<polygon fill=\"none\" stroke=\"black\" points=\"844.5,-1862 844.5,-1883 903.5,-1883 903.5,-1862 844.5,-1862\"/>\n<text text-anchor=\"start\" x=\"849.5\" y=\"-1870\" font-family=\"Linux libertine\" font-size=\"10.00\">output: </text>\n<polygon fill=\"none\" stroke=\"black\" points=\"903.5,-1862 903.5,-1883 1088.5,-1883 1088.5,-1862 903.5,-1862\"/>\n<text text-anchor=\"start\" x=\"953.5\" y=\"-1870\" font-family=\"Linux libertine\" font-size=\"10.00\">(1, 10, 1024) </text>\n</g>\n<!-- 6&#45;&gt;18 -->\n<g id=\"edge18\" class=\"edge\">\n<title>6&#45;&gt;18</title>\n<path fill=\"none\" stroke=\"black\" d=\"M665,-2342.9C701.13,-2335.41 739.19,-2321.05 765.5,-2294 796.77,-2261.85 789.5,-2240.84 789.5,-2196 789.5,-2196 789.5,-2196 789.5,-2038 789.5,-1993.63 780.93,-1974.76 808.5,-1940 819.12,-1926.61 833.64,-1916.32 849.02,-1908.45\"/>\n<polygon fill=\"black\" stroke=\"black\" points=\"850.64,-1911.56 858.15,-1904.09 847.62,-1905.24 850.64,-1911.56\"/>\n</g>\n<!-- 19 -->\n<g id=\"node20\" class=\"node\">\n<title>19</title>\n<polygon fill=\"#c1ffc1\" stroke=\"transparent\" points=\"1050,-1826 741,-1826 741,-1784 1050,-1784 1050,-1826\"/>\n<polygon fill=\"none\" stroke=\"black\" points=\"741.5,-1784 741.5,-1826 806.5,-1826 806.5,-1784 741.5,-1784\"/>\n<text text-anchor=\"start\" x=\"746.5\" y=\"-1808\" font-family=\"Linux libertine\" font-size=\"10.00\">BertLayer</text>\n<text text-anchor=\"start\" x=\"752.5\" y=\"-1797\" font-family=\"Linux libertine\" font-size=\"10.00\">depth:3</text>\n<polygon fill=\"none\" stroke=\"black\" points=\"806.5,-1805 806.5,-1826 865.5,-1826 865.5,-1805 806.5,-1805\"/>\n<text text-anchor=\"start\" x=\"817.5\" y=\"-1813\" font-family=\"Linux libertine\" font-size=\"10.00\">input:</text>\n<polygon fill=\"none\" stroke=\"black\" points=\"865.5,-1805 865.5,-1826 1050.5,-1826 1050.5,-1805 865.5,-1805\"/>\n<text text-anchor=\"start\" x=\"870.5\" y=\"-1813\" font-family=\"Linux libertine\" font-size=\"10.00\">(1, 10, 1024), (1, 1, 1, 10) </text>\n<polygon fill=\"none\" stroke=\"black\" points=\"806.5,-1784 806.5,-1805 865.5,-1805 865.5,-1784 806.5,-1784\"/>\n<text text-anchor=\"start\" x=\"811.5\" y=\"-1792\" font-family=\"Linux libertine\" font-size=\"10.00\">output: </text>\n<polygon fill=\"none\" stroke=\"black\" points=\"865.5,-1784 865.5,-1805 1050.5,-1805 1050.5,-1784 865.5,-1784\"/>\n<text text-anchor=\"start\" x=\"915.5\" y=\"-1792\" font-family=\"Linux libertine\" font-size=\"10.00\">(1, 10, 1024) </text>\n</g>\n<!-- 6&#45;&gt;19 -->\n<g id=\"edge19\" class=\"edge\">\n<title>6&#45;&gt;19</title>\n<path fill=\"none\" stroke=\"black\" d=\"M665.23,-2332.56C688.38,-2324.26 710.94,-2312.03 727.5,-2294 757.83,-2260.97 751.5,-2240.84 751.5,-2196 751.5,-2196 751.5,-2196 751.5,-1960 751.5,-1915.63 742.93,-1896.76 770.5,-1862 781.12,-1848.61 795.64,-1838.32 811.02,-1830.45\"/>\n<polygon fill=\"black\" stroke=\"black\" points=\"812.64,-1833.56 820.15,-1826.09 809.62,-1827.24 812.64,-1833.56\"/>\n</g>\n<!-- 20 -->\n<g id=\"node21\" class=\"node\">\n<title>20</title>\n<polygon fill=\"#c1ffc1\" stroke=\"transparent\" points=\"1012,-1748 703,-1748 703,-1706 1012,-1706 1012,-1748\"/>\n<polygon fill=\"none\" stroke=\"black\" points=\"703.5,-1706 703.5,-1748 768.5,-1748 768.5,-1706 703.5,-1706\"/>\n<text text-anchor=\"start\" x=\"708.5\" y=\"-1730\" font-family=\"Linux libertine\" font-size=\"10.00\">BertLayer</text>\n<text text-anchor=\"start\" x=\"714.5\" y=\"-1719\" font-family=\"Linux libertine\" font-size=\"10.00\">depth:3</text>\n<polygon fill=\"none\" stroke=\"black\" points=\"768.5,-1727 768.5,-1748 827.5,-1748 827.5,-1727 768.5,-1727\"/>\n<text text-anchor=\"start\" x=\"779.5\" y=\"-1735\" font-family=\"Linux libertine\" font-size=\"10.00\">input:</text>\n<polygon fill=\"none\" stroke=\"black\" points=\"827.5,-1727 827.5,-1748 1012.5,-1748 1012.5,-1727 827.5,-1727\"/>\n<text text-anchor=\"start\" x=\"832.5\" y=\"-1735\" font-family=\"Linux libertine\" font-size=\"10.00\">(1, 10, 1024), (1, 1, 1, 10) </text>\n<polygon fill=\"none\" stroke=\"black\" points=\"768.5,-1706 768.5,-1727 827.5,-1727 827.5,-1706 768.5,-1706\"/>\n<text text-anchor=\"start\" x=\"773.5\" y=\"-1714\" font-family=\"Linux libertine\" font-size=\"10.00\">output: </text>\n<polygon fill=\"none\" stroke=\"black\" points=\"827.5,-1706 827.5,-1727 1012.5,-1727 1012.5,-1706 827.5,-1706\"/>\n<text text-anchor=\"start\" x=\"877.5\" y=\"-1714\" font-family=\"Linux libertine\" font-size=\"10.00\">(1, 10, 1024) </text>\n</g>\n<!-- 6&#45;&gt;20 -->\n<g id=\"edge20\" class=\"edge\">\n<title>6&#45;&gt;20</title>\n<path fill=\"none\" stroke=\"black\" d=\"M637.77,-2329.98C657,-2321.66 676,-2310.06 689.5,-2294 718.36,-2259.68 713.5,-2240.84 713.5,-2196 713.5,-2196 713.5,-2196 713.5,-1882 713.5,-1837.63 704.93,-1818.76 732.5,-1784 743.12,-1770.61 757.64,-1760.32 773.02,-1752.45\"/>\n<polygon fill=\"black\" stroke=\"black\" points=\"774.64,-1755.56 782.15,-1748.09 771.62,-1749.24 774.64,-1755.56\"/>\n</g>\n<!-- 21 -->\n<g id=\"node22\" class=\"node\">\n<title>21</title>\n<polygon fill=\"#c1ffc1\" stroke=\"transparent\" points=\"974,-1670 665,-1670 665,-1628 974,-1628 974,-1670\"/>\n<polygon fill=\"none\" stroke=\"black\" points=\"665.5,-1628 665.5,-1670 730.5,-1670 730.5,-1628 665.5,-1628\"/>\n<text text-anchor=\"start\" x=\"670.5\" y=\"-1652\" font-family=\"Linux libertine\" font-size=\"10.00\">BertLayer</text>\n<text text-anchor=\"start\" x=\"676.5\" y=\"-1641\" font-family=\"Linux libertine\" font-size=\"10.00\">depth:3</text>\n<polygon fill=\"none\" stroke=\"black\" points=\"730.5,-1649 730.5,-1670 789.5,-1670 789.5,-1649 730.5,-1649\"/>\n<text text-anchor=\"start\" x=\"741.5\" y=\"-1657\" font-family=\"Linux libertine\" font-size=\"10.00\">input:</text>\n<polygon fill=\"none\" stroke=\"black\" points=\"789.5,-1649 789.5,-1670 974.5,-1670 974.5,-1649 789.5,-1649\"/>\n<text text-anchor=\"start\" x=\"794.5\" y=\"-1657\" font-family=\"Linux libertine\" font-size=\"10.00\">(1, 10, 1024), (1, 1, 1, 10) </text>\n<polygon fill=\"none\" stroke=\"black\" points=\"730.5,-1628 730.5,-1649 789.5,-1649 789.5,-1628 730.5,-1628\"/>\n<text text-anchor=\"start\" x=\"735.5\" y=\"-1636\" font-family=\"Linux libertine\" font-size=\"10.00\">output: </text>\n<polygon fill=\"none\" stroke=\"black\" points=\"789.5,-1628 789.5,-1649 974.5,-1649 974.5,-1628 789.5,-1628\"/>\n<text text-anchor=\"start\" x=\"839.5\" y=\"-1636\" font-family=\"Linux libertine\" font-size=\"10.00\">(1, 10, 1024) </text>\n</g>\n<!-- 6&#45;&gt;21 -->\n<g id=\"edge21\" class=\"edge\">\n<title>6&#45;&gt;21</title>\n<path fill=\"none\" stroke=\"black\" d=\"M608.53,-2329.82C624.28,-2320.94 640.59,-2309.05 651.5,-2294 677.82,-2257.69 675.5,-2240.84 675.5,-2196 675.5,-2196 675.5,-2196 675.5,-1804 675.5,-1759.63 666.93,-1740.76 694.5,-1706 705.12,-1692.61 719.64,-1682.32 735.02,-1674.45\"/>\n<polygon fill=\"black\" stroke=\"black\" points=\"736.64,-1677.56 744.15,-1670.09 733.62,-1671.24 736.64,-1677.56\"/>\n</g>\n<!-- 22 -->\n<g id=\"node23\" class=\"node\">\n<title>22</title>\n<polygon fill=\"#c1ffc1\" stroke=\"transparent\" points=\"936,-1592 627,-1592 627,-1550 936,-1550 936,-1592\"/>\n<polygon fill=\"none\" stroke=\"black\" points=\"627.5,-1550 627.5,-1592 692.5,-1592 692.5,-1550 627.5,-1550\"/>\n<text text-anchor=\"start\" x=\"632.5\" y=\"-1574\" font-family=\"Linux libertine\" font-size=\"10.00\">BertLayer</text>\n<text text-anchor=\"start\" x=\"638.5\" y=\"-1563\" font-family=\"Linux libertine\" font-size=\"10.00\">depth:3</text>\n<polygon fill=\"none\" stroke=\"black\" points=\"692.5,-1571 692.5,-1592 751.5,-1592 751.5,-1571 692.5,-1571\"/>\n<text text-anchor=\"start\" x=\"703.5\" y=\"-1579\" font-family=\"Linux libertine\" font-size=\"10.00\">input:</text>\n<polygon fill=\"none\" stroke=\"black\" points=\"751.5,-1571 751.5,-1592 936.5,-1592 936.5,-1571 751.5,-1571\"/>\n<text text-anchor=\"start\" x=\"756.5\" y=\"-1579\" font-family=\"Linux libertine\" font-size=\"10.00\">(1, 10, 1024), (1, 1, 1, 10) </text>\n<polygon fill=\"none\" stroke=\"black\" points=\"692.5,-1550 692.5,-1571 751.5,-1571 751.5,-1550 692.5,-1550\"/>\n<text text-anchor=\"start\" x=\"697.5\" y=\"-1558\" font-family=\"Linux libertine\" font-size=\"10.00\">output: </text>\n<polygon fill=\"none\" stroke=\"black\" points=\"751.5,-1550 751.5,-1571 936.5,-1571 936.5,-1550 751.5,-1550\"/>\n<text text-anchor=\"start\" x=\"801.5\" y=\"-1558\" font-family=\"Linux libertine\" font-size=\"10.00\">(1, 10, 1024) </text>\n</g>\n<!-- 6&#45;&gt;22 -->\n<g id=\"edge22\" class=\"edge\">\n<title>6&#45;&gt;22</title>\n<path fill=\"none\" stroke=\"black\" d=\"M584.86,-2329.97C595.03,-2320.1 606.26,-2307.43 613.5,-2294 634.77,-2254.52 637.5,-2240.84 637.5,-2196 637.5,-2196 637.5,-2196 637.5,-1726 637.5,-1681.63 628.93,-1662.76 656.5,-1628 667.12,-1614.61 681.64,-1604.32 697.02,-1596.45\"/>\n<polygon fill=\"black\" stroke=\"black\" points=\"698.64,-1599.56 706.15,-1592.09 695.62,-1593.24 698.64,-1599.56\"/>\n</g>\n<!-- 23 -->\n<g id=\"node24\" class=\"node\">\n<title>23</title>\n<polygon fill=\"#c1ffc1\" stroke=\"transparent\" points=\"898,-1514 589,-1514 589,-1472 898,-1472 898,-1514\"/>\n<polygon fill=\"none\" stroke=\"black\" points=\"589.5,-1472 589.5,-1514 654.5,-1514 654.5,-1472 589.5,-1472\"/>\n<text text-anchor=\"start\" x=\"594.5\" y=\"-1496\" font-family=\"Linux libertine\" font-size=\"10.00\">BertLayer</text>\n<text text-anchor=\"start\" x=\"600.5\" y=\"-1485\" font-family=\"Linux libertine\" font-size=\"10.00\">depth:3</text>\n<polygon fill=\"none\" stroke=\"black\" points=\"654.5,-1493 654.5,-1514 713.5,-1514 713.5,-1493 654.5,-1493\"/>\n<text text-anchor=\"start\" x=\"665.5\" y=\"-1501\" font-family=\"Linux libertine\" font-size=\"10.00\">input:</text>\n<polygon fill=\"none\" stroke=\"black\" points=\"713.5,-1493 713.5,-1514 898.5,-1514 898.5,-1493 713.5,-1493\"/>\n<text text-anchor=\"start\" x=\"718.5\" y=\"-1501\" font-family=\"Linux libertine\" font-size=\"10.00\">(1, 10, 1024), (1, 1, 1, 10) </text>\n<polygon fill=\"none\" stroke=\"black\" points=\"654.5,-1472 654.5,-1493 713.5,-1493 713.5,-1472 654.5,-1472\"/>\n<text text-anchor=\"start\" x=\"659.5\" y=\"-1480\" font-family=\"Linux libertine\" font-size=\"10.00\">output: </text>\n<polygon fill=\"none\" stroke=\"black\" points=\"713.5,-1472 713.5,-1493 898.5,-1493 898.5,-1472 713.5,-1472\"/>\n<text text-anchor=\"start\" x=\"763.5\" y=\"-1480\" font-family=\"Linux libertine\" font-size=\"10.00\">(1, 10, 1024) </text>\n</g>\n<!-- 6&#45;&gt;23 -->\n<g id=\"edge23\" class=\"edge\">\n<title>6&#45;&gt;23</title>\n<path fill=\"none\" stroke=\"black\" d=\"M569.75,-2329.96C580.92,-2300.94 599.5,-2245.29 599.5,-2196 599.5,-2196 599.5,-2196 599.5,-1648 599.5,-1603.63 590.93,-1584.76 618.5,-1550 629.12,-1536.61 643.64,-1526.32 659.02,-1518.45\"/>\n<polygon fill=\"black\" stroke=\"black\" points=\"660.64,-1521.56 668.15,-1514.09 657.62,-1515.24 660.64,-1521.56\"/>\n</g>\n<!-- 24 -->\n<g id=\"node25\" class=\"node\">\n<title>24</title>\n<polygon fill=\"#c1ffc1\" stroke=\"transparent\" points=\"860,-1436 551,-1436 551,-1394 860,-1394 860,-1436\"/>\n<polygon fill=\"none\" stroke=\"black\" points=\"551.5,-1394 551.5,-1436 616.5,-1436 616.5,-1394 551.5,-1394\"/>\n<text text-anchor=\"start\" x=\"556.5\" y=\"-1418\" font-family=\"Linux libertine\" font-size=\"10.00\">BertLayer</text>\n<text text-anchor=\"start\" x=\"562.5\" y=\"-1407\" font-family=\"Linux libertine\" font-size=\"10.00\">depth:3</text>\n<polygon fill=\"none\" stroke=\"black\" points=\"616.5,-1415 616.5,-1436 675.5,-1436 675.5,-1415 616.5,-1415\"/>\n<text text-anchor=\"start\" x=\"627.5\" y=\"-1423\" font-family=\"Linux libertine\" font-size=\"10.00\">input:</text>\n<polygon fill=\"none\" stroke=\"black\" points=\"675.5,-1415 675.5,-1436 860.5,-1436 860.5,-1415 675.5,-1415\"/>\n<text text-anchor=\"start\" x=\"680.5\" y=\"-1423\" font-family=\"Linux libertine\" font-size=\"10.00\">(1, 10, 1024), (1, 1, 1, 10) </text>\n<polygon fill=\"none\" stroke=\"black\" points=\"616.5,-1394 616.5,-1415 675.5,-1415 675.5,-1394 616.5,-1394\"/>\n<text text-anchor=\"start\" x=\"621.5\" y=\"-1402\" font-family=\"Linux libertine\" font-size=\"10.00\">output: </text>\n<polygon fill=\"none\" stroke=\"black\" points=\"675.5,-1394 675.5,-1415 860.5,-1415 860.5,-1394 675.5,-1394\"/>\n<text text-anchor=\"start\" x=\"725.5\" y=\"-1402\" font-family=\"Linux libertine\" font-size=\"10.00\">(1, 10, 1024) </text>\n</g>\n<!-- 6&#45;&gt;24 -->\n<g id=\"edge24\" class=\"edge\">\n<title>6&#45;&gt;24</title>\n<path fill=\"none\" stroke=\"black\" d=\"M561.5,-2329.57C561.5,-2300.08 561.5,-2243.86 561.5,-2196 561.5,-2196 561.5,-2196 561.5,-1570 561.5,-1525.63 552.93,-1506.76 580.5,-1472 591.12,-1458.61 605.64,-1448.32 621.02,-1440.45\"/>\n<polygon fill=\"black\" stroke=\"black\" points=\"622.64,-1443.56 630.15,-1436.09 619.62,-1437.24 622.64,-1443.56\"/>\n</g>\n<!-- 25 -->\n<g id=\"node26\" class=\"node\">\n<title>25</title>\n<polygon fill=\"#c1ffc1\" stroke=\"transparent\" points=\"822,-1358 513,-1358 513,-1316 822,-1316 822,-1358\"/>\n<polygon fill=\"none\" stroke=\"black\" points=\"513.5,-1316 513.5,-1358 578.5,-1358 578.5,-1316 513.5,-1316\"/>\n<text text-anchor=\"start\" x=\"518.5\" y=\"-1340\" font-family=\"Linux libertine\" font-size=\"10.00\">BertLayer</text>\n<text text-anchor=\"start\" x=\"524.5\" y=\"-1329\" font-family=\"Linux libertine\" font-size=\"10.00\">depth:3</text>\n<polygon fill=\"none\" stroke=\"black\" points=\"578.5,-1337 578.5,-1358 637.5,-1358 637.5,-1337 578.5,-1337\"/>\n<text text-anchor=\"start\" x=\"589.5\" y=\"-1345\" font-family=\"Linux libertine\" font-size=\"10.00\">input:</text>\n<polygon fill=\"none\" stroke=\"black\" points=\"637.5,-1337 637.5,-1358 822.5,-1358 822.5,-1337 637.5,-1337\"/>\n<text text-anchor=\"start\" x=\"642.5\" y=\"-1345\" font-family=\"Linux libertine\" font-size=\"10.00\">(1, 10, 1024), (1, 1, 1, 10) </text>\n<polygon fill=\"none\" stroke=\"black\" points=\"578.5,-1316 578.5,-1337 637.5,-1337 637.5,-1316 578.5,-1316\"/>\n<text text-anchor=\"start\" x=\"583.5\" y=\"-1324\" font-family=\"Linux libertine\" font-size=\"10.00\">output: </text>\n<polygon fill=\"none\" stroke=\"black\" points=\"637.5,-1316 637.5,-1337 822.5,-1337 822.5,-1316 637.5,-1316\"/>\n<text text-anchor=\"start\" x=\"687.5\" y=\"-1324\" font-family=\"Linux libertine\" font-size=\"10.00\">(1, 10, 1024) </text>\n</g>\n<!-- 6&#45;&gt;25 -->\n<g id=\"edge25\" class=\"edge\">\n<title>6&#45;&gt;25</title>\n<path fill=\"none\" stroke=\"black\" d=\"M553.25,-2329.96C542.08,-2300.94 523.5,-2245.29 523.5,-2196 523.5,-2196 523.5,-2196 523.5,-1492 523.5,-1447.63 514.93,-1428.76 542.5,-1394 553.12,-1380.61 567.64,-1370.32 583.02,-1362.45\"/>\n<polygon fill=\"black\" stroke=\"black\" points=\"584.64,-1365.56 592.15,-1358.09 581.62,-1359.24 584.64,-1365.56\"/>\n</g>\n<!-- 26 -->\n<g id=\"node27\" class=\"node\">\n<title>26</title>\n<polygon fill=\"#c1ffc1\" stroke=\"transparent\" points=\"784,-1280 475,-1280 475,-1238 784,-1238 784,-1280\"/>\n<polygon fill=\"none\" stroke=\"black\" points=\"475.5,-1238 475.5,-1280 540.5,-1280 540.5,-1238 475.5,-1238\"/>\n<text text-anchor=\"start\" x=\"480.5\" y=\"-1262\" font-family=\"Linux libertine\" font-size=\"10.00\">BertLayer</text>\n<text text-anchor=\"start\" x=\"486.5\" y=\"-1251\" font-family=\"Linux libertine\" font-size=\"10.00\">depth:3</text>\n<polygon fill=\"none\" stroke=\"black\" points=\"540.5,-1259 540.5,-1280 599.5,-1280 599.5,-1259 540.5,-1259\"/>\n<text text-anchor=\"start\" x=\"551.5\" y=\"-1267\" font-family=\"Linux libertine\" font-size=\"10.00\">input:</text>\n<polygon fill=\"none\" stroke=\"black\" points=\"599.5,-1259 599.5,-1280 784.5,-1280 784.5,-1259 599.5,-1259\"/>\n<text text-anchor=\"start\" x=\"604.5\" y=\"-1267\" font-family=\"Linux libertine\" font-size=\"10.00\">(1, 10, 1024), (1, 1, 1, 10) </text>\n<polygon fill=\"none\" stroke=\"black\" points=\"540.5,-1238 540.5,-1259 599.5,-1259 599.5,-1238 540.5,-1238\"/>\n<text text-anchor=\"start\" x=\"545.5\" y=\"-1246\" font-family=\"Linux libertine\" font-size=\"10.00\">output: </text>\n<polygon fill=\"none\" stroke=\"black\" points=\"599.5,-1238 599.5,-1259 784.5,-1259 784.5,-1238 599.5,-1238\"/>\n<text text-anchor=\"start\" x=\"649.5\" y=\"-1246\" font-family=\"Linux libertine\" font-size=\"10.00\">(1, 10, 1024) </text>\n</g>\n<!-- 6&#45;&gt;26 -->\n<g id=\"edge26\" class=\"edge\">\n<title>6&#45;&gt;26</title>\n<path fill=\"none\" stroke=\"black\" d=\"M543.87,-2329.66C521.42,-2301.59 485.5,-2248.47 485.5,-2196 485.5,-2196 485.5,-2196 485.5,-1414 485.5,-1369.63 476.93,-1350.76 504.5,-1316 515.12,-1302.61 529.64,-1292.32 545.02,-1284.45\"/>\n<polygon fill=\"black\" stroke=\"black\" points=\"546.64,-1287.56 554.15,-1280.09 543.62,-1281.24 546.64,-1287.56\"/>\n</g>\n<!-- 27 -->\n<g id=\"node28\" class=\"node\">\n<title>27</title>\n<polygon fill=\"#c1ffc1\" stroke=\"transparent\" points=\"746,-1202 437,-1202 437,-1160 746,-1160 746,-1202\"/>\n<polygon fill=\"none\" stroke=\"black\" points=\"437.5,-1160 437.5,-1202 502.5,-1202 502.5,-1160 437.5,-1160\"/>\n<text text-anchor=\"start\" x=\"442.5\" y=\"-1184\" font-family=\"Linux libertine\" font-size=\"10.00\">BertLayer</text>\n<text text-anchor=\"start\" x=\"448.5\" y=\"-1173\" font-family=\"Linux libertine\" font-size=\"10.00\">depth:3</text>\n<polygon fill=\"none\" stroke=\"black\" points=\"502.5,-1181 502.5,-1202 561.5,-1202 561.5,-1181 502.5,-1181\"/>\n<text text-anchor=\"start\" x=\"513.5\" y=\"-1189\" font-family=\"Linux libertine\" font-size=\"10.00\">input:</text>\n<polygon fill=\"none\" stroke=\"black\" points=\"561.5,-1181 561.5,-1202 746.5,-1202 746.5,-1181 561.5,-1181\"/>\n<text text-anchor=\"start\" x=\"566.5\" y=\"-1189\" font-family=\"Linux libertine\" font-size=\"10.00\">(1, 10, 1024), (1, 1, 1, 10) </text>\n<polygon fill=\"none\" stroke=\"black\" points=\"502.5,-1160 502.5,-1181 561.5,-1181 561.5,-1160 502.5,-1160\"/>\n<text text-anchor=\"start\" x=\"507.5\" y=\"-1168\" font-family=\"Linux libertine\" font-size=\"10.00\">output: </text>\n<polygon fill=\"none\" stroke=\"black\" points=\"561.5,-1160 561.5,-1181 746.5,-1181 746.5,-1160 561.5,-1160\"/>\n<text text-anchor=\"start\" x=\"611.5\" y=\"-1168\" font-family=\"Linux libertine\" font-size=\"10.00\">(1, 10, 1024) </text>\n</g>\n<!-- 6&#45;&gt;27 -->\n<g id=\"edge27\" class=\"edge\">\n<title>6&#45;&gt;27</title>\n<path fill=\"none\" stroke=\"black\" d=\"M531.47,-2329.88C518.59,-2320.16 504.1,-2307.65 493.5,-2294 463.99,-2256 447.5,-2244.12 447.5,-2196 447.5,-2196 447.5,-2196 447.5,-1336 447.5,-1291.63 438.93,-1272.76 466.5,-1238 477.12,-1224.61 491.64,-1214.32 507.02,-1206.45\"/>\n<polygon fill=\"black\" stroke=\"black\" points=\"508.64,-1209.56 516.15,-1202.09 505.62,-1203.24 508.64,-1209.56\"/>\n</g>\n<!-- 28 -->\n<g id=\"node29\" class=\"node\">\n<title>28</title>\n<polygon fill=\"#c1ffc1\" stroke=\"transparent\" points=\"708,-1124 399,-1124 399,-1082 708,-1082 708,-1124\"/>\n<polygon fill=\"none\" stroke=\"black\" points=\"399.5,-1082 399.5,-1124 464.5,-1124 464.5,-1082 399.5,-1082\"/>\n<text text-anchor=\"start\" x=\"404.5\" y=\"-1106\" font-family=\"Linux libertine\" font-size=\"10.00\">BertLayer</text>\n<text text-anchor=\"start\" x=\"410.5\" y=\"-1095\" font-family=\"Linux libertine\" font-size=\"10.00\">depth:3</text>\n<polygon fill=\"none\" stroke=\"black\" points=\"464.5,-1103 464.5,-1124 523.5,-1124 523.5,-1103 464.5,-1103\"/>\n<text text-anchor=\"start\" x=\"475.5\" y=\"-1111\" font-family=\"Linux libertine\" font-size=\"10.00\">input:</text>\n<polygon fill=\"none\" stroke=\"black\" points=\"523.5,-1103 523.5,-1124 708.5,-1124 708.5,-1103 523.5,-1103\"/>\n<text text-anchor=\"start\" x=\"528.5\" y=\"-1111\" font-family=\"Linux libertine\" font-size=\"10.00\">(1, 10, 1024), (1, 1, 1, 10) </text>\n<polygon fill=\"none\" stroke=\"black\" points=\"464.5,-1082 464.5,-1103 523.5,-1103 523.5,-1082 464.5,-1082\"/>\n<text text-anchor=\"start\" x=\"469.5\" y=\"-1090\" font-family=\"Linux libertine\" font-size=\"10.00\">output: </text>\n<polygon fill=\"none\" stroke=\"black\" points=\"523.5,-1082 523.5,-1103 708.5,-1103 708.5,-1082 523.5,-1082\"/>\n<text text-anchor=\"start\" x=\"573.5\" y=\"-1090\" font-family=\"Linux libertine\" font-size=\"10.00\">(1, 10, 1024) </text>\n</g>\n<!-- 6&#45;&gt;28 -->\n<g id=\"edge28\" class=\"edge\">\n<title>6&#45;&gt;28</title>\n<path fill=\"none\" stroke=\"black\" d=\"M508.78,-2329.97C490.52,-2321.08 471.01,-2309.14 456.5,-2294 423.08,-2259.12 409.5,-2244.31 409.5,-2196 409.5,-2196 409.5,-2196 409.5,-1258 409.5,-1213.63 400.93,-1194.76 428.5,-1160 439.12,-1146.61 453.64,-1136.32 469.02,-1128.45\"/>\n<polygon fill=\"black\" stroke=\"black\" points=\"470.64,-1131.56 478.15,-1124.09 467.62,-1125.24 470.64,-1131.56\"/>\n</g>\n<!-- 29 -->\n<g id=\"node30\" class=\"node\">\n<title>29</title>\n<polygon fill=\"#c1ffc1\" stroke=\"transparent\" points=\"670,-1046 361,-1046 361,-1004 670,-1004 670,-1046\"/>\n<polygon fill=\"none\" stroke=\"black\" points=\"361.5,-1004 361.5,-1046 426.5,-1046 426.5,-1004 361.5,-1004\"/>\n<text text-anchor=\"start\" x=\"366.5\" y=\"-1028\" font-family=\"Linux libertine\" font-size=\"10.00\">BertLayer</text>\n<text text-anchor=\"start\" x=\"372.5\" y=\"-1017\" font-family=\"Linux libertine\" font-size=\"10.00\">depth:3</text>\n<polygon fill=\"none\" stroke=\"black\" points=\"426.5,-1025 426.5,-1046 485.5,-1046 485.5,-1025 426.5,-1025\"/>\n<text text-anchor=\"start\" x=\"437.5\" y=\"-1033\" font-family=\"Linux libertine\" font-size=\"10.00\">input:</text>\n<polygon fill=\"none\" stroke=\"black\" points=\"485.5,-1025 485.5,-1046 670.5,-1046 670.5,-1025 485.5,-1025\"/>\n<text text-anchor=\"start\" x=\"490.5\" y=\"-1033\" font-family=\"Linux libertine\" font-size=\"10.00\">(1, 10, 1024), (1, 1, 1, 10) </text>\n<polygon fill=\"none\" stroke=\"black\" points=\"426.5,-1004 426.5,-1025 485.5,-1025 485.5,-1004 426.5,-1004\"/>\n<text text-anchor=\"start\" x=\"431.5\" y=\"-1012\" font-family=\"Linux libertine\" font-size=\"10.00\">output: </text>\n<polygon fill=\"none\" stroke=\"black\" points=\"485.5,-1004 485.5,-1025 670.5,-1025 670.5,-1004 485.5,-1004\"/>\n<text text-anchor=\"start\" x=\"535.5\" y=\"-1012\" font-family=\"Linux libertine\" font-size=\"10.00\">(1, 10, 1024) </text>\n</g>\n<!-- 6&#45;&gt;29 -->\n<g id=\"edge29\" class=\"edge\">\n<title>6&#45;&gt;29</title>\n<path fill=\"none\" stroke=\"black\" d=\"M478.76,-2329.98C456.9,-2321.63 434.65,-2310.02 417.5,-2294 382.34,-2261.15 371.5,-2244.12 371.5,-2196 371.5,-2196 371.5,-2196 371.5,-1180 371.5,-1135.63 362.93,-1116.76 390.5,-1082 401.12,-1068.61 415.64,-1058.32 431.02,-1050.45\"/>\n<polygon fill=\"black\" stroke=\"black\" points=\"432.64,-1053.56 440.15,-1046.09 429.62,-1047.24 432.64,-1053.56\"/>\n</g>\n<!-- 30 -->\n<g id=\"node31\" class=\"node\">\n<title>30</title>\n<polygon fill=\"#c1ffc1\" stroke=\"transparent\" points=\"632,-968 323,-968 323,-926 632,-926 632,-968\"/>\n<polygon fill=\"none\" stroke=\"black\" points=\"323.5,-926 323.5,-968 388.5,-968 388.5,-926 323.5,-926\"/>\n<text text-anchor=\"start\" x=\"328.5\" y=\"-950\" font-family=\"Linux libertine\" font-size=\"10.00\">BertLayer</text>\n<text text-anchor=\"start\" x=\"334.5\" y=\"-939\" font-family=\"Linux libertine\" font-size=\"10.00\">depth:3</text>\n<polygon fill=\"none\" stroke=\"black\" points=\"388.5,-947 388.5,-968 447.5,-968 447.5,-947 388.5,-947\"/>\n<text text-anchor=\"start\" x=\"399.5\" y=\"-955\" font-family=\"Linux libertine\" font-size=\"10.00\">input:</text>\n<polygon fill=\"none\" stroke=\"black\" points=\"447.5,-947 447.5,-968 632.5,-968 632.5,-947 447.5,-947\"/>\n<text text-anchor=\"start\" x=\"452.5\" y=\"-955\" font-family=\"Linux libertine\" font-size=\"10.00\">(1, 10, 1024), (1, 1, 1, 10) </text>\n<polygon fill=\"none\" stroke=\"black\" points=\"388.5,-926 388.5,-947 447.5,-947 447.5,-926 388.5,-926\"/>\n<text text-anchor=\"start\" x=\"393.5\" y=\"-934\" font-family=\"Linux libertine\" font-size=\"10.00\">output: </text>\n<polygon fill=\"none\" stroke=\"black\" points=\"447.5,-926 447.5,-947 632.5,-947 632.5,-926 447.5,-926\"/>\n<text text-anchor=\"start\" x=\"497.5\" y=\"-934\" font-family=\"Linux libertine\" font-size=\"10.00\">(1, 10, 1024) </text>\n</g>\n<!-- 6&#45;&gt;30 -->\n<g id=\"edge30\" class=\"edge\">\n<title>6&#45;&gt;30</title>\n<path fill=\"none\" stroke=\"black\" d=\"M471.13,-2329.95C432.19,-2319.83 392.22,-2306.97 377.5,-2294 341.67,-2262.44 333.5,-2243.74 333.5,-2196 333.5,-2196 333.5,-2196 333.5,-1102 333.5,-1057.63 324.93,-1038.76 352.5,-1004 363.12,-990.61 377.64,-980.32 393.02,-972.45\"/>\n<polygon fill=\"black\" stroke=\"black\" points=\"394.64,-975.56 402.15,-968.09 391.62,-969.24 394.64,-975.56\"/>\n</g>\n<!-- 31 -->\n<g id=\"node32\" class=\"node\">\n<title>31</title>\n<polygon fill=\"#c1ffc1\" stroke=\"transparent\" points=\"594,-890 285,-890 285,-848 594,-848 594,-890\"/>\n<polygon fill=\"none\" stroke=\"black\" points=\"285.5,-848 285.5,-890 350.5,-890 350.5,-848 285.5,-848\"/>\n<text text-anchor=\"start\" x=\"290.5\" y=\"-872\" font-family=\"Linux libertine\" font-size=\"10.00\">BertLayer</text>\n<text text-anchor=\"start\" x=\"296.5\" y=\"-861\" font-family=\"Linux libertine\" font-size=\"10.00\">depth:3</text>\n<polygon fill=\"none\" stroke=\"black\" points=\"350.5,-869 350.5,-890 409.5,-890 409.5,-869 350.5,-869\"/>\n<text text-anchor=\"start\" x=\"361.5\" y=\"-877\" font-family=\"Linux libertine\" font-size=\"10.00\">input:</text>\n<polygon fill=\"none\" stroke=\"black\" points=\"409.5,-869 409.5,-890 594.5,-890 594.5,-869 409.5,-869\"/>\n<text text-anchor=\"start\" x=\"414.5\" y=\"-877\" font-family=\"Linux libertine\" font-size=\"10.00\">(1, 10, 1024), (1, 1, 1, 10) </text>\n<polygon fill=\"none\" stroke=\"black\" points=\"350.5,-848 350.5,-869 409.5,-869 409.5,-848 350.5,-848\"/>\n<text text-anchor=\"start\" x=\"355.5\" y=\"-856\" font-family=\"Linux libertine\" font-size=\"10.00\">output: </text>\n<polygon fill=\"none\" stroke=\"black\" points=\"409.5,-848 409.5,-869 594.5,-869 594.5,-848 409.5,-848\"/>\n<text text-anchor=\"start\" x=\"459.5\" y=\"-856\" font-family=\"Linux libertine\" font-size=\"10.00\">(1, 10, 1024) </text>\n</g>\n<!-- 6&#45;&gt;31 -->\n<g id=\"edge31\" class=\"edge\">\n<title>6&#45;&gt;31</title>\n<path fill=\"none\" stroke=\"black\" d=\"M465.41,-2329.99C409.79,-2317.68 348.75,-2302.66 338.5,-2294 302.17,-2263.3 295.5,-2243.56 295.5,-2196 295.5,-2196 295.5,-2196 295.5,-1024 295.5,-979.63 286.93,-960.76 314.5,-926 325.12,-912.61 339.64,-902.32 355.02,-894.45\"/>\n<polygon fill=\"black\" stroke=\"black\" points=\"356.64,-897.56 364.15,-890.09 353.62,-891.24 356.64,-897.56\"/>\n</g>\n<!-- 32 -->\n<g id=\"node33\" class=\"node\">\n<title>32</title>\n<polygon fill=\"#c1ffc1\" stroke=\"transparent\" points=\"556,-812 247,-812 247,-770 556,-770 556,-812\"/>\n<polygon fill=\"none\" stroke=\"black\" points=\"247.5,-770 247.5,-812 312.5,-812 312.5,-770 247.5,-770\"/>\n<text text-anchor=\"start\" x=\"252.5\" y=\"-794\" font-family=\"Linux libertine\" font-size=\"10.00\">BertLayer</text>\n<text text-anchor=\"start\" x=\"258.5\" y=\"-783\" font-family=\"Linux libertine\" font-size=\"10.00\">depth:3</text>\n<polygon fill=\"none\" stroke=\"black\" points=\"312.5,-791 312.5,-812 371.5,-812 371.5,-791 312.5,-791\"/>\n<text text-anchor=\"start\" x=\"323.5\" y=\"-799\" font-family=\"Linux libertine\" font-size=\"10.00\">input:</text>\n<polygon fill=\"none\" stroke=\"black\" points=\"371.5,-791 371.5,-812 556.5,-812 556.5,-791 371.5,-791\"/>\n<text text-anchor=\"start\" x=\"376.5\" y=\"-799\" font-family=\"Linux libertine\" font-size=\"10.00\">(1, 10, 1024), (1, 1, 1, 10) </text>\n<polygon fill=\"none\" stroke=\"black\" points=\"312.5,-770 312.5,-791 371.5,-791 371.5,-770 312.5,-770\"/>\n<text text-anchor=\"start\" x=\"317.5\" y=\"-778\" font-family=\"Linux libertine\" font-size=\"10.00\">output: </text>\n<polygon fill=\"none\" stroke=\"black\" points=\"371.5,-770 371.5,-791 556.5,-791 556.5,-770 371.5,-770\"/>\n<text text-anchor=\"start\" x=\"421.5\" y=\"-778\" font-family=\"Linux libertine\" font-size=\"10.00\">(1, 10, 1024) </text>\n</g>\n<!-- 6&#45;&gt;32 -->\n<g id=\"edge32\" class=\"edge\">\n<title>6&#45;&gt;32</title>\n<path fill=\"none\" stroke=\"black\" d=\"M457.91,-2330.13C387.49,-2316.25 305.94,-2299.3 299.5,-2294 262.9,-2263.9 257.5,-2243.39 257.5,-2196 257.5,-2196 257.5,-2196 257.5,-946 257.5,-901.63 248.93,-882.76 276.5,-848 287.12,-834.61 301.64,-824.32 317.02,-816.45\"/>\n<polygon fill=\"black\" stroke=\"black\" points=\"318.64,-819.56 326.15,-812.09 315.62,-813.24 318.64,-819.56\"/>\n</g>\n<!-- 33 -->\n<g id=\"node34\" class=\"node\">\n<title>33</title>\n<polygon fill=\"#c1ffc1\" stroke=\"transparent\" points=\"518,-734 209,-734 209,-692 518,-692 518,-734\"/>\n<polygon fill=\"none\" stroke=\"black\" points=\"209.5,-692 209.5,-734 274.5,-734 274.5,-692 209.5,-692\"/>\n<text text-anchor=\"start\" x=\"214.5\" y=\"-716\" font-family=\"Linux libertine\" font-size=\"10.00\">BertLayer</text>\n<text text-anchor=\"start\" x=\"220.5\" y=\"-705\" font-family=\"Linux libertine\" font-size=\"10.00\">depth:3</text>\n<polygon fill=\"none\" stroke=\"black\" points=\"274.5,-713 274.5,-734 333.5,-734 333.5,-713 274.5,-713\"/>\n<text text-anchor=\"start\" x=\"285.5\" y=\"-721\" font-family=\"Linux libertine\" font-size=\"10.00\">input:</text>\n<polygon fill=\"none\" stroke=\"black\" points=\"333.5,-713 333.5,-734 518.5,-734 518.5,-713 333.5,-713\"/>\n<text text-anchor=\"start\" x=\"338.5\" y=\"-721\" font-family=\"Linux libertine\" font-size=\"10.00\">(1, 10, 1024), (1, 1, 1, 10) </text>\n<polygon fill=\"none\" stroke=\"black\" points=\"274.5,-692 274.5,-713 333.5,-713 333.5,-692 274.5,-692\"/>\n<text text-anchor=\"start\" x=\"279.5\" y=\"-700\" font-family=\"Linux libertine\" font-size=\"10.00\">output: </text>\n<polygon fill=\"none\" stroke=\"black\" points=\"333.5,-692 333.5,-713 518.5,-713 518.5,-692 333.5,-692\"/>\n<text text-anchor=\"start\" x=\"383.5\" y=\"-700\" font-family=\"Linux libertine\" font-size=\"10.00\">(1, 10, 1024) </text>\n</g>\n<!-- 6&#45;&gt;33 -->\n<g id=\"edge33\" class=\"edge\">\n<title>6&#45;&gt;33</title>\n<path fill=\"none\" stroke=\"black\" d=\"M457.64,-2331.78C372.54,-2316.68 265.47,-2297.18 261.5,-2294 224.51,-2264.38 219.5,-2243.39 219.5,-2196 219.5,-2196 219.5,-2196 219.5,-868 219.5,-823.63 210.93,-804.76 238.5,-770 249.12,-756.61 263.64,-746.32 279.02,-738.45\"/>\n<polygon fill=\"black\" stroke=\"black\" points=\"280.64,-741.56 288.15,-734.09 277.62,-735.24 280.64,-741.56\"/>\n</g>\n<!-- 34 -->\n<g id=\"node35\" class=\"node\">\n<title>34</title>\n<polygon fill=\"#c1ffc1\" stroke=\"transparent\" points=\"480,-656 171,-656 171,-614 480,-614 480,-656\"/>\n<polygon fill=\"none\" stroke=\"black\" points=\"171.5,-614 171.5,-656 236.5,-656 236.5,-614 171.5,-614\"/>\n<text text-anchor=\"start\" x=\"176.5\" y=\"-638\" font-family=\"Linux libertine\" font-size=\"10.00\">BertLayer</text>\n<text text-anchor=\"start\" x=\"182.5\" y=\"-627\" font-family=\"Linux libertine\" font-size=\"10.00\">depth:3</text>\n<polygon fill=\"none\" stroke=\"black\" points=\"236.5,-635 236.5,-656 295.5,-656 295.5,-635 236.5,-635\"/>\n<text text-anchor=\"start\" x=\"247.5\" y=\"-643\" font-family=\"Linux libertine\" font-size=\"10.00\">input:</text>\n<polygon fill=\"none\" stroke=\"black\" points=\"295.5,-635 295.5,-656 480.5,-656 480.5,-635 295.5,-635\"/>\n<text text-anchor=\"start\" x=\"300.5\" y=\"-643\" font-family=\"Linux libertine\" font-size=\"10.00\">(1, 10, 1024), (1, 1, 1, 10) </text>\n<polygon fill=\"none\" stroke=\"black\" points=\"236.5,-614 236.5,-635 295.5,-635 295.5,-614 236.5,-614\"/>\n<text text-anchor=\"start\" x=\"241.5\" y=\"-622\" font-family=\"Linux libertine\" font-size=\"10.00\">output: </text>\n<polygon fill=\"none\" stroke=\"black\" points=\"295.5,-614 295.5,-635 480.5,-635 480.5,-614 295.5,-614\"/>\n<text text-anchor=\"start\" x=\"345.5\" y=\"-622\" font-family=\"Linux libertine\" font-size=\"10.00\">(1, 10, 1024) </text>\n</g>\n<!-- 6&#45;&gt;34 -->\n<g id=\"edge34\" class=\"edge\">\n<title>6&#45;&gt;34</title>\n<path fill=\"none\" stroke=\"black\" d=\"M457.75,-2331.73C454.29,-2331.14 450.87,-2330.57 447.5,-2330 347.62,-2313.25 302.09,-2356.62 222.5,-2294 185.39,-2264.81 181.5,-2243.21 181.5,-2196 181.5,-2196 181.5,-2196 181.5,-790 181.5,-745.63 172.93,-726.76 200.5,-692 211.12,-678.61 225.64,-668.32 241.02,-660.45\"/>\n<polygon fill=\"black\" stroke=\"black\" points=\"242.64,-663.56 250.15,-656.09 239.62,-657.24 242.64,-663.56\"/>\n</g>\n<!-- 35 -->\n<g id=\"node36\" class=\"node\">\n<title>35</title>\n<polygon fill=\"#c1ffc1\" stroke=\"transparent\" points=\"442,-578 133,-578 133,-536 442,-536 442,-578\"/>\n<polygon fill=\"none\" stroke=\"black\" points=\"133.5,-536 133.5,-578 198.5,-578 198.5,-536 133.5,-536\"/>\n<text text-anchor=\"start\" x=\"138.5\" y=\"-560\" font-family=\"Linux libertine\" font-size=\"10.00\">BertLayer</text>\n<text text-anchor=\"start\" x=\"144.5\" y=\"-549\" font-family=\"Linux libertine\" font-size=\"10.00\">depth:3</text>\n<polygon fill=\"none\" stroke=\"black\" points=\"198.5,-557 198.5,-578 257.5,-578 257.5,-557 198.5,-557\"/>\n<text text-anchor=\"start\" x=\"209.5\" y=\"-565\" font-family=\"Linux libertine\" font-size=\"10.00\">input:</text>\n<polygon fill=\"none\" stroke=\"black\" points=\"257.5,-557 257.5,-578 442.5,-578 442.5,-557 257.5,-557\"/>\n<text text-anchor=\"start\" x=\"262.5\" y=\"-565\" font-family=\"Linux libertine\" font-size=\"10.00\">(1, 10, 1024), (1, 1, 1, 10) </text>\n<polygon fill=\"none\" stroke=\"black\" points=\"198.5,-536 198.5,-557 257.5,-557 257.5,-536 198.5,-536\"/>\n<text text-anchor=\"start\" x=\"203.5\" y=\"-544\" font-family=\"Linux libertine\" font-size=\"10.00\">output: </text>\n<polygon fill=\"none\" stroke=\"black\" points=\"257.5,-536 257.5,-557 442.5,-557 442.5,-536 257.5,-536\"/>\n<text text-anchor=\"start\" x=\"307.5\" y=\"-544\" font-family=\"Linux libertine\" font-size=\"10.00\">(1, 10, 1024) </text>\n</g>\n<!-- 6&#45;&gt;35 -->\n<g id=\"edge35\" class=\"edge\">\n<title>6&#45;&gt;35</title>\n<path fill=\"none\" stroke=\"black\" d=\"M457.77,-2331.63C454.3,-2331.07 450.87,-2330.53 447.5,-2330 389.44,-2320.92 232.24,-2329.62 185.5,-2294 147.81,-2265.28 143.5,-2243.39 143.5,-2196 143.5,-2196 143.5,-2196 143.5,-712 143.5,-667.63 134.93,-648.76 162.5,-614 173.12,-600.61 187.64,-590.32 203.02,-582.45\"/>\n<polygon fill=\"black\" stroke=\"black\" points=\"204.64,-585.56 212.15,-578.09 201.62,-579.24 204.64,-585.56\"/>\n</g>\n<!-- 36 -->\n<g id=\"node37\" class=\"node\">\n<title>36</title>\n<polygon fill=\"#c1ffc1\" stroke=\"transparent\" points=\"351,-500 42,-500 42,-458 351,-458 351,-500\"/>\n<polygon fill=\"none\" stroke=\"black\" points=\"42.5,-458 42.5,-500 107.5,-500 107.5,-458 42.5,-458\"/>\n<text text-anchor=\"start\" x=\"47.5\" y=\"-482\" font-family=\"Linux libertine\" font-size=\"10.00\">BertLayer</text>\n<text text-anchor=\"start\" x=\"53.5\" y=\"-471\" font-family=\"Linux libertine\" font-size=\"10.00\">depth:3</text>\n<polygon fill=\"none\" stroke=\"black\" points=\"107.5,-479 107.5,-500 166.5,-500 166.5,-479 107.5,-479\"/>\n<text text-anchor=\"start\" x=\"118.5\" y=\"-487\" font-family=\"Linux libertine\" font-size=\"10.00\">input:</text>\n<polygon fill=\"none\" stroke=\"black\" points=\"166.5,-479 166.5,-500 351.5,-500 351.5,-479 166.5,-479\"/>\n<text text-anchor=\"start\" x=\"171.5\" y=\"-487\" font-family=\"Linux libertine\" font-size=\"10.00\">(1, 10, 1024), (1, 1, 1, 10) </text>\n<polygon fill=\"none\" stroke=\"black\" points=\"107.5,-458 107.5,-479 166.5,-479 166.5,-458 107.5,-458\"/>\n<text text-anchor=\"start\" x=\"112.5\" y=\"-466\" font-family=\"Linux libertine\" font-size=\"10.00\">output: </text>\n<polygon fill=\"none\" stroke=\"black\" points=\"166.5,-458 166.5,-479 351.5,-479 351.5,-458 166.5,-458\"/>\n<text text-anchor=\"start\" x=\"216.5\" y=\"-466\" font-family=\"Linux libertine\" font-size=\"10.00\">(1, 10, 1024) </text>\n</g>\n<!-- 6&#45;&gt;36 -->\n<g id=\"edge36\" class=\"edge\">\n<title>6&#45;&gt;36</title>\n<path fill=\"none\" stroke=\"black\" d=\"M457.78,-2331.56C454.31,-2331.02 450.88,-2330.5 447.5,-2330 381.07,-2320.2 201.25,-2334.24 147.5,-2294 109.57,-2265.6 105.5,-2243.39 105.5,-2196 105.5,-2196 105.5,-2196 105.5,-634 105.5,-589.63 101.29,-573.81 124.5,-536 131.56,-524.49 141.91,-514.44 152.57,-506.15\"/>\n<polygon fill=\"black\" stroke=\"black\" points=\"154.74,-508.89 160.73,-500.15 150.6,-503.25 154.74,-508.89\"/>\n</g>\n<!-- 9 -->\n<g id=\"node10\" class=\"node\">\n<title>9</title>\n<polygon fill=\"aliceblue\" stroke=\"transparent\" points=\"435,-2606 204,-2606 204,-2564 435,-2564 435,-2606\"/>\n<polygon fill=\"none\" stroke=\"black\" points=\"204.5,-2564 204.5,-2606 257.5,-2606 257.5,-2564 204.5,-2564\"/>\n<text text-anchor=\"start\" x=\"221.5\" y=\"-2588\" font-family=\"Linux libertine\" font-size=\"10.00\">add</text>\n<text text-anchor=\"start\" x=\"209.5\" y=\"-2577\" font-family=\"Linux libertine\" font-size=\"10.00\">depth:3</text>\n<polygon fill=\"none\" stroke=\"black\" points=\"257.5,-2585 257.5,-2606 316.5,-2606 316.5,-2585 257.5,-2585\"/>\n<text text-anchor=\"start\" x=\"268.5\" y=\"-2593\" font-family=\"Linux libertine\" font-size=\"10.00\">input:</text>\n<polygon fill=\"none\" stroke=\"black\" points=\"316.5,-2585 316.5,-2606 435.5,-2606 435.5,-2585 316.5,-2585\"/>\n<text text-anchor=\"start\" x=\"321.5\" y=\"-2593\" font-family=\"Linux libertine\" font-size=\"10.00\">2 x (1, 10, 1024) </text>\n<polygon fill=\"none\" stroke=\"black\" points=\"257.5,-2564 257.5,-2585 316.5,-2585 316.5,-2564 257.5,-2564\"/>\n<text text-anchor=\"start\" x=\"262.5\" y=\"-2572\" font-family=\"Linux libertine\" font-size=\"10.00\">output: </text>\n<polygon fill=\"none\" stroke=\"black\" points=\"316.5,-2564 316.5,-2585 435.5,-2585 435.5,-2564 316.5,-2564\"/>\n<text text-anchor=\"start\" x=\"333.5\" y=\"-2572\" font-family=\"Linux libertine\" font-size=\"10.00\">(1, 10, 1024) </text>\n</g>\n<!-- 7&#45;&gt;9 -->\n<g id=\"edge7\" class=\"edge\">\n<title>7&#45;&gt;9</title>\n<path fill=\"none\" stroke=\"black\" d=\"M164.95,-2641.93C192.46,-2631.98 225.86,-2619.89 254.57,-2609.5\"/>\n<polygon fill=\"black\" stroke=\"black\" points=\"255.89,-2612.74 264.1,-2606.05 253.51,-2606.16 255.89,-2612.74\"/>\n</g>\n<!-- 8&#45;&gt;9 -->\n<g id=\"edge8\" class=\"edge\">\n<title>8&#45;&gt;9</title>\n<path fill=\"none\" stroke=\"black\" d=\"M339.26,-2641.63C336.43,-2633.65 333.12,-2624.33 330.02,-2615.62\"/>\n<polygon fill=\"black\" stroke=\"black\" points=\"333.31,-2614.41 326.66,-2606.16 326.71,-2616.75 333.31,-2614.41\"/>\n</g>\n<!-- 10 -->\n<g id=\"node11\" class=\"node\">\n<title>10</title>\n<polygon fill=\"aliceblue\" stroke=\"transparent\" points=\"430,-2528 223,-2528 223,-2486 430,-2486 430,-2528\"/>\n<polygon fill=\"none\" stroke=\"black\" points=\"223.5,-2486 223.5,-2528 276.5,-2528 276.5,-2486 223.5,-2486\"/>\n<text text-anchor=\"start\" x=\"237.5\" y=\"-2510\" font-family=\"Linux libertine\" font-size=\"10.00\">add_</text>\n<text text-anchor=\"start\" x=\"228.5\" y=\"-2499\" font-family=\"Linux libertine\" font-size=\"10.00\">depth:3</text>\n<polygon fill=\"none\" stroke=\"black\" points=\"276.5,-2507 276.5,-2528 335.5,-2528 335.5,-2507 276.5,-2507\"/>\n<text text-anchor=\"start\" x=\"287.5\" y=\"-2515\" font-family=\"Linux libertine\" font-size=\"10.00\">input:</text>\n<polygon fill=\"none\" stroke=\"black\" points=\"335.5,-2507 335.5,-2528 430.5,-2528 430.5,-2507 335.5,-2507\"/>\n<text text-anchor=\"start\" x=\"340.5\" y=\"-2515\" font-family=\"Linux libertine\" font-size=\"10.00\">(1, 10, 1024) </text>\n<polygon fill=\"none\" stroke=\"black\" points=\"276.5,-2486 276.5,-2507 335.5,-2507 335.5,-2486 276.5,-2486\"/>\n<text text-anchor=\"start\" x=\"281.5\" y=\"-2494\" font-family=\"Linux libertine\" font-size=\"10.00\">output: </text>\n<polygon fill=\"none\" stroke=\"black\" points=\"335.5,-2486 335.5,-2507 430.5,-2507 430.5,-2486 335.5,-2486\"/>\n<text text-anchor=\"start\" x=\"340.5\" y=\"-2494\" font-family=\"Linux libertine\" font-size=\"10.00\">(1, 10, 1024) </text>\n</g>\n<!-- 9&#45;&gt;10 -->\n<g id=\"edge9\" class=\"edge\">\n<title>9&#45;&gt;10</title>\n<path fill=\"none\" stroke=\"black\" d=\"M321.38,-2563.63C322.1,-2555.82 322.93,-2546.73 323.72,-2538.18\"/>\n<polygon fill=\"black\" stroke=\"black\" points=\"327.21,-2538.44 324.64,-2528.16 320.24,-2537.8 327.21,-2538.44\"/>\n</g>\n<!-- 11 -->\n<g id=\"node12\" class=\"node\">\n<title>11</title>\n<polygon fill=\"#c1ffc1\" stroke=\"transparent\" points=\"440,-2450 221,-2450 221,-2408 440,-2408 440,-2450\"/>\n<polygon fill=\"none\" stroke=\"black\" points=\"221.5,-2408 221.5,-2450 286.5,-2450 286.5,-2408 221.5,-2408\"/>\n<text text-anchor=\"start\" x=\"226.5\" y=\"-2432\" font-family=\"Linux libertine\" font-size=\"10.00\">LayerNorm</text>\n<text text-anchor=\"start\" x=\"232.5\" y=\"-2421\" font-family=\"Linux libertine\" font-size=\"10.00\">depth:3</text>\n<polygon fill=\"none\" stroke=\"black\" points=\"286.5,-2429 286.5,-2450 345.5,-2450 345.5,-2429 286.5,-2429\"/>\n<text text-anchor=\"start\" x=\"297.5\" y=\"-2437\" font-family=\"Linux libertine\" font-size=\"10.00\">input:</text>\n<polygon fill=\"none\" stroke=\"black\" points=\"345.5,-2429 345.5,-2450 440.5,-2450 440.5,-2429 345.5,-2429\"/>\n<text text-anchor=\"start\" x=\"350.5\" y=\"-2437\" font-family=\"Linux libertine\" font-size=\"10.00\">(1, 10, 1024) </text>\n<polygon fill=\"none\" stroke=\"black\" points=\"286.5,-2408 286.5,-2429 345.5,-2429 345.5,-2408 286.5,-2408\"/>\n<text text-anchor=\"start\" x=\"291.5\" y=\"-2416\" font-family=\"Linux libertine\" font-size=\"10.00\">output: </text>\n<polygon fill=\"none\" stroke=\"black\" points=\"345.5,-2408 345.5,-2429 440.5,-2429 440.5,-2408 345.5,-2408\"/>\n<text text-anchor=\"start\" x=\"350.5\" y=\"-2416\" font-family=\"Linux libertine\" font-size=\"10.00\">(1, 10, 1024) </text>\n</g>\n<!-- 10&#45;&gt;11 -->\n<g id=\"edge10\" class=\"edge\">\n<title>10&#45;&gt;11</title>\n<path fill=\"none\" stroke=\"black\" d=\"M327.57,-2485.63C327.98,-2477.82 328.46,-2468.73 328.91,-2460.18\"/>\n<polygon fill=\"black\" stroke=\"black\" points=\"332.41,-2460.33 329.44,-2450.16 325.42,-2459.96 332.41,-2460.33\"/>\n</g>\n<!-- 12 -->\n<g id=\"node13\" class=\"node\">\n<title>12</title>\n<polygon fill=\"#c1ffc1\" stroke=\"transparent\" points=\"438,-2372 231,-2372 231,-2330 438,-2330 438,-2372\"/>\n<polygon fill=\"none\" stroke=\"black\" points=\"231.5,-2330 231.5,-2372 284.5,-2372 284.5,-2330 231.5,-2330\"/>\n<text text-anchor=\"start\" x=\"236.5\" y=\"-2354\" font-family=\"Linux libertine\" font-size=\"10.00\">Dropout</text>\n<text text-anchor=\"start\" x=\"236.5\" y=\"-2343\" font-family=\"Linux libertine\" font-size=\"10.00\">depth:3</text>\n<polygon fill=\"none\" stroke=\"black\" points=\"284.5,-2351 284.5,-2372 343.5,-2372 343.5,-2351 284.5,-2351\"/>\n<text text-anchor=\"start\" x=\"295.5\" y=\"-2359\" font-family=\"Linux libertine\" font-size=\"10.00\">input:</text>\n<polygon fill=\"none\" stroke=\"black\" points=\"343.5,-2351 343.5,-2372 438.5,-2372 438.5,-2351 343.5,-2351\"/>\n<text text-anchor=\"start\" x=\"348.5\" y=\"-2359\" font-family=\"Linux libertine\" font-size=\"10.00\">(1, 10, 1024) </text>\n<polygon fill=\"none\" stroke=\"black\" points=\"284.5,-2330 284.5,-2351 343.5,-2351 343.5,-2330 284.5,-2330\"/>\n<text text-anchor=\"start\" x=\"289.5\" y=\"-2338\" font-family=\"Linux libertine\" font-size=\"10.00\">output: </text>\n<polygon fill=\"none\" stroke=\"black\" points=\"343.5,-2330 343.5,-2351 438.5,-2351 438.5,-2330 343.5,-2330\"/>\n<text text-anchor=\"start\" x=\"348.5\" y=\"-2338\" font-family=\"Linux libertine\" font-size=\"10.00\">(1, 10, 1024) </text>\n</g>\n<!-- 11&#45;&gt;12 -->\n<g id=\"edge11\" class=\"edge\">\n<title>11&#45;&gt;12</title>\n<path fill=\"none\" stroke=\"black\" d=\"M331.57,-2407.63C331.98,-2399.82 332.46,-2390.73 332.91,-2382.18\"/>\n<polygon fill=\"black\" stroke=\"black\" points=\"336.41,-2382.33 333.44,-2372.16 329.42,-2381.96 336.41,-2382.33\"/>\n</g>\n<!-- 12&#45;&gt;13 -->\n<g id=\"edge12\" class=\"edge\">\n<title>12&#45;&gt;13</title>\n<path fill=\"none\" stroke=\"black\" d=\"M438.18,-2331.53C442,-2330.99 445.78,-2330.48 449.5,-2330 622.63,-2307.8 821.96,-2292.5 958.68,-2283.57\"/>\n<polygon fill=\"black\" stroke=\"black\" points=\"959.08,-2287.05 968.83,-2282.91 958.62,-2280.07 959.08,-2287.05\"/>\n</g>\n<!-- 13&#45;&gt;14 -->\n<g id=\"edge37\" class=\"edge\">\n<title>13&#45;&gt;14</title>\n<path fill=\"none\" stroke=\"black\" d=\"M1113.32,-2251.63C1109.28,-2243.56 1104.56,-2234.12 1100.17,-2225.34\"/>\n<polygon fill=\"black\" stroke=\"black\" points=\"1103.18,-2223.54 1095.58,-2216.16 1096.92,-2226.67 1103.18,-2223.54\"/>\n</g>\n<!-- 14&#45;&gt;15 -->\n<g id=\"edge38\" class=\"edge\">\n<title>14&#45;&gt;15</title>\n<path fill=\"none\" stroke=\"black\" d=\"M1075.32,-2173.63C1071.28,-2165.56 1066.56,-2156.12 1062.17,-2147.34\"/>\n<polygon fill=\"black\" stroke=\"black\" points=\"1065.18,-2145.54 1057.58,-2138.16 1058.92,-2148.67 1065.18,-2145.54\"/>\n</g>\n<!-- 15&#45;&gt;16 -->\n<g id=\"edge39\" class=\"edge\">\n<title>15&#45;&gt;16</title>\n<path fill=\"none\" stroke=\"black\" d=\"M1037.32,-2095.63C1033.28,-2087.56 1028.56,-2078.12 1024.17,-2069.34\"/>\n<polygon fill=\"black\" stroke=\"black\" points=\"1027.18,-2067.54 1019.58,-2060.16 1020.92,-2070.67 1027.18,-2067.54\"/>\n</g>\n<!-- 16&#45;&gt;17 -->\n<g id=\"edge40\" class=\"edge\">\n<title>16&#45;&gt;17</title>\n<path fill=\"none\" stroke=\"black\" d=\"M999.32,-2017.63C995.28,-2009.56 990.56,-2000.12 986.17,-1991.34\"/>\n<polygon fill=\"black\" stroke=\"black\" points=\"989.18,-1989.54 981.58,-1982.16 982.92,-1992.67 989.18,-1989.54\"/>\n</g>\n<!-- 17&#45;&gt;18 -->\n<g id=\"edge41\" class=\"edge\">\n<title>17&#45;&gt;18</title>\n<path fill=\"none\" stroke=\"black\" d=\"M961.32,-1939.63C957.28,-1931.56 952.56,-1922.12 948.17,-1913.34\"/>\n<polygon fill=\"black\" stroke=\"black\" points=\"951.18,-1911.54 943.58,-1904.16 944.92,-1914.67 951.18,-1911.54\"/>\n</g>\n<!-- 18&#45;&gt;19 -->\n<g id=\"edge42\" class=\"edge\">\n<title>18&#45;&gt;19</title>\n<path fill=\"none\" stroke=\"black\" d=\"M923.32,-1861.63C919.28,-1853.56 914.56,-1844.12 910.17,-1835.34\"/>\n<polygon fill=\"black\" stroke=\"black\" points=\"913.18,-1833.54 905.58,-1826.16 906.92,-1836.67 913.18,-1833.54\"/>\n</g>\n<!-- 19&#45;&gt;20 -->\n<g id=\"edge43\" class=\"edge\">\n<title>19&#45;&gt;20</title>\n<path fill=\"none\" stroke=\"black\" d=\"M885.32,-1783.63C881.28,-1775.56 876.56,-1766.12 872.17,-1757.34\"/>\n<polygon fill=\"black\" stroke=\"black\" points=\"875.18,-1755.54 867.58,-1748.16 868.92,-1758.67 875.18,-1755.54\"/>\n</g>\n<!-- 20&#45;&gt;21 -->\n<g id=\"edge44\" class=\"edge\">\n<title>20&#45;&gt;21</title>\n<path fill=\"none\" stroke=\"black\" d=\"M847.32,-1705.63C843.28,-1697.56 838.56,-1688.12 834.17,-1679.34\"/>\n<polygon fill=\"black\" stroke=\"black\" points=\"837.18,-1677.54 829.58,-1670.16 830.92,-1680.67 837.18,-1677.54\"/>\n</g>\n<!-- 21&#45;&gt;22 -->\n<g id=\"edge45\" class=\"edge\">\n<title>21&#45;&gt;22</title>\n<path fill=\"none\" stroke=\"black\" d=\"M809.32,-1627.63C805.28,-1619.56 800.56,-1610.12 796.17,-1601.34\"/>\n<polygon fill=\"black\" stroke=\"black\" points=\"799.18,-1599.54 791.58,-1592.16 792.92,-1602.67 799.18,-1599.54\"/>\n</g>\n<!-- 22&#45;&gt;23 -->\n<g id=\"edge46\" class=\"edge\">\n<title>22&#45;&gt;23</title>\n<path fill=\"none\" stroke=\"black\" d=\"M771.32,-1549.63C767.28,-1541.56 762.56,-1532.12 758.17,-1523.34\"/>\n<polygon fill=\"black\" stroke=\"black\" points=\"761.18,-1521.54 753.58,-1514.16 754.92,-1524.67 761.18,-1521.54\"/>\n</g>\n<!-- 23&#45;&gt;24 -->\n<g id=\"edge47\" class=\"edge\">\n<title>23&#45;&gt;24</title>\n<path fill=\"none\" stroke=\"black\" d=\"M733.32,-1471.63C729.28,-1463.56 724.56,-1454.12 720.17,-1445.34\"/>\n<polygon fill=\"black\" stroke=\"black\" points=\"723.18,-1443.54 715.58,-1436.16 716.92,-1446.67 723.18,-1443.54\"/>\n</g>\n<!-- 24&#45;&gt;25 -->\n<g id=\"edge48\" class=\"edge\">\n<title>24&#45;&gt;25</title>\n<path fill=\"none\" stroke=\"black\" d=\"M695.32,-1393.63C691.28,-1385.56 686.56,-1376.12 682.17,-1367.34\"/>\n<polygon fill=\"black\" stroke=\"black\" points=\"685.18,-1365.54 677.58,-1358.16 678.92,-1368.67 685.18,-1365.54\"/>\n</g>\n<!-- 25&#45;&gt;26 -->\n<g id=\"edge49\" class=\"edge\">\n<title>25&#45;&gt;26</title>\n<path fill=\"none\" stroke=\"black\" d=\"M657.32,-1315.63C653.28,-1307.56 648.56,-1298.12 644.17,-1289.34\"/>\n<polygon fill=\"black\" stroke=\"black\" points=\"647.18,-1287.54 639.58,-1280.16 640.92,-1290.67 647.18,-1287.54\"/>\n</g>\n<!-- 26&#45;&gt;27 -->\n<g id=\"edge50\" class=\"edge\">\n<title>26&#45;&gt;27</title>\n<path fill=\"none\" stroke=\"black\" d=\"M619.32,-1237.63C615.28,-1229.56 610.56,-1220.12 606.17,-1211.34\"/>\n<polygon fill=\"black\" stroke=\"black\" points=\"609.18,-1209.54 601.58,-1202.16 602.92,-1212.67 609.18,-1209.54\"/>\n</g>\n<!-- 27&#45;&gt;28 -->\n<g id=\"edge51\" class=\"edge\">\n<title>27&#45;&gt;28</title>\n<path fill=\"none\" stroke=\"black\" d=\"M581.32,-1159.63C577.28,-1151.56 572.56,-1142.12 568.17,-1133.34\"/>\n<polygon fill=\"black\" stroke=\"black\" points=\"571.18,-1131.54 563.58,-1124.16 564.92,-1134.67 571.18,-1131.54\"/>\n</g>\n<!-- 28&#45;&gt;29 -->\n<g id=\"edge52\" class=\"edge\">\n<title>28&#45;&gt;29</title>\n<path fill=\"none\" stroke=\"black\" d=\"M543.32,-1081.63C539.28,-1073.56 534.56,-1064.12 530.17,-1055.34\"/>\n<polygon fill=\"black\" stroke=\"black\" points=\"533.18,-1053.54 525.58,-1046.16 526.92,-1056.67 533.18,-1053.54\"/>\n</g>\n<!-- 29&#45;&gt;30 -->\n<g id=\"edge53\" class=\"edge\">\n<title>29&#45;&gt;30</title>\n<path fill=\"none\" stroke=\"black\" d=\"M505.32,-1003.63C501.28,-995.56 496.56,-986.12 492.17,-977.34\"/>\n<polygon fill=\"black\" stroke=\"black\" points=\"495.18,-975.54 487.58,-968.16 488.92,-978.67 495.18,-975.54\"/>\n</g>\n<!-- 30&#45;&gt;31 -->\n<g id=\"edge54\" class=\"edge\">\n<title>30&#45;&gt;31</title>\n<path fill=\"none\" stroke=\"black\" d=\"M467.32,-925.63C463.28,-917.56 458.56,-908.12 454.17,-899.34\"/>\n<polygon fill=\"black\" stroke=\"black\" points=\"457.18,-897.54 449.58,-890.16 450.92,-900.67 457.18,-897.54\"/>\n</g>\n<!-- 31&#45;&gt;32 -->\n<g id=\"edge55\" class=\"edge\">\n<title>31&#45;&gt;32</title>\n<path fill=\"none\" stroke=\"black\" d=\"M429.32,-847.63C425.28,-839.56 420.56,-830.12 416.17,-821.34\"/>\n<polygon fill=\"black\" stroke=\"black\" points=\"419.18,-819.54 411.58,-812.16 412.92,-822.67 419.18,-819.54\"/>\n</g>\n<!-- 32&#45;&gt;33 -->\n<g id=\"edge56\" class=\"edge\">\n<title>32&#45;&gt;33</title>\n<path fill=\"none\" stroke=\"black\" d=\"M391.32,-769.63C387.28,-761.56 382.56,-752.12 378.17,-743.34\"/>\n<polygon fill=\"black\" stroke=\"black\" points=\"381.18,-741.54 373.58,-734.16 374.92,-744.67 381.18,-741.54\"/>\n</g>\n<!-- 33&#45;&gt;34 -->\n<g id=\"edge57\" class=\"edge\">\n<title>33&#45;&gt;34</title>\n<path fill=\"none\" stroke=\"black\" d=\"M353.32,-691.63C349.28,-683.56 344.56,-674.12 340.17,-665.34\"/>\n<polygon fill=\"black\" stroke=\"black\" points=\"343.18,-663.54 335.58,-656.16 336.92,-666.67 343.18,-663.54\"/>\n</g>\n<!-- 34&#45;&gt;35 -->\n<g id=\"edge58\" class=\"edge\">\n<title>34&#45;&gt;35</title>\n<path fill=\"none\" stroke=\"black\" d=\"M315.32,-613.63C311.28,-605.56 306.56,-596.12 302.17,-587.34\"/>\n<polygon fill=\"black\" stroke=\"black\" points=\"305.18,-585.54 297.58,-578.16 298.92,-588.67 305.18,-585.54\"/>\n</g>\n<!-- 35&#45;&gt;36 -->\n<g id=\"edge59\" class=\"edge\">\n<title>35&#45;&gt;36</title>\n<path fill=\"none\" stroke=\"black\" d=\"M263.11,-535.63C252.52,-526.79 239.97,-516.3 228.63,-506.84\"/>\n<polygon fill=\"black\" stroke=\"black\" points=\"230.56,-503.88 220.64,-500.16 226.07,-509.26 230.56,-503.88\"/>\n</g>\n<!-- 37 -->\n<g id=\"node38\" class=\"node\">\n<title>37</title>\n<polygon fill=\"aliceblue\" stroke=\"transparent\" points=\"312,-422 81,-422 81,-380 312,-380 312,-422\"/>\n<polygon fill=\"none\" stroke=\"black\" points=\"81.5,-380 81.5,-422 158.5,-422 158.5,-380 81.5,-380\"/>\n<text text-anchor=\"start\" x=\"86.5\" y=\"-404\" font-family=\"Linux libertine\" font-size=\"10.00\">__getitem__</text>\n<text text-anchor=\"start\" x=\"98.5\" y=\"-393\" font-family=\"Linux libertine\" font-size=\"10.00\">depth:3</text>\n<polygon fill=\"none\" stroke=\"black\" points=\"158.5,-401 158.5,-422 217.5,-422 217.5,-401 158.5,-401\"/>\n<text text-anchor=\"start\" x=\"169.5\" y=\"-409\" font-family=\"Linux libertine\" font-size=\"10.00\">input:</text>\n<polygon fill=\"none\" stroke=\"black\" points=\"217.5,-401 217.5,-422 312.5,-422 312.5,-401 217.5,-401\"/>\n<text text-anchor=\"start\" x=\"222.5\" y=\"-409\" font-family=\"Linux libertine\" font-size=\"10.00\">(1, 10, 1024) </text>\n<polygon fill=\"none\" stroke=\"black\" points=\"158.5,-380 158.5,-401 217.5,-401 217.5,-380 158.5,-380\"/>\n<text text-anchor=\"start\" x=\"163.5\" y=\"-388\" font-family=\"Linux libertine\" font-size=\"10.00\">output: </text>\n<polygon fill=\"none\" stroke=\"black\" points=\"217.5,-380 217.5,-401 312.5,-401 312.5,-380 217.5,-380\"/>\n<text text-anchor=\"start\" x=\"234.5\" y=\"-388\" font-family=\"Linux libertine\" font-size=\"10.00\">(1, 1024) </text>\n</g>\n<!-- 36&#45;&gt;37 -->\n<g id=\"edge60\" class=\"edge\">\n<title>36&#45;&gt;37</title>\n<path fill=\"none\" stroke=\"black\" d=\"M196.5,-457.63C196.5,-449.82 196.5,-440.73 196.5,-432.18\"/>\n<polygon fill=\"black\" stroke=\"black\" points=\"200,-432.16 196.5,-422.16 193,-432.16 200,-432.16\"/>\n</g>\n<!-- 38 -->\n<g id=\"node39\" class=\"node\">\n<title>38</title>\n<polygon fill=\"#c1ffc1\" stroke=\"transparent\" points=\"288,-344 105,-344 105,-302 288,-302 288,-344\"/>\n<polygon fill=\"none\" stroke=\"black\" points=\"105.5,-302 105.5,-344 158.5,-344 158.5,-302 105.5,-302\"/>\n<text text-anchor=\"start\" x=\"113.5\" y=\"-326\" font-family=\"Linux libertine\" font-size=\"10.00\">Linear</text>\n<text text-anchor=\"start\" x=\"110.5\" y=\"-315\" font-family=\"Linux libertine\" font-size=\"10.00\">depth:3</text>\n<polygon fill=\"none\" stroke=\"black\" points=\"158.5,-323 158.5,-344 217.5,-344 217.5,-323 158.5,-323\"/>\n<text text-anchor=\"start\" x=\"169.5\" y=\"-331\" font-family=\"Linux libertine\" font-size=\"10.00\">input:</text>\n<polygon fill=\"none\" stroke=\"black\" points=\"217.5,-323 217.5,-344 288.5,-344 288.5,-323 217.5,-323\"/>\n<text text-anchor=\"start\" x=\"222.5\" y=\"-331\" font-family=\"Linux libertine\" font-size=\"10.00\">(1, 1024) </text>\n<polygon fill=\"none\" stroke=\"black\" points=\"158.5,-302 158.5,-323 217.5,-323 217.5,-302 158.5,-302\"/>\n<text text-anchor=\"start\" x=\"163.5\" y=\"-310\" font-family=\"Linux libertine\" font-size=\"10.00\">output: </text>\n<polygon fill=\"none\" stroke=\"black\" points=\"217.5,-302 217.5,-323 288.5,-323 288.5,-302 217.5,-302\"/>\n<text text-anchor=\"start\" x=\"222.5\" y=\"-310\" font-family=\"Linux libertine\" font-size=\"10.00\">(1, 1024) </text>\n</g>\n<!-- 37&#45;&gt;38 -->\n<g id=\"edge61\" class=\"edge\">\n<title>37&#45;&gt;38</title>\n<path fill=\"none\" stroke=\"black\" d=\"M196.5,-379.63C196.5,-371.82 196.5,-362.73 196.5,-354.18\"/>\n<polygon fill=\"black\" stroke=\"black\" points=\"200,-354.16 196.5,-344.16 193,-354.16 200,-354.16\"/>\n</g>\n<!-- 39 -->\n<g id=\"node40\" class=\"node\">\n<title>39</title>\n<polygon fill=\"#c1ffc1\" stroke=\"transparent\" points=\"288,-266 105,-266 105,-224 288,-224 288,-266\"/>\n<polygon fill=\"none\" stroke=\"black\" points=\"105.5,-224 105.5,-266 158.5,-266 158.5,-224 105.5,-224\"/>\n<text text-anchor=\"start\" x=\"119.5\" y=\"-248\" font-family=\"Linux libertine\" font-size=\"10.00\">Tanh</text>\n<text text-anchor=\"start\" x=\"110.5\" y=\"-237\" font-family=\"Linux libertine\" font-size=\"10.00\">depth:3</text>\n<polygon fill=\"none\" stroke=\"black\" points=\"158.5,-245 158.5,-266 217.5,-266 217.5,-245 158.5,-245\"/>\n<text text-anchor=\"start\" x=\"169.5\" y=\"-253\" font-family=\"Linux libertine\" font-size=\"10.00\">input:</text>\n<polygon fill=\"none\" stroke=\"black\" points=\"217.5,-245 217.5,-266 288.5,-266 288.5,-245 217.5,-245\"/>\n<text text-anchor=\"start\" x=\"222.5\" y=\"-253\" font-family=\"Linux libertine\" font-size=\"10.00\">(1, 1024) </text>\n<polygon fill=\"none\" stroke=\"black\" points=\"158.5,-224 158.5,-245 217.5,-245 217.5,-224 158.5,-224\"/>\n<text text-anchor=\"start\" x=\"163.5\" y=\"-232\" font-family=\"Linux libertine\" font-size=\"10.00\">output: </text>\n<polygon fill=\"none\" stroke=\"black\" points=\"217.5,-224 217.5,-245 288.5,-245 288.5,-224 217.5,-224\"/>\n<text text-anchor=\"start\" x=\"222.5\" y=\"-232\" font-family=\"Linux libertine\" font-size=\"10.00\">(1, 1024) </text>\n</g>\n<!-- 38&#45;&gt;39 -->\n<g id=\"edge62\" class=\"edge\">\n<title>38&#45;&gt;39</title>\n<path fill=\"none\" stroke=\"black\" d=\"M196.5,-301.63C196.5,-293.82 196.5,-284.73 196.5,-276.18\"/>\n<polygon fill=\"black\" stroke=\"black\" points=\"200,-276.16 196.5,-266.16 193,-276.16 200,-276.16\"/>\n</g>\n<!-- 40 -->\n<g id=\"node41\" class=\"node\">\n<title>40</title>\n<polygon fill=\"#c1ffc1\" stroke=\"transparent\" points=\"288,-188 105,-188 105,-146 288,-146 288,-188\"/>\n<polygon fill=\"none\" stroke=\"black\" points=\"105.5,-146 105.5,-188 158.5,-188 158.5,-146 105.5,-146\"/>\n<text text-anchor=\"start\" x=\"110.5\" y=\"-170\" font-family=\"Linux libertine\" font-size=\"10.00\">Dropout</text>\n<text text-anchor=\"start\" x=\"110.5\" y=\"-159\" font-family=\"Linux libertine\" font-size=\"10.00\">depth:1</text>\n<polygon fill=\"none\" stroke=\"black\" points=\"158.5,-167 158.5,-188 217.5,-188 217.5,-167 158.5,-167\"/>\n<text text-anchor=\"start\" x=\"169.5\" y=\"-175\" font-family=\"Linux libertine\" font-size=\"10.00\">input:</text>\n<polygon fill=\"none\" stroke=\"black\" points=\"217.5,-167 217.5,-188 288.5,-188 288.5,-167 217.5,-167\"/>\n<text text-anchor=\"start\" x=\"222.5\" y=\"-175\" font-family=\"Linux libertine\" font-size=\"10.00\">(1, 1024) </text>\n<polygon fill=\"none\" stroke=\"black\" points=\"158.5,-146 158.5,-167 217.5,-167 217.5,-146 158.5,-146\"/>\n<text text-anchor=\"start\" x=\"163.5\" y=\"-154\" font-family=\"Linux libertine\" font-size=\"10.00\">output: </text>\n<polygon fill=\"none\" stroke=\"black\" points=\"217.5,-146 217.5,-167 288.5,-167 288.5,-146 217.5,-146\"/>\n<text text-anchor=\"start\" x=\"222.5\" y=\"-154\" font-family=\"Linux libertine\" font-size=\"10.00\">(1, 1024) </text>\n</g>\n<!-- 39&#45;&gt;40 -->\n<g id=\"edge63\" class=\"edge\">\n<title>39&#45;&gt;40</title>\n<path fill=\"none\" stroke=\"black\" d=\"M196.5,-223.63C196.5,-215.82 196.5,-206.73 196.5,-198.18\"/>\n<polygon fill=\"black\" stroke=\"black\" points=\"200,-198.16 196.5,-188.16 193,-198.16 200,-198.16\"/>\n</g>\n<!-- 41 -->\n<g id=\"node42\" class=\"node\">\n<title>41</title>\n<polygon fill=\"#c1ffc1\" stroke=\"transparent\" points=\"288,-110 105,-110 105,-68 288,-68 288,-110\"/>\n<polygon fill=\"none\" stroke=\"black\" points=\"105.5,-68 105.5,-110 158.5,-110 158.5,-68 105.5,-68\"/>\n<text text-anchor=\"start\" x=\"113.5\" y=\"-92\" font-family=\"Linux libertine\" font-size=\"10.00\">Linear</text>\n<text text-anchor=\"start\" x=\"110.5\" y=\"-81\" font-family=\"Linux libertine\" font-size=\"10.00\">depth:1</text>\n<polygon fill=\"none\" stroke=\"black\" points=\"158.5,-89 158.5,-110 217.5,-110 217.5,-89 158.5,-89\"/>\n<text text-anchor=\"start\" x=\"169.5\" y=\"-97\" font-family=\"Linux libertine\" font-size=\"10.00\">input:</text>\n<polygon fill=\"none\" stroke=\"black\" points=\"217.5,-89 217.5,-110 288.5,-110 288.5,-89 217.5,-89\"/>\n<text text-anchor=\"start\" x=\"222.5\" y=\"-97\" font-family=\"Linux libertine\" font-size=\"10.00\">(1, 1024) </text>\n<polygon fill=\"none\" stroke=\"black\" points=\"158.5,-68 158.5,-89 217.5,-89 217.5,-68 158.5,-68\"/>\n<text text-anchor=\"start\" x=\"163.5\" y=\"-76\" font-family=\"Linux libertine\" font-size=\"10.00\">output: </text>\n<polygon fill=\"none\" stroke=\"black\" points=\"217.5,-68 217.5,-89 288.5,-89 288.5,-68 217.5,-68\"/>\n<text text-anchor=\"start\" x=\"231.5\" y=\"-76\" font-family=\"Linux libertine\" font-size=\"10.00\">(1, 2) </text>\n</g>\n<!-- 40&#45;&gt;41 -->\n<g id=\"edge64\" class=\"edge\">\n<title>40&#45;&gt;41</title>\n<path fill=\"none\" stroke=\"black\" d=\"M196.5,-145.63C196.5,-137.82 196.5,-128.73 196.5,-120.18\"/>\n<polygon fill=\"black\" stroke=\"black\" points=\"200,-120.16 196.5,-110.16 193,-120.16 200,-120.16\"/>\n</g>\n<!-- 42 -->\n<g id=\"node43\" class=\"node\">\n<title>42</title>\n<polygon fill=\"lightyellow\" stroke=\"transparent\" points=\"264.5,-32 128.5,-32 128.5,0 264.5,0 264.5,-32\"/>\n<polygon fill=\"none\" stroke=\"black\" points=\"128.5,0 128.5,-32 217.5,-32 217.5,0 128.5,0\"/>\n<text text-anchor=\"start\" x=\"133.5\" y=\"-19\" font-family=\"Linux libertine\" font-size=\"10.00\">output&#45;tensor</text>\n<text text-anchor=\"start\" x=\"151.5\" y=\"-8\" font-family=\"Linux libertine\" font-size=\"10.00\">depth:0</text>\n<polygon fill=\"none\" stroke=\"black\" points=\"217.5,0 217.5,-32 264.5,-32 264.5,0 217.5,0\"/>\n<text text-anchor=\"start\" x=\"222.5\" y=\"-13.5\" font-family=\"Linux libertine\" font-size=\"10.00\">(1, 2)</text>\n</g>\n<!-- 41&#45;&gt;42 -->\n<g id=\"edge65\" class=\"edge\">\n<title>41&#45;&gt;42</title>\n<path fill=\"none\" stroke=\"black\" d=\"M196.5,-67.84C196.5,-59.89 196.5,-50.66 196.5,-42.26\"/>\n<polygon fill=\"black\" stroke=\"black\" points=\"200,-42.24 196.5,-32.24 193,-42.24 200,-42.24\"/>\n</g>\n</g>\n</svg>\n"
          },
          "metadata": {},
          "execution_count": 32
        }
      ]
    },
    {
      "cell_type": "markdown",
      "source": [
        "### DEFINING METRICS"
      ],
      "metadata": {
        "id": "w_YDh4OLu32U"
      }
    },
    {
      "cell_type": "markdown",
      "source": [
        "If we use the Trainer API to fine tune our model, we must define the metric function and pass it as one of the trainer argument; the trainer does not compute the metrics in automatic. Given the lack of class imbalance and cost imbalance, we will deploy Accuracy as evaluation strategy"
      ],
      "metadata": {
        "id": "THMqOB0UvWNf"
      }
    },
    {
      "cell_type": "code",
      "source": [
        "import numpy as np \n",
        "import evaluate "
      ],
      "metadata": {
        "id": "DFwCUFJcu7Eh"
      },
      "execution_count": 33,
      "outputs": []
    },
    {
      "cell_type": "code",
      "source": [
        "# we create an object called metrics; if the method \"compute\" is called and we pass in a list of predictions and true labels, it automatically compute them\n",
        "metrics = evaluate.load(\"accuracy\")"
      ],
      "metadata": {
        "id": "WhpIMMS7vy6F"
      },
      "execution_count": 34,
      "outputs": []
    },
    {
      "cell_type": "code",
      "source": [
        "# now that we have our callable object, we define a function that the trainer can use to compute its metric => we cannot call directly metrics.compute because the output\n",
        "# of the model is not a prediction but a logist\n",
        "def compute_accuracy(logists, true_labels):\n",
        "\n",
        "  # transforming logists in prediction by picking; -1 applies argmax along the last axis of the input array \n",
        "  predictions = np.argmax(logists, axis = -1)    \n",
        "\n",
        "  # computing the accuracy\n",
        "  accuracy_score = metrics.compute(predictions=predictions, references=true_labels)\n",
        "\n",
        "  return accuracy_score"
      ],
      "metadata": {
        "id": "f9hepezvwM2T"
      },
      "execution_count": 35,
      "outputs": []
    },
    {
      "cell_type": "markdown",
      "source": [
        "### DEFINING LOSS FUNCTION"
      ],
      "metadata": {
        "id": "g5b4nsnjUp3g"
      }
    },
    {
      "cell_type": "code",
      "source": [
        "# loss function\n",
        "\n",
        "import torch.nn as nn\n",
        "\n",
        "loss_fn = nn.CrossEntropyLoss() # input => (predicted probab positive class, positive or negative class)"
      ],
      "metadata": {
        "id": "Sc1BzxwmUpMf"
      },
      "execution_count": 36,
      "outputs": []
    },
    {
      "cell_type": "markdown",
      "source": [
        "### IMPORTING THE OPTIMIZER (HYPERPARAMETER CAN BE CHANGE OR OPTIMIZER CAN BE CHANGED)"
      ],
      "metadata": {
        "id": "_1NIuwz-x4ie"
      }
    },
    {
      "cell_type": "markdown",
      "source": [
        "Some context on what we will do\n",
        "\n",
        "As an optimizer we will use **AdamW**: AdamW modifies the weight decay term in the Adam optimizer to improve the convergence of the model during training. This modification can help to prevent overfitting and improve the generalization of the model.\n",
        "\n",
        "**Weight decay** is a regularization technique used to prevent overfitting in machine learning models by adding a penalty term to the loss function. An example are L2 and L1 regularization, where the loss of model is penalized based on the dimension of the weight (the bigger, the more penality)\n",
        "\n",
        "**Epsilon value** is a small positive value that is added to the denominator of a division operation in optimization algorithms such as Adam and RMSprop. The epsilon value is used to prevent division by zero and stabilize the optimization process. In practice, the epsilon value is typically set to a small value such as 1e-8 or 1e-10. "
      ],
      "metadata": {
        "id": "Jj0gdOId0Hts"
      }
    },
    {
      "cell_type": "code",
      "source": [
        "# PICKING HYPERPARAMETERS FOR OPTIMIZER \n",
        "\n",
        "learning_rate_hp1 = 6e-6 # standard \n",
        "\n",
        "epsilon_value_hp2 = 1e-8 # standard "
      ],
      "metadata": {
        "id": "86QljGmj1LtD"
      },
      "execution_count": 37,
      "outputs": []
    },
    {
      "cell_type": "code",
      "source": [
        "# SETTING UP THE OPTIMIZER =\n",
        "\n",
        "# it is a transformer class, it requires two argument, a.k.a the parameters it needs to update at each step and the learning rate to scale the gradient\n",
        "\n",
        "optimizer1 = AdamW(model.parameters(),\n",
        "                  lr = learning_rate_hp1, # args.learning_rate\n",
        "                  eps = epsilon_value_hp2 # args.adam_epsilon\n",
        "                )"
      ],
      "metadata": {
        "colab": {
          "base_uri": "https://localhost:8080/"
        },
        "id": "Oq7V2uiG1s4R",
        "outputId": "828dc50f-05db-43fe-c2bb-bca4cb8e13d6"
      },
      "execution_count": 38,
      "outputs": [
        {
          "output_type": "stream",
          "name": "stderr",
          "text": [
            "/usr/local/lib/python3.9/dist-packages/transformers/optimization.py:306: FutureWarning: This implementation of AdamW is deprecated and will be removed in a future version. Use the PyTorch implementation torch.optim.AdamW instead, or set `no_deprecation_warning=True` to disable this warning\n",
            "  warnings.warn(\n"
          ]
        }
      ]
    },
    {
      "cell_type": "markdown",
      "source": [
        "### LEARNING RATE SCHEDULER "
      ],
      "metadata": {
        "id": "O1tXNIUm35M4"
      }
    },
    {
      "cell_type": "markdown",
      "source": [
        "The **learning rate** is a hyperparameter that controls how much the model's parameters are updated during training. The *scheduling technique* adjusts the learning rate over the course of training to improve model performance.\n",
        "\n",
        "The **get_linear_schedule_with_warmup** function is a built-in method in the PyTorch library that returns a learning rate scheduler. This scheduler increases the learning rate linearly from 0 during a warm-up period, and then decreases it linearly to 0 over the remaining training steps. The warm-up period is a number of training steps at the beginning of the training process where the learning rate is gradually increased from 0 to its initial value, allowing the model to start with smaller steps and avoid destabilizing the optimization process.\n",
        "\n",
        "The function takes several arguments, including the optimizer, the total number of training steps, the warm-up proportion (the proportion of training steps used for the warm-up period), and an optional argument for controlling the degree of decay of the learning rate. \n",
        "\n"
      ],
      "metadata": {
        "id": "0x0phHZY38l2"
      }
    },
    {
      "cell_type": "code",
      "source": [
        "# SETTING ANOTHER HYPERPARAMETER\n",
        "epochs_hp3 = 3\n",
        "\n",
        "# Total number of training steps is the number of steps per epoch times the number of epochs\n",
        "total_steps = len(train_dataloader) * epochs_hp3\n",
        "\n",
        "# Last Hyperparameter, the warm up steps\n",
        "\n",
        "warmup_steps_hp3 = 0 # so just decay not increasing of learning rate, seems to be standard"
      ],
      "metadata": {
        "id": "eCPEzjzY34RE"
      },
      "execution_count": 39,
      "outputs": []
    },
    {
      "cell_type": "code",
      "source": [
        "# CREATING THE SCHEDULER\n",
        "scheduler = get_linear_schedule_with_warmup(optimizer1, num_warmup_steps = warmup_steps_hp3,num_training_steps = total_steps)"
      ],
      "metadata": {
        "id": "UxOeUX7j4y3M"
      },
      "execution_count": 40,
      "outputs": []
    },
    {
      "cell_type": "markdown",
      "source": [
        "### DEFINING TRAINING FUNCTION"
      ],
      "metadata": {
        "id": "SAy77l6Ty2a9"
      }
    },
    {
      "cell_type": "markdown",
      "source": [
        "library used for visualization => tqdm => tqdm is a popular Python library that provides a progress bar for loops and iterators. It is especially useful when iterating over large datasets or performing long-running operations where it's helpful to have an indication of progress. You can use tqdm in your code by wrapping an iterator or loop with the \"tqdm()\" function. A tqdm will automatically create a progress bar that shows the percentage of items completed, the estimated time remaining, and other information. As the loop iterates, the progress bar will update accordingly.\n",
        "\n",
        "library used for cleaning memory => gc => gc.collect() simply remove from memory everything we are not using (not reference anymore by variables)"
      ],
      "metadata": {
        "id": "7URog_HsfH29"
      }
    },
    {
      "cell_type": "code",
      "source": [
        "!pip install tqdm\n",
        "from tqdm.auto import tqdm "
      ],
      "metadata": {
        "colab": {
          "base_uri": "https://localhost:8080/"
        },
        "id": "6AuMYvlShtNO",
        "outputId": "d0205140-6bc9-40a9-e48c-e0efe8d7b769"
      },
      "execution_count": 41,
      "outputs": [
        {
          "output_type": "stream",
          "name": "stdout",
          "text": [
            "Looking in indexes: https://pypi.org/simple, https://us-python.pkg.dev/colab-wheels/public/simple/\n",
            "Requirement already satisfied: tqdm in /usr/local/lib/python3.9/dist-packages (4.65.0)\n"
          ]
        }
      ]
    },
    {
      "cell_type": "code",
      "source": [
        "def train(model, train_dataloader, loss_fn, optimizer, scheduler):\n",
        "    \"\"\"\n",
        "    This function trains a given model on training data and validates on validation data\n",
        "    \"\"\"\n",
        "    # setting the model to training mode => important because it says to compute gradients 4 backwards pass, while computing the forward pass\n",
        "    model.train()\n",
        "\n",
        "    # wrapping tqdm around the dataloader to allow visualization\n",
        "    visual_train_dl = tqdm(train_dataloader)\n",
        "\n",
        "    # initiliaze it to compute the training loss after all the batches \n",
        "    total_train_loss = 0\n",
        "\n",
        "    # initialize for printing near the bar\n",
        "    train_step = 0\n",
        "\n",
        "    # iterate over the batch of the data loader (after all iteration we made 1 epoch)\n",
        "    for batch in visual_train_dl:\n",
        "\n",
        "      # accessing batch (contains an input_ids, an attention mask, and a label)\n",
        "      batch_ids = batch[0].to(device)\n",
        "      batch_attention_mask = batch[2].to(device)\n",
        "        # squeeze remove dimension because labels should not have dimension, long transform in long integer as required by pytorch\n",
        "      batch_labels = batch[3].squeeze().to(device).long()\n",
        "\n",
        "      # step 1: reset optimizer stored gradient\n",
        "      optimizer.zero_grad()\n",
        "\n",
        "      # step 2: model logists through forward pass => remember the forward return logists\n",
        "      logits = model(batch_ids, batch_attention_mask).to(device)\n",
        "\n",
        "      # step 3: take the argmax index aka the predicted class index\n",
        "      predictions = torch.argmax(logits, dim=1) \n",
        "\n",
        "      #detached_predictions = predictions.detach().cpu().numpy()\n",
        "\n",
        "      # step 4: compute the loss => takes as input the logist aka the predicted probability, not the predicted class\n",
        "      loss = loss_fn(logits, batch_labels)\n",
        "        # needed for printing stats\n",
        "      total_train_loss += loss.item()\n",
        "      train_step += 1\n",
        "\n",
        "      # step 5: compute the gradient (derivative of the loss over every trainable parameter)\n",
        "      loss.backward() \n",
        "\n",
        "      # step 6: advance the optimizer and the scheduler\n",
        "      optimizer.step()\n",
        "      scheduler.step()\n",
        "\n",
        "      # The set_postfix() method of the progress bar updates the message displayed in the progress bar to include the specified key-value pairs\n",
        "      visual_train_dl.set_postfix({'train_loss':total_train_loss/train_step}) \n",
        "    visual_train_dl.close()\n",
        "\n",
        "    # Calculate the average loss over all of the batches.\n",
        "    \n",
        "    final_avg_train_loss = total_train_loss / train_step            \n",
        "    \n",
        "    print('')\n",
        "    print('  Average training loss: {0:.2f}'.format(final_avg_train_loss))"
      ],
      "metadata": {
        "id": "cM1nSjG4fcPR"
      },
      "execution_count": 42,
      "outputs": []
    },
    {
      "cell_type": "markdown",
      "source": [
        "### DEFINING THE VALIDATION FUNCTION"
      ],
      "metadata": {
        "id": "aIaLu8sWv1Q-"
      }
    },
    {
      "cell_type": "code",
      "source": [
        "def validate(model,valid_dataloader,loss_fn):\n",
        "\n",
        "    # step 1, say to the model that computing the forward is enough, no backward!\n",
        "    with torch.no_grad():\n",
        "\n",
        "        # step 2, say to the model that it is validation time (4 dropout and normalization)\n",
        "        model.eval()\n",
        "\n",
        "        # initiliaze it to compute the training loss after all the batches \n",
        "        total_valid_loss = 0\n",
        "\n",
        "        # initiliaze to compute the avg thereafter\n",
        "        valid_step = 0\n",
        "\n",
        "        # list for accuracy\n",
        "        correct = 0\n",
        "\n",
        "        # wrapper for progress bar\n",
        "        visual_valid_dl = tqdm(valid_dataloader)\n",
        "  \n",
        "        # iterate over the batch of the data loader (after all iteration we made 1 epoch)\n",
        "        for batch in visual_valid_dl:\n",
        "\n",
        "            # update the step \n",
        "            valid_step += 1\n",
        "\n",
        "            # accessing batch (contains an input_ids, an attention mask, and a label)\n",
        "            batch_ids = batch[0].to(device)\n",
        "            batch_attention_mask = batch[2].to(device)\n",
        "\n",
        "            # squeeze remove dimension because labels should not have dimension, long transform in long integer as required by pytorch\n",
        "            batch_labels = batch[3].squeeze().to(device).long()\n",
        "\n",
        "            # step 3: model logists through forward pass => remember the forward return logists\n",
        "            logits = model(batch_ids, batch_attention_mask).to(device)\n",
        "\n",
        "            # step 4: getting predictions\n",
        "            predictions = torch.argmax(logits, dim=1)\n",
        "\n",
        "            # step 5: check if correct\n",
        "            correct += (predictions == batch_labels).type(torch.float).sum().item()\n",
        "           \n",
        "           #detached_predictions = predictions.detach().cpu().numpy()\n",
        "\n",
        "            # step 5: computing the loss\n",
        "            loss = loss_fn(logits, batch_labels)\n",
        "\n",
        "            # step 6: add to total loss\n",
        "            total_valid_loss += loss.item()\n",
        "\n",
        "        total_valid_loss /= valid_step\n",
        "        accuracy = correct / len(valid_dataloader.dataset)\n",
        "\n",
        "        print(f'Accuracy Score: {accuracy}')\n",
        "        print(f'Valid_loss: {total_valid_loss}')\n"
      ],
      "metadata": {
        "id": "_HNBuUADv5VH"
      },
      "execution_count": 43,
      "outputs": []
    },
    {
      "cell_type": "markdown",
      "source": [
        "### TRAING/VALIDATE PASS"
      ],
      "metadata": {
        "id": "yJoroGJf5rYD"
      }
    },
    {
      "cell_type": "code",
      "source": [
        "for t in range(epochs_hp3):\n",
        "    print(f\"Epoch {t+1}\\n-------------------------------\")\n",
        "    train(model = model, train_dataloader = train_dataloader, loss_fn = loss_fn, optimizer = optimizer1, scheduler = scheduler)\n",
        "    validate(model = model,valid_dataloader = test_dataloader,loss_fn = loss_fn)\n",
        "print(\"Done!\")"
      ],
      "metadata": {
        "colab": {
          "base_uri": "https://localhost:8080/",
          "height": 539,
          "referenced_widgets": [
            "816af5f3ea0a4f54a37ccc37f11ea53c",
            "33a3aa76e9ab46949c23014f52188f94",
            "906b02e276eb4022adc7675534325ea9",
            "f78d64110b6843b2a6d7e2080d6d5e71",
            "2ffac6e6ae3d4ffe96b6ac74d240acf2",
            "c0020e0ba50848aa8ce4b5f295d29fc8",
            "e88050b378694df3858e6ca09b45d26a",
            "3ab776d0faff44adb843902bf12249c7",
            "acd62c09c1934709850338d85af0f355",
            "f3c4bf17b08c4ae9b8ad0d305c725d8b",
            "d66259b74b924057ae13a728b1ecb497",
            "5768f318b3724a9ca2ecdf3304c6f9c6",
            "909cae98b38a42a3b2f0336b6e4067e2",
            "9611bd153d72436c91734679ab3c2bc7",
            "96ec4017de4646a2902800a5ae9fe46c",
            "58e98e86f6a145df9e8b493ded8e744b",
            "116e907c6663427e86f76a303cb316fa",
            "50e1f2553061495ba9292801a3d2805f",
            "a734be3471da45348c4fbd60bcacaaff",
            "e16f875b924b4d70b7e2e93a8911fee7",
            "40decbde8a074c3d8b1b4e8b78f110d3",
            "8405b839422b44e59d4c1776d0117e21",
            "9f656787c14c499f97239584a6f03ebb",
            "477e913fd8ae4934b22cceafa8b0387d",
            "cd2f469aa50641ac8402b70e29354a94",
            "c1a1c33cfb3043f58a0b4e5cb92dc94c",
            "3560c8f3a76347d2b70c4dd678b3585d",
            "ca029512f1ee43d5a870804eb6ef165b",
            "18bd30906f4148ba89abf6577a7629e1",
            "27b188944d2f4c9189dc24fc2111e83d",
            "3bd127af933e4d2c86aab61952ebd759",
            "b46d76eee84c4efabf416e7ac7017430",
            "1390c41f60fe4dbca226b26a796f69ef",
            "a9d70ac079c84b5495637a734dc3341d",
            "3db6fcf7066d450aa49487b12787cacf",
            "fc3f65ad1a6a4ce1b99b5f86ed4138bd",
            "88519aa2113442018009e7a416e9123d",
            "79ee56bb54224d00aca1a1d89dfa5f7b",
            "71921c8614b14cdb85220aff5bf7025d",
            "0c60f5c8be904259a418ef4594ebca90",
            "ef9ed1624611461dacaa8cf6cd720d16",
            "e88ec6df2bd4423093d9296ee62e9ecd",
            "48dba7864f9d484880b15ac70c685b49",
            "d34da359e6cf41bfbef34820dacf8101",
            "2aab7487cc384e749e28406f406e3037",
            "9642e3c2aa96462aab75646027aaf328",
            "12497b88414543c58f0c328836ec5894",
            "a07a4195794a4db496f11faf2c5f404d",
            "4f02228512574c97a7baa02498d88d73",
            "52c222474444474eb3a2a6d2c8152744",
            "1fe39f207c28408cb9000d2014fdbda9",
            "dc069547ef244026ba870314cffd2842",
            "69d68c4703eb40f4980efcd5c6d0f9f4",
            "4c936a30361b410c97655fa9effd05d4",
            "eed27071d88e49bab0a9bd262ed0c505",
            "6b99cb2f851a4428a27f4ff60c170da0",
            "b2782e26c06f4150ae8a85477fac90d4",
            "792bc6a9c2854d77918d482db65040d4",
            "19453590372f45c3a4c79b9c29fd424f",
            "5810956bbb284453b3ade5f984d23b96",
            "952a58a5f1cd400ca8ee0d298db3bfea",
            "439324b3c2f7465e8776b01d456ece3d",
            "be2ffd425ff343e39a99712f9cffb405",
            "0d12ed1efaf5455c8c5facec52491dcc",
            "5fef124d05e34beca6750a700180e003",
            "5fa0509f830944c587b7eafc0201de0c"
          ]
        },
        "id": "tSQEnLhWyPw6",
        "outputId": "f645ab49-e8ba-46dd-9e0b-e75ba468f1f1"
      },
      "execution_count": 45,
      "outputs": [
        {
          "output_type": "stream",
          "name": "stdout",
          "text": [
            "Epoch 1\n",
            "-------------------------------\n"
          ]
        },
        {
          "output_type": "display_data",
          "data": {
            "text/plain": [
              "  0%|          | 0/191 [00:00<?, ?it/s]"
            ],
            "application/vnd.jupyter.widget-view+json": {
              "version_major": 2,
              "version_minor": 0,
              "model_id": "816af5f3ea0a4f54a37ccc37f11ea53c"
            }
          },
          "metadata": {}
        },
        {
          "output_type": "stream",
          "name": "stdout",
          "text": [
            "\n",
            "  Average training loss: 0.50\n"
          ]
        },
        {
          "output_type": "display_data",
          "data": {
            "text/plain": [
              "  0%|          | 0/48 [00:00<?, ?it/s]"
            ],
            "application/vnd.jupyter.widget-view+json": {
              "version_major": 2,
              "version_minor": 0,
              "model_id": "5768f318b3724a9ca2ecdf3304c6f9c6"
            }
          },
          "metadata": {}
        },
        {
          "output_type": "stream",
          "name": "stdout",
          "text": [
            "Accuracy Score: 0.8108995403808273\n",
            "Valid_loss: 0.43019261738906306\n",
            "Epoch 2\n",
            "-------------------------------\n"
          ]
        },
        {
          "output_type": "display_data",
          "data": {
            "text/plain": [
              "  0%|          | 0/191 [00:00<?, ?it/s]"
            ],
            "application/vnd.jupyter.widget-view+json": {
              "version_major": 2,
              "version_minor": 0,
              "model_id": "9f656787c14c499f97239584a6f03ebb"
            }
          },
          "metadata": {}
        },
        {
          "output_type": "stream",
          "name": "stdout",
          "text": [
            "\n",
            "  Average training loss: 0.39\n"
          ]
        },
        {
          "output_type": "display_data",
          "data": {
            "text/plain": [
              "  0%|          | 0/48 [00:00<?, ?it/s]"
            ],
            "application/vnd.jupyter.widget-view+json": {
              "version_major": 2,
              "version_minor": 0,
              "model_id": "a9d70ac079c84b5495637a734dc3341d"
            }
          },
          "metadata": {}
        },
        {
          "output_type": "stream",
          "name": "stdout",
          "text": [
            "Accuracy Score: 0.8194353250164149\n",
            "Valid_loss: 0.4127590758726001\n",
            "Epoch 3\n",
            "-------------------------------\n"
          ]
        },
        {
          "output_type": "display_data",
          "data": {
            "text/plain": [
              "  0%|          | 0/191 [00:00<?, ?it/s]"
            ],
            "application/vnd.jupyter.widget-view+json": {
              "version_major": 2,
              "version_minor": 0,
              "model_id": "2aab7487cc384e749e28406f406e3037"
            }
          },
          "metadata": {}
        },
        {
          "output_type": "stream",
          "name": "stdout",
          "text": [
            "\n",
            "  Average training loss: 0.37\n"
          ]
        },
        {
          "output_type": "display_data",
          "data": {
            "text/plain": [
              "  0%|          | 0/48 [00:00<?, ?it/s]"
            ],
            "application/vnd.jupyter.widget-view+json": {
              "version_major": 2,
              "version_minor": 0,
              "model_id": "6b99cb2f851a4428a27f4ff60c170da0"
            }
          },
          "metadata": {}
        },
        {
          "output_type": "stream",
          "name": "stdout",
          "text": [
            "Accuracy Score: 0.8279711096520026\n",
            "Valid_loss: 0.40398413750032586\n",
            "Done!\n"
          ]
        }
      ]
    },
    {
      "cell_type": "markdown",
      "source": [
        "### TRAINING AND SAVING THE MODEL"
      ],
      "metadata": {
        "id": "mltMpleXy4lL"
      }
    },
    {
      "cell_type": "code",
      "source": [
        "import torchvision.models as models"
      ],
      "metadata": {
        "id": "HEpcc43Hy6qF"
      },
      "execution_count": 47,
      "outputs": []
    },
    {
      "cell_type": "code",
      "source": [
        "model = models.vgg16(pretrained=True)\n",
        "torch.save(model.state_dict(), 'model_weights.pth')"
      ],
      "metadata": {
        "id": "n9Hbln1P9xJo"
      },
      "execution_count": null,
      "outputs": []
    },
    {
      "cell_type": "code",
      "source": [
        "# for loading \n",
        "\n",
        "'''model = models.vgg16() # we do not specify pretrained=True, i.e. do not load default weights\n",
        "model.load_state_dict(torch.load('model_weights.pth'))\n",
        "model.eval()'''"
      ],
      "metadata": {
        "id": "r1tvKFEZ98nN"
      },
      "execution_count": null,
      "outputs": []
    },
    {
      "cell_type": "code",
      "source": [
        "import os\n",
        "# Set the output directory\n",
        "output_dir = '/content/output/'\n",
        "\n",
        "# Create the output directory if it doesn't exist\n",
        "if not os.path.exists(output_dir):\n",
        "    os.makedirs(output_dir)\n",
        "\n",
        "# Save the model and tokenizer to the output directory\n",
        "trainer.save_model(output_dir)\n",
        "tokz.save_pretrained(output_dir)\n"
      ],
      "metadata": {
        "id": "vkg1orJ0zEos"
      },
      "execution_count": null,
      "outputs": []
    },
    {
      "cell_type": "code",
      "source": [],
      "metadata": {
        "id": "36Qdxz0SzFQT"
      },
      "execution_count": null,
      "outputs": []
    }
  ]
}