{
  "nbformat": 4,
  "nbformat_minor": 0,
  "metadata": {
    "colab": {
      "provenance": [],
      "mount_file_id": "1eMwUmk-HMrojDx7xFOY6vE59iBAbIhop",
      "authorship_tag": "ABX9TyOL+57xQ388oq8j66TSHxqf",
      "include_colab_link": true
    },
    "kernelspec": {
      "name": "python3",
      "display_name": "Python 3"
    },
    "language_info": {
      "name": "python"
    }
  },
  "cells": [
    {
      "cell_type": "markdown",
      "metadata": {
        "id": "view-in-github",
        "colab_type": "text"
      },
      "source": [
        "<a href=\"https://colab.research.google.com/github/tommasomncttn/NLP-Disaster-Tweet-Detection/blob/main/baselinelogisticregression.ipynb\" target=\"_parent\"><img src=\"https://colab.research.google.com/assets/colab-badge.svg\" alt=\"Open In Colab\"/></a>"
      ]
    },
    {
      "cell_type": "code",
      "execution_count": null,
      "metadata": {
        "id": "5BiaABbXSpyn"
      },
      "outputs": [],
      "source": [
        "# Importing necessary libraries\n",
        "\n",
        "from sklearn.linear_model import LogisticRegression\n",
        "from sklearn.model_selection import train_test_split\n",
        "from sklearn.metrics import accuracy_score, confusion_matrix\n",
        "from sklearn.feature_extraction.text import CountVectorizer\n",
        "import pandas as pd\n",
        "df = pd.read_csv(\"/content/drive/MyDrive/ML_proj/train.csv\")"
      ]
    },
    {
      "cell_type": "code",
      "source": [
        "# Splitting the data into training and testing sets\n",
        "train_df, test_df = train_test_split(df, test_size=0.3, random_state=69)\n",
        "\n",
        "# Extracting the text and target labels from the training and testing data\n",
        "text_train = train_df[\"text\"]\n",
        "lable_train = train_df[\"target\"]\n",
        "text_test = test_df[\"text\"]\n",
        "lable_test = test_df[\"target\"]\n",
        "\n",
        "# Creating a CountVectorizer object to convert the text into a matrix of token counts\n",
        "vect = CountVectorizer(stop_words='english')\n",
        "\n",
        "# Fitting the CountVectorizer on the training data to learn the vocabulary and create a document-term matrix\n",
        "vectorized_train = vect.fit_transform(text_train)\n",
        "\n",
        "# Transforming the test data into the same document-term matrix as the training data\n",
        "vectorized_test = vect.transform(text_test)\n",
        "\n",
        "# Creating a logistic regression model\n",
        "model = LogisticRegression()\n",
        "\n",
        "# Fitting the logistic regression model on the training data\n",
        "model.fit(vectorized_train, lable_train)\n",
        "\n",
        "# Making predictions on the test data using the trained model\n",
        "predicted_lables = model.predict(vectorized_test)\n",
        "\n",
        "# Evaluating the performance of the model using accuracy score and confusion matrix\n",
        "accuracy = accuracy_score(lable_test, predicted_lables)\n",
        "confusion = confusion_matrix(lable_test, predicted_lables)\n",
        "\n",
        "# Printing the accuracy and confusion matrix of the model\n",
        "print(\"Accuracy:\", accuracy)\n",
        "print(\"Confusion Matrix:\\n\", confusion)\n"
      ],
      "metadata": {
        "colab": {
          "base_uri": "https://localhost:8080/"
        },
        "id": "yhmtfWUHSs3p",
        "outputId": "b0c100e3-2b80-4e33-aa4a-ef0185e036b6"
      },
      "execution_count": null,
      "outputs": [
        {
          "output_type": "stream",
          "name": "stdout",
          "text": [
            "Accuracy: 0.797723292469352\n",
            "Confusion Matrix:\n",
            " [[1150  139]\n",
            " [ 323  672]]\n"
          ]
        }
      ]
    }
  ]
}