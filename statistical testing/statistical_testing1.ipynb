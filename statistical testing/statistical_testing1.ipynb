{
  "nbformat": 4,
  "nbformat_minor": 0,
  "metadata": {
    "colab": {
      "provenance": [],
      "authorship_tag": "ABX9TyMFSPybbzPHwRS4pDwZzTL6",
      "include_colab_link": true
    },
    "kernelspec": {
      "name": "python3",
      "display_name": "Python 3"
    },
    "language_info": {
      "name": "python"
    }
  },
  "cells": [
    {
      "cell_type": "markdown",
      "metadata": {
        "id": "view-in-github",
        "colab_type": "text"
      },
      "source": [
        "<a href=\"https://colab.research.google.com/github/tommasomncttn/NLP-Disaster-Tweet-Detection/blob/main/stat_testing.ipynb\" target=\"_parent\"><img src=\"https://colab.research.google.com/assets/colab-badge.svg\" alt=\"Open In Colab\"/></a>"
      ]
    },
    {
      "cell_type": "code",
      "source": [
        "# ULMFiT, AXD_LSTM\n",
        "\n",
        "from fastai.vision.all import *\n",
        "\n",
        "# Define the path to the saved model file\n",
        "model_path = '/path/to/model.pkl'\n",
        "\n",
        "# Load the learner object\n",
        "learn = load_learner(model_path)\n",
        "\n",
        "# Make predictions using the loaded model\n",
        "preds = learn.predict('path/to/image.jpg')"
      ],
      "metadata": {
        "id": "N9mGPYmtNigt"
      },
      "execution_count": null,
      "outputs": []
    },
    {
      "cell_type": "code",
      "source": [
        "#BERT\n",
        "\n",
        "import torch\n",
        "# Load your model\n",
        "model = bert()\n",
        "model.load_state_dict(torch.load('model.pth'))"
      ],
      "metadata": {
        "id": "E3J3M7kmeDDe"
      },
      "execution_count": null,
      "outputs": []
    },
    {
      "cell_type": "code",
      "source": [
        "#DISTILBERT\n",
        "\n",
        "from transformers import AutoModel\n",
        "\n",
        "# Load your saved model\n",
        "model = AutoModel.from_pretrained(\"path/to/saved/model\")\n"
      ],
      "metadata": {
        "id": "cUQURp8YfZvw"
      },
      "execution_count": null,
      "outputs": []
    },
    {
      "cell_type": "code",
      "source": [
        "# make the models make predictions on the test data\n",
        "\n",
        "\n",
        "\n",
        "\n"
      ],
      "metadata": {
        "id": "jDL1670b1-0b"
      },
      "execution_count": null,
      "outputs": []
    },
    {
      "cell_type": "code",
      "execution_count": null,
      "metadata": {
        "id": "zfDBXPj-Lefk"
      },
      "outputs": [],
      "source": [
        "import numpy as np\n",
        "from scipy.stats import chi2\n",
        "\n",
        "def mcnemar_test(label_true, label_1, label_2):\n",
        "    # Calculate the number of samples that are misclassified \n",
        "    #by the first model (lable_1) but correctly classified by the second model (lable_2)\n",
        "    b = sum(np.logical_and(label_1 != label_true, label_2 == label_true))\n",
        "\n",
        "    # Calculate the number of samples that are correctly classified by the \n",
        "    #first model (lable_1) but misclassified by the second model (lable_2)\n",
        "    c = sum(np.logical_and(label_1 == label_true, label_2 != label_true))\n",
        "\n",
        "    # Calculate the test statistic for the McNemar's test \n",
        "    #using the values of b and c\n",
        "    v = pow(abs(b - c) - 1, 2) / (b + c)\n",
        "\n",
        "    # Calculate the p-value using the test statistic and a \n",
        "    #chi-squared distribution with 1 degree of freedom\n",
        "    p_value = chi2.sf(v, 1)\n",
        "\n",
        "    # Return the test statistic and p-value\n",
        "    return v, p_value"
      ]
    },
    {
      "cell_type": "code",
      "source": [
        "print(\"McNemar's test\")\n",
        "chi2, p = mcnemar_test(y_test, rf_y, knn_y)\n",
        "print(f\"chi² statistic: {chi2}, p-value: {p}\\n\")"
      ],
      "metadata": {
        "id": "5wMXC-YpLjlk"
      },
      "execution_count": null,
      "outputs": []
    }
  ]
}
