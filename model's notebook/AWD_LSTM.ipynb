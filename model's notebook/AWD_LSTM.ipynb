{
  "nbformat": 4,
  "nbformat_minor": 0,
  "metadata": {
    "colab": {
      "provenance": [],
      "mount_file_id": "16jO0zW9M1HPrkA-YGIKOBo4grFkS3JWH",
      "authorship_tag": "ABX9TyMQsSh0h83vt2eJZ8vF4Pst",
      "include_colab_link": true
    },
    "kernelspec": {
      "name": "python3",
      "display_name": "Python 3"
    },
    "language_info": {
      "name": "python"
    }
  },
  "cells": [
    {
      "cell_type": "markdown",
      "metadata": {
        "id": "view-in-github",
        "colab_type": "text"
      },
      "source": [
        "<a href=\"https://colab.research.google.com/github/tommasomncttn/NLP-Disaster-Tweet-Detection/blob/main/model's%20notebook/AWD_LSTM.ipynb\" target=\"_parent\"><img src=\"https://colab.research.google.com/assets/colab-badge.svg\" alt=\"Open In Colab\"/></a>"
      ]
    },
    {
      "cell_type": "code",
      "source": [
        "!pip install optuna"
      ],
      "metadata": {
        "colab": {
          "base_uri": "https://localhost:8080/"
        },
        "id": "RVF8LuQNyffi",
        "outputId": "0478c185-f3f0-4018-dfcd-cffb7b459f97"
      },
      "execution_count": null,
      "outputs": [
        {
          "output_type": "stream",
          "name": "stdout",
          "text": [
            "Looking in indexes: https://pypi.org/simple, https://us-python.pkg.dev/colab-wheels/public/simple/\n",
            "Collecting optuna\n",
            "  Downloading optuna-3.1.0-py3-none-any.whl (365 kB)\n",
            "\u001b[2K     \u001b[90m━━━━━━━━━━━━━━━━━━━━━━━━━━━━━━━━━━━━━━\u001b[0m \u001b[32m365.3/365.3 KB\u001b[0m \u001b[31m15.7 MB/s\u001b[0m eta \u001b[36m0:00:00\u001b[0m\n",
            "\u001b[?25hCollecting cmaes>=0.9.1\n",
            "  Downloading cmaes-0.9.1-py3-none-any.whl (21 kB)\n",
            "Requirement already satisfied: tqdm in /usr/local/lib/python3.9/dist-packages (from optuna) (4.65.0)\n",
            "Requirement already satisfied: PyYAML in /usr/local/lib/python3.9/dist-packages (from optuna) (6.0)\n",
            "Collecting colorlog\n",
            "  Downloading colorlog-6.7.0-py2.py3-none-any.whl (11 kB)\n",
            "Requirement already satisfied: sqlalchemy>=1.3.0 in /usr/local/lib/python3.9/dist-packages (from optuna) (1.4.47)\n",
            "Requirement already satisfied: packaging>=20.0 in /usr/local/lib/python3.9/dist-packages (from optuna) (23.0)\n",
            "Requirement already satisfied: numpy in /usr/local/lib/python3.9/dist-packages (from optuna) (1.22.4)\n",
            "Collecting alembic>=1.5.0\n",
            "  Downloading alembic-1.10.2-py3-none-any.whl (212 kB)\n",
            "\u001b[2K     \u001b[90m━━━━━━━━━━━━━━━━━━━━━━━━━━━━━━━━━━━━━━\u001b[0m \u001b[32m212.2/212.2 KB\u001b[0m \u001b[31m16.4 MB/s\u001b[0m eta \u001b[36m0:00:00\u001b[0m\n",
            "\u001b[?25hCollecting Mako\n",
            "  Downloading Mako-1.2.4-py3-none-any.whl (78 kB)\n",
            "\u001b[2K     \u001b[90m━━━━━━━━━━━━━━━━━━━━━━━━━━━━━━━━━━━━━━━━\u001b[0m \u001b[32m78.7/78.7 KB\u001b[0m \u001b[31m7.0 MB/s\u001b[0m eta \u001b[36m0:00:00\u001b[0m\n",
            "\u001b[?25hRequirement already satisfied: typing-extensions>=4 in /usr/local/lib/python3.9/dist-packages (from alembic>=1.5.0->optuna) (4.5.0)\n",
            "Requirement already satisfied: greenlet!=0.4.17 in /usr/local/lib/python3.9/dist-packages (from sqlalchemy>=1.3.0->optuna) (2.0.2)\n",
            "Requirement already satisfied: MarkupSafe>=0.9.2 in /usr/local/lib/python3.9/dist-packages (from Mako->alembic>=1.5.0->optuna) (2.1.2)\n",
            "Installing collected packages: Mako, colorlog, cmaes, alembic, optuna\n",
            "Successfully installed Mako-1.2.4 alembic-1.10.2 cmaes-0.9.1 colorlog-6.7.0 optuna-3.1.0\n"
          ]
        }
      ]
    },
    {
      "cell_type": "code",
      "execution_count": null,
      "metadata": {
        "colab": {
          "base_uri": "https://localhost:8080/",
          "height": 1000
        },
        "id": "uEeEafW1yYJ7",
        "outputId": "11b2c526-9505-465c-949a-4cac25760820"
      },
      "outputs": [
        {
          "output_type": "display_data",
          "data": {
            "text/plain": [
              "<IPython.core.display.HTML object>"
            ],
            "text/html": [
              "\n",
              "<style>\n",
              "    /* Turns off some styling */\n",
              "    progress {\n",
              "        /* gets rid of default border in Firefox and Opera. */\n",
              "        border: none;\n",
              "        /* Needs to be in here for Safari polyfill so background images work as expected. */\n",
              "        background-size: auto;\n",
              "    }\n",
              "    progress:not([value]), progress:not([value])::-webkit-progress-bar {\n",
              "        background: repeating-linear-gradient(45deg, #7e7e7e, #7e7e7e 10px, #5c5c5c 10px, #5c5c5c 20px);\n",
              "    }\n",
              "    .progress-bar-interrupted, .progress-bar-interrupted::-webkit-progress-bar {\n",
              "        background: #F44336;\n",
              "    }\n",
              "</style>\n"
            ]
          },
          "metadata": {}
        },
        {
          "output_type": "display_data",
          "data": {
            "text/plain": [
              "<IPython.core.display.HTML object>"
            ],
            "text/html": []
          },
          "metadata": {}
        },
        {
          "output_type": "stream",
          "name": "stderr",
          "text": [
            "\u001b[32m[I 2023-03-23 11:42:08,882]\u001b[0m A new study created in memory with name: no-name-8133785c-7501-48ee-ada4-ad5d13ea613f\u001b[0m\n",
            "<ipython-input-4-dc22a5d0f5c4>:50: FutureWarning: suggest_uniform has been deprecated in v3.0.0. This feature will be removed in v6.0.0. See https://github.com/optuna/optuna/releases/tag/v3.0.0. Use :func:`~optuna.trial.Trial.suggest_float` instead.\n",
            "  dropout = trial.suggest_uniform('dropout', 0.2, 0.8)\n",
            "<ipython-input-4-dc22a5d0f5c4>:52: FutureWarning: suggest_loguniform has been deprecated in v3.0.0. This feature will be removed in v6.0.0. See https://github.com/optuna/optuna/releases/tag/v3.0.0. Use :func:`~optuna.trial.Trial.suggest_float` instead.\n",
            "  learning_rate = trial.suggest_loguniform('learning_rate', 1e-5, 1e-1)\n"
          ]
        },
        {
          "output_type": "display_data",
          "data": {
            "text/plain": [
              "<IPython.core.display.HTML object>"
            ],
            "text/html": [
              "\n",
              "<style>\n",
              "    /* Turns off some styling */\n",
              "    progress {\n",
              "        /* gets rid of default border in Firefox and Opera. */\n",
              "        border: none;\n",
              "        /* Needs to be in here for Safari polyfill so background images work as expected. */\n",
              "        background-size: auto;\n",
              "    }\n",
              "    progress:not([value]), progress:not([value])::-webkit-progress-bar {\n",
              "        background: repeating-linear-gradient(45deg, #7e7e7e, #7e7e7e 10px, #5c5c5c 10px, #5c5c5c 20px);\n",
              "    }\n",
              "    .progress-bar-interrupted, .progress-bar-interrupted::-webkit-progress-bar {\n",
              "        background: #F44336;\n",
              "    }\n",
              "</style>\n"
            ]
          },
          "metadata": {}
        },
        {
          "output_type": "display_data",
          "data": {
            "text/plain": [
              "<IPython.core.display.HTML object>"
            ],
            "text/html": [
              "<table border=\"1\" class=\"dataframe\">\n",
              "  <thead>\n",
              "    <tr style=\"text-align: left;\">\n",
              "      <th>epoch</th>\n",
              "      <th>train_loss</th>\n",
              "      <th>valid_loss</th>\n",
              "      <th>accuracy</th>\n",
              "      <th>time</th>\n",
              "    </tr>\n",
              "  </thead>\n",
              "  <tbody>\n",
              "    <tr>\n",
              "      <td>0</td>\n",
              "      <td>0.634072</td>\n",
              "      <td>0.573413</td>\n",
              "      <td>0.743421</td>\n",
              "      <td>01:27</td>\n",
              "    </tr>\n",
              "  </tbody>\n",
              "</table>"
            ]
          },
          "metadata": {}
        },
        {
          "output_type": "display_data",
          "data": {
            "text/plain": [
              "<Figure size 432x288 with 1 Axes>"
            ],
            "image/png": "[encoded data removed]"
          },
          "metadata": {}
        },
        {
          "output_type": "display_data",
          "data": {
            "text/plain": [
              "<IPython.core.display.HTML object>"
            ],
            "text/html": [
              "\n",
              "<style>\n",
              "    /* Turns off some styling */\n",
              "    progress {\n",
              "        /* gets rid of default border in Firefox and Opera. */\n",
              "        border: none;\n",
              "        /* Needs to be in here for Safari polyfill so background images work as expected. */\n",
              "        background-size: auto;\n",
              "    }\n",
              "    progress:not([value]), progress:not([value])::-webkit-progress-bar {\n",
              "        background: repeating-linear-gradient(45deg, #7e7e7e, #7e7e7e 10px, #5c5c5c 10px, #5c5c5c 20px);\n",
              "    }\n",
              "    .progress-bar-interrupted, .progress-bar-interrupted::-webkit-progress-bar {\n",
              "        background: #F44336;\n",
              "    }\n",
              "</style>\n"
            ]
          },
          "metadata": {}
        },
        {
          "output_type": "display_data",
          "data": {
            "text/plain": [
              "<IPython.core.display.HTML object>"
            ],
            "text/html": [
              "<table border=\"1\" class=\"dataframe\">\n",
              "  <thead>\n",
              "    <tr style=\"text-align: left;\">\n",
              "      <th>epoch</th>\n",
              "      <th>train_loss</th>\n",
              "      <th>valid_loss</th>\n",
              "      <th>accuracy</th>\n",
              "      <th>time</th>\n",
              "    </tr>\n",
              "  </thead>\n",
              "  <tbody>\n",
              "    <tr>\n",
              "      <td>0</td>\n",
              "      <td>0.561312</td>\n",
              "      <td>0.593528</td>\n",
              "      <td>0.707237</td>\n",
              "      <td>03:36</td>\n",
              "    </tr>\n",
              "    <tr>\n",
              "      <td>1</td>\n",
              "      <td>0.535591</td>\n",
              "      <td>0.483894</td>\n",
              "      <td>0.792763</td>\n",
              "      <td>03:33</td>\n",
              "    </tr>\n",
              "    <tr>\n",
              "      <td>2</td>\n",
              "      <td>0.499265</td>\n",
              "      <td>0.482922</td>\n",
              "      <td>0.773026</td>\n",
              "      <td>03:29</td>\n",
              "    </tr>\n",
              "    <tr>\n",
              "      <td>3</td>\n",
              "      <td>0.464970</td>\n",
              "      <td>0.473854</td>\n",
              "      <td>0.782895</td>\n",
              "      <td>03:28</td>\n",
              "    </tr>\n",
              "  </tbody>\n",
              "</table>"
            ]
          },
          "metadata": {}
        },
        {
          "output_type": "display_data",
          "data": {
            "text/plain": [
              "<Figure size 432x288 with 1 Axes>"
            ],
            "image/png": "[encoded data removed]"
          },
          "metadata": {}
        },
        {
          "output_type": "display_data",
          "data": {
            "text/plain": [
              "<IPython.core.display.HTML object>"
            ],
            "text/html": [
              "\n",
              "<style>\n",
              "    /* Turns off some styling */\n",
              "    progress {\n",
              "        /* gets rid of default border in Firefox and Opera. */\n",
              "        border: none;\n",
              "        /* Needs to be in here for Safari polyfill so background images work as expected. */\n",
              "        background-size: auto;\n",
              "    }\n",
              "    progress:not([value]), progress:not([value])::-webkit-progress-bar {\n",
              "        background: repeating-linear-gradient(45deg, #7e7e7e, #7e7e7e 10px, #5c5c5c 10px, #5c5c5c 20px);\n",
              "    }\n",
              "    .progress-bar-interrupted, .progress-bar-interrupted::-webkit-progress-bar {\n",
              "        background: #F44336;\n",
              "    }\n",
              "</style>\n"
            ]
          },
          "metadata": {}
        },
        {
          "output_type": "display_data",
          "data": {
            "text/plain": [
              "<IPython.core.display.HTML object>"
            ],
            "text/html": []
          },
          "metadata": {}
        },
        {
          "output_type": "stream",
          "name": "stderr",
          "text": [
            "\u001b[32m[I 2023-03-23 11:58:52,791]\u001b[0m Trial 0 finished with value: -0.6923076923076923 and parameters: {'dropout': 0.40752365966033016, 'n_epochs': 4, 'learning_rate': 0.00507062535859564}. Best is trial 0 with value: -0.6923076923076923.\u001b[0m\n"
          ]
        },
        {
          "output_type": "stream",
          "name": "stdout",
          "text": [
            "Best trial:\n",
            "  Value: 0.69231\n",
            "  Params: \n",
            "    dropout: 0.40752365966033016\n",
            "    n_epochs: 4\n",
            "    learning_rate: 0.00507062535859564\n"
          ]
        },
        {
          "output_type": "display_data",
          "data": {
            "text/plain": [
              "<IPython.core.display.HTML object>"
            ],
            "text/html": [
              "\n",
              "<style>\n",
              "    /* Turns off some styling */\n",
              "    progress {\n",
              "        /* gets rid of default border in Firefox and Opera. */\n",
              "        border: none;\n",
              "        /* Needs to be in here for Safari polyfill so background images work as expected. */\n",
              "        background-size: auto;\n",
              "    }\n",
              "    progress:not([value]), progress:not([value])::-webkit-progress-bar {\n",
              "        background: repeating-linear-gradient(45deg, #7e7e7e, #7e7e7e 10px, #5c5c5c 10px, #5c5c5c 20px);\n",
              "    }\n",
              "    .progress-bar-interrupted, .progress-bar-interrupted::-webkit-progress-bar {\n",
              "        background: #F44336;\n",
              "    }\n",
              "</style>\n"
            ]
          },
          "metadata": {}
        },
        {
          "output_type": "display_data",
          "data": {
            "text/plain": [
              "<IPython.core.display.HTML object>"
            ],
            "text/html": [
              "<table border=\"1\" class=\"dataframe\">\n",
              "  <thead>\n",
              "    <tr style=\"text-align: left;\">\n",
              "      <th>epoch</th>\n",
              "      <th>train_loss</th>\n",
              "      <th>valid_loss</th>\n",
              "      <th>accuracy</th>\n",
              "      <th>time</th>\n",
              "    </tr>\n",
              "  </thead>\n",
              "  <tbody>\n",
              "    <tr>\n",
              "      <td>0</td>\n",
              "      <td>0.683806</td>\n",
              "      <td>0.574654</td>\n",
              "      <td>0.769737</td>\n",
              "      <td>01:26</td>\n",
              "    </tr>\n",
              "  </tbody>\n",
              "</table>"
            ]
          },
          "metadata": {}
        },
        {
          "output_type": "display_data",
          "data": {
            "text/plain": [
              "<Figure size 432x288 with 1 Axes>"
            ],
            "image/png": "[encoded data removed]"
          },
          "metadata": {}
        },
        {
          "output_type": "display_data",
          "data": {
            "text/plain": [
              "<IPython.core.display.HTML object>"
            ],
            "text/html": [
              "\n",
              "<style>\n",
              "    /* Turns off some styling */\n",
              "    progress {\n",
              "        /* gets rid of default border in Firefox and Opera. */\n",
              "        border: none;\n",
              "        /* Needs to be in here for Safari polyfill so background images work as expected. */\n",
              "        background-size: auto;\n",
              "    }\n",
              "    progress:not([value]), progress:not([value])::-webkit-progress-bar {\n",
              "        background: repeating-linear-gradient(45deg, #7e7e7e, #7e7e7e 10px, #5c5c5c 10px, #5c5c5c 20px);\n",
              "    }\n",
              "    .progress-bar-interrupted, .progress-bar-interrupted::-webkit-progress-bar {\n",
              "        background: #F44336;\n",
              "    }\n",
              "</style>\n"
            ]
          },
          "metadata": {}
        },
        {
          "output_type": "display_data",
          "data": {
            "text/plain": [
              "<IPython.core.display.HTML object>"
            ],
            "text/html": [
              "<table border=\"1\" class=\"dataframe\">\n",
              "  <thead>\n",
              "    <tr style=\"text-align: left;\">\n",
              "      <th>epoch</th>\n",
              "      <th>train_loss</th>\n",
              "      <th>valid_loss</th>\n",
              "      <th>accuracy</th>\n",
              "      <th>time</th>\n",
              "    </tr>\n",
              "  </thead>\n",
              "  <tbody>\n",
              "    <tr>\n",
              "      <td>0</td>\n",
              "      <td>0.574341</td>\n",
              "      <td>0.466722</td>\n",
              "      <td>0.786184</td>\n",
              "      <td>03:29</td>\n",
              "    </tr>\n",
              "    <tr>\n",
              "      <td>1</td>\n",
              "      <td>0.541382</td>\n",
              "      <td>0.461721</td>\n",
              "      <td>0.789474</td>\n",
              "      <td>03:30</td>\n",
              "    </tr>\n",
              "    <tr>\n",
              "      <td>2</td>\n",
              "      <td>0.498406</td>\n",
              "      <td>0.459925</td>\n",
              "      <td>0.799342</td>\n",
              "      <td>03:32</td>\n",
              "    </tr>\n",
              "    <tr>\n",
              "      <td>3</td>\n",
              "      <td>0.466525</td>\n",
              "      <td>0.448005</td>\n",
              "      <td>0.809211</td>\n",
              "      <td>03:30</td>\n",
              "    </tr>\n",
              "  </tbody>\n",
              "</table>"
            ]
          },
          "metadata": {}
        },
        {
          "output_type": "display_data",
          "data": {
            "text/plain": [
              "<Figure size 432x288 with 1 Axes>"
            ],
            "image/png": "[encoded data removed]"
          },
          "metadata": {}
        },
        {
          "output_type": "display_data",
          "data": {
            "text/plain": [
              "<IPython.core.display.HTML object>"
            ],
            "text/html": [
              "\n",
              "<style>\n",
              "    /* Turns off some styling */\n",
              "    progress {\n",
              "        /* gets rid of default border in Firefox and Opera. */\n",
              "        border: none;\n",
              "        /* Needs to be in here for Safari polyfill so background images work as expected. */\n",
              "        background-size: auto;\n",
              "    }\n",
              "    progress:not([value]), progress:not([value])::-webkit-progress-bar {\n",
              "        background: repeating-linear-gradient(45deg, #7e7e7e, #7e7e7e 10px, #5c5c5c 10px, #5c5c5c 20px);\n",
              "    }\n",
              "    .progress-bar-interrupted, .progress-bar-interrupted::-webkit-progress-bar {\n",
              "        background: #F44336;\n",
              "    }\n",
              "</style>\n"
            ]
          },
          "metadata": {}
        },
        {
          "output_type": "display_data",
          "data": {
            "text/plain": [
              "<IPython.core.display.HTML object>"
            ],
            "text/html": []
          },
          "metadata": {}
        },
        {
          "output_type": "stream",
          "name": "stdout",
          "text": [
            "Test accuracy: 0.5738673806190491\n",
            "Test f1 score: 0.8346839546191248\n"
          ]
        },
        {
          "output_type": "stream",
          "name": "stderr",
          "text": [
            "<ipython-input-4-dc22a5d0f5c4>:121: UserWarning: To copy construct from a tensor, it is recommended to use sourceTensor.clone().detach() or sourceTensor.clone().detach().requires_grad_(True), rather than torch.tensor(sourceTensor).\n",
            "  predicted_classes_tensor = torch.tensor(predicted_labels)\n"
          ]
        }
      ],
      "source": [
        "# ===========================================\n",
        "# ||                                       ||\n",
        "# ||       Section 1: Importing modules    ||\n",
        "# ||                                       ||\n",
        "# ===========================================\n",
        "\n",
        "from fastai.text.all import *\n",
        "import pandas as pd\n",
        "from sklearn.model_selection import train_test_split\n",
        "from sklearn.metrics import f1_score\n",
        "import optuna\n",
        "\n",
        "# ===========================================\n",
        "# ||                                       ||\n",
        "# ||       Section 2: getting dataframes   ||\n",
        "# ||                    and dataloader     ||\n",
        "# ||                                       ||\n",
        "# ===========================================\n",
        "\n",
        "#TODO use clean dataset\n",
        "# Read in a CSV files\n",
        "\n",
        "train_df = pd.read_csv(\"/content/drive/MyDrive/ML_proj/zaazazza/train_df.csv\")\n",
        "test_df = pd.read_csv(\"/content/drive/MyDrive/ML_proj/zaazazza/test_df.csv\")\n",
        "validation_df =  pd.read_csv(\"/content/drive/MyDrive/ML_proj/zaazazza/validation_df.csv\")\n",
        "\n",
        "# Drop not needed columns\n",
        "\n",
        "train_df = test_df.drop(train_df.columns[0:4], axis=1)\n",
        "validation_df = validation_df.drop(validation_df.columns[0:4], axis=1)\n",
        "test_df = test_df.drop(test_df.columns[0:4], axis=1)\n",
        "\n",
        "# Create a data loader for text data using the \"TextDataLoaders\" class from the fastai library.\n",
        "dls = TextDataLoaders.from_df(train_df, valid_df=validation_df, path='.', valid_pct=0.2, seed=None,\n",
        "                              text_col=0, label_col=1, label_delim=None,\n",
        "                              y_block=None, text_vocab=None, is_lm=False,\n",
        "                              valid_col=None, tok_tfm=None,\n",
        "                              tok_text_col='text', seq_len=72)\n"
      ]
    },
    {
      "cell_type": "code",
      "source": [
        "\n",
        "# ===========================================\n",
        "# ||                                       ||\n",
        "# ||       Section 3: hyperparameter       ||\n",
        "# ||                        tuning         ||\n",
        "# ||                                       ||\n",
        "# ===========================================\n",
        "\n",
        "\n",
        "def objective(trial):\n",
        "    # Define the search space for hyperparameters\n",
        "    dropout = trial.suggest_uniform('dropout', 0.2, 0.8)\n",
        "    n_epochs = trial.suggest_int('n_epochs', 2, 10)\n",
        "    learning_rate = trial.suggest_loguniform('learning_rate', 1e-5, 1e-1)\n",
        "\n",
        "    # Create a text classification learner with the suggested hyperparameters\n",
        "    learn = text_classifier_learner(dls, AWD_LSTM, drop_mult=dropout, metrics=accuracy)\n",
        "\n",
        "    # Fine-tune the neural network for the suggested number of epochs using stochastic gradient descent\n",
        "    learn.fine_tune(n_epochs, learning_rate, cbs=[ShowGraphCallback()])\n",
        "\n",
        "    # Get the predicted probabilities for the validation data using the trained model.\n",
        "    val_dl = dls.test_dl(validation_df['text'])\n",
        "    val_preds, _ = learn.get_preds(dl=val_dl)\n",
        "\n",
        "    # Get the predicted labels for the validation data.\n",
        "    val_predicted_labels = val_preds.argmax(dim=1)\n",
        "\n",
        "    # Compute the f1 score of the model on the validation data using the `f1_score` function.\n",
        "    val_f1 = f1_score(validation_df[\"target\"].values, val_predicted_labels)\n",
        "\n",
        "    # Return the negative f1 score as the loss to optimize (because optuna maximizes the negative of the objective).\n",
        "    return -val_f1\n",
        "\n",
        "# Create an optuna study and optimize the objective function \n",
        "#(we are maximizing the f1 socore)\n",
        "study = optuna.create_study(direction='maximize', sampler=optuna.samplers.TPESampler())\n",
        "study.optimize(objective, n_trials=50)\n",
        "\n",
        "# Print the best set of hyperparameters found by optuna and the corresponding f1 score on the validation data.\n",
        "print('Best trial:')\n",
        "best_trial = study.best_trial\n",
        "print(f'  Value: {-best_trial.value:.5f}')\n",
        "print('  Params: ')\n",
        "for key, value in best_trial.params.items():\n",
        "    print(f'    {key}: {value}')\n",
        "\n",
        "# Train the model with the best hyperparameters found by optuna and evaluate it on the test data.\n",
        "best_dropout = best_trial.params['dropout']\n",
        "best_n_epochs = best_trial.params['n_epochs']\n",
        "best_learning_rate = best_trial.params['learning_rate']\n"
      ],
      "metadata": {
        "id": "KLKt3auyspaK"
      },
      "execution_count": null,
      "outputs": []
    },
    {
      "cell_type": "code",
      "source": [
        "# ===========================================\n",
        "# ||                                       ||\n",
        "# ||       Section 4: train the model      ||\n",
        "# ||                                       ||\n",
        "# ===========================================\n",
        "\n",
        "# Create a text classification learner using the fastai library.\n",
        "learn = text_classifier_learner(dls, AWD_LSTM, drop_mult=best_dropout, metrics=accuracy)\n",
        "\n",
        "# Fine-tune the neural network for four epochs using stochastic gradient descent\n",
        "learn.fine_tune(best_n_epochs, best_learning_rate, cbs=[ShowGraphCallback()])\n"
      ],
      "metadata": {
        "id": "zicLpN0rsu03"
      },
      "execution_count": null,
      "outputs": []
    },
    {
      "cell_type": "code",
      "source": [
        "# ===========================================\n",
        "# ||                                       ||\n",
        "# ||       Section 5: testing the model    ||\n",
        "# ||                                       ||\n",
        "# ===========================================\n",
        "\n",
        "# Create a test dataloader from the test data using the `test_dl` method of the `dls` dataloaders object.\n",
        "test_dl = dls.test_dl(test_df['text'])\n",
        "\n",
        "# Get the predicted probabilities for the test data using the trained model.\n",
        "preds, _ = learn.get_preds(dl=test_dl)\n",
        "\n",
        "# Get the predicted labels for the test data.\n",
        "predicted_labels = preds.argmax(dim=1)\n",
        "\n",
        "# Convert the predicted labels to Python list and get the corresponding class names.\n",
        "predicted_classes = [dls.vocab[i] for i in predicted_labels]\n",
        "\n",
        "# Convert the predicted classes list to a tensor.\n",
        "predicted_classes_tensor = torch.tensor(predicted_labels)\n",
        "\n",
        "# Reshape the predicted tensor to have the same shape as the target tensor.\n",
        "predicted_classes_tensor = predicted_classes_tensor.unsqueeze(1)\n",
        "\n",
        "# Convert the target labels to a tensor.\n",
        "target_tensor = torch.tensor(test_df[\"target\"].values)\n",
        "\n",
        "# Compute the accuracy and f1 score of the model on the test data using the `accuracy` and `f1_score` functions.\n",
        "acc = accuracy(predicted_classes_tensor, target_tensor)\n",
        "f1 = f1_score(target_tensor, predicted_classes_tensor)\n",
        "\n",
        "# Print the accuracy and f1 score of the model on the test data.\n",
        "print(f\"Test accuracy: {acc}\")\n",
        "print(f\"Test f1 score: {f1}\")"
      ],
      "metadata": {
        "id": "dqE0JsGwsysy"
      },
      "execution_count": null,
      "outputs": []
    }
  ]
}