{
  "nbformat": 4,
  "nbformat_minor": 0,
  "metadata": {
    "colab": {
      "provenance": [],
      "mount_file_id": "1sZ8MjWPXyPRkCab0Ms8AGb3vdaPaieRE",
      "authorship_tag": "ABX9TyP6lEPmPT3Cw0y7RetEStLW",
      "include_colab_link": true
    },
    "kernelspec": {
      "name": "python3",
      "display_name": "Python 3"
    },
    "language_info": {
      "name": "python"
    }
  },
  "cells": [
    {
      "cell_type": "markdown",
      "metadata": {
        "id": "view-in-github",
        "colab_type": "text"
      },
      "source": [
        "<a href=\"https://colab.research.google.com/github/tommasomncttn/NLP-Disaster-Tweet-Detection/blob/main/dataAnalysis.ipynb\" target=\"_parent\"><img src=\"https://colab.research.google.com/assets/colab-badge.svg\" alt=\"Open In Colab\"/></a>"
      ]
    },
    {
      "cell_type": "code",
      "execution_count": null,
      "metadata": {
        "id": "RhDYdT1V4YEb"
      },
      "outputs": [],
      "source": [
        "import pandas as pd\n",
        "import matplotlib.pyplot as plt\n",
        "\n",
        "df = pd.read_csv(\"/content/drive/MyDrive/ML_proj/train.csv\")"
      ]
    },
    {
      "cell_type": "code",
      "source": [
        "print(df.head())\n",
        "print(df.columns)"
      ],
      "metadata": {
        "colab": {
          "base_uri": "https://localhost:8080/"
        },
        "id": "oh90I0lq9F-s",
        "outputId": "ed7d56ee-7179-4a48-b56a-530dbf03c10f"
      },
      "execution_count": null,
      "outputs": [
        {
          "output_type": "stream",
          "name": "stdout",
          "text": [
            "   id keyword location                                               text  \\\n",
            "0   1     NaN      NaN  Our Deeds are the Reason of this #earthquake M...   \n",
            "1   4     NaN      NaN             Forest fire near La Ronge Sask. Canada   \n",
            "2   5     NaN      NaN  All residents asked to 'shelter in place' are ...   \n",
            "3   6     NaN      NaN  13,000 people receive #wildfires evacuation or...   \n",
            "4   7     NaN      NaN  Just got sent this photo from Ruby #Alaska as ...   \n",
            "\n",
            "   target  \n",
            "0       1  \n",
            "1       1  \n",
            "2       1  \n",
            "3       1  \n",
            "4       1  \n",
            "Index(['id', 'keyword', 'location', 'text', 'target'], dtype='object')\n"
          ]
        }
      ]
    },
    {
      "cell_type": "code",
      "source": [
        "#count how many positives and negatives lables in the dataset\n",
        "target_counts = df['target'].value_counts()\n",
        "\n",
        "# bar plot \n",
        "bar_plt = target_counts.plot(kind='bar')\n",
        "\n",
        "bar_plt.set_title(\"True vs False targets\")\n",
        "bar_plt.set_ylabel(\"Counts\")\n",
        "\n",
        "for i, v in enumerate(target_counts):\n",
        "    bar_plt.text(i, v+1, str(v), ha='center')\n",
        "\n",
        "plt.show()"
      ],
      "metadata": {
        "colab": {
          "base_uri": "https://localhost:8080/",
          "height": 278
        },
        "id": "JgSs-UqJAc7L",
        "outputId": "b2d3c892-d0ad-418b-ea0b-fbd09c7c9e6a"
      },
      "execution_count": null,
      "outputs": [
        {
          "output_type": "display_data",
          "data": {
            "text/plain": [
              "<Figure size 432x288 with 1 Axes>"
            ],
            "image/png": "[encoded data removed]"
          },
          "metadata": {
            "needs_background": "light"
          }
        }
      ]
    },
    {
      "cell_type": "code",
      "source": [
        "prop_missing = df.isna().mean()\n",
        "sum_missing = df.isna().sum()\n",
        "\n",
        "# one row and two columns of subplots\n",
        "fig, axs = plt.subplots(1, 2, figsize=(12, 4))\n",
        "\n",
        "#barchart of PROPORTION of missing values\n",
        "axs[0].bar(prop_missing.index, prop_missing)\n",
        "axs[0].set_title('Proportion of Missing Values in Each Column')\n",
        "axs[0].set_xlabel('Columns')\n",
        "axs[0].set_ylabel('Proportion of Missing Values')\n",
        "for i, v in enumerate(prop_missing):\n",
        "    axs[0].annotate(f\"{v:.2%}\", xy=(i, v), ha='center', va='bottom')\n",
        "\n",
        "#barchart of NUMBER of missing values\n",
        "axs[1].bar(sum_missing.index, sum_missing)\n",
        "axs[1].set_title('Number of Missing Values in Each Column')\n",
        "axs[1].set_xlabel('Columns')\n",
        "axs[1].set_ylabel('Number of Missing Values')\n",
        "for i, v in enumerate(sum_missing):\n",
        "    axs[1].annotate(v, xy=(i, v), ha='center')\n",
        "\n",
        "# display the plot\n",
        "fig.subplots_adjust(wspace=0.3)\n",
        "plt.show()"
      ],
      "metadata": {
        "colab": {
          "base_uri": "https://localhost:8080/",
          "height": 295
        },
        "id": "D4zzzXpQQI2o",
        "outputId": "888b86c6-92c7-474f-c3ee-52416cb71f4c"
      },
      "execution_count": null,
      "outputs": [
        {
          "output_type": "display_data",
          "data": {
            "text/plain": [
              "<Figure size 864x288 with 2 Axes>"
            ],
            "image/png": "[encoded data removed]"
          },
          "metadata": {
            "needs_background": "light"
          }
        }
      ]
    },
    {
      "cell_type": "code",
      "source": [
        "#looking for the conditional probability of having a positive lablel given the missing location or keyword\n",
        "\n",
        "prob_target_given_keyword = df.loc[df['keyword'].isnull(), 'target'].mean()\n",
        "print(f\"Conditional probability of having a 1 in 'target' column given a null value in 'keyword' column: {prob_target_given_keyword:.2f}\")\n",
        "\n",
        "prob_target_given_keyword = df.loc[df['keyword'].notnull(), 'target'].mean()\n",
        "print(f\"Conditional probability of having a 1 in 'target' column given a  value in 'keyword' column: {prob_target_given_keyword:.2f}\")\n",
        "\n",
        "print(\"\")\n",
        "\n",
        "prob_target_given_location = df.loc[df['location'].isnull(), 'target'].mean()\n",
        "print(f\"Conditional probability of having a 1 in 'target' column given a null value in 'location' column: {prob_target_given_location:.2f}\")\n",
        "\n",
        "prob_target_given_location = df.loc[df['location'].notnull(), 'target'].mean()\n",
        "print(f\"Conditional probability of having a 1 in 'target' column given a value in 'location' column: {prob_target_given_location:.2f}\")\n"
      ],
      "metadata": {
        "colab": {
          "base_uri": "https://localhost:8080/"
        },
        "id": "6exbyQjASZhz",
        "outputId": "5f047ce3-3a3c-4409-b95c-4162895fe1d3"
      },
      "execution_count": null,
      "outputs": [
        {
          "output_type": "stream",
          "name": "stdout",
          "text": [
            "Conditional probability of having a 1 in 'target' column given a null value in 'keyword' column: 0.69\n",
            "Conditional probability of having a 1 in 'target' column given a  value in 'keyword' column: 0.43\n",
            "\n",
            "Conditional probability of having a 1 in 'target' column given a null value in 'location' column: 0.42\n",
            "Conditional probability of having a 1 in 'target' column given a value in 'location' column: 0.43\n"
          ]
        }
      ]
    }
  ]
}